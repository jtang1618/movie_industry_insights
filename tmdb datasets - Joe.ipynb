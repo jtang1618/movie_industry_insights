{
 "cells": [
  {
   "cell_type": "code",
   "execution_count": 49,
   "metadata": {
    "ExecuteTime": {
     "end_time": "2020-06-19T10:26:26.849734Z",
     "start_time": "2020-06-19T10:26:26.840758Z"
    }
   },
   "outputs": [],
   "source": [
    "#necessary libraries and modules to import\n",
    "\n",
    "import requests\n",
    "import json\n",
    "import sqlite3\n",
    "import os\n",
    "import pandas as pd\n",
    "import numpy as np\n",
    "import matplotlib.pyplot as plt\n",
    "import seaborn as sns\n",
    "from glob import glob"
   ]
  },
  {
   "cell_type": "code",
   "execution_count": 50,
   "metadata": {
    "ExecuteTime": {
     "end_time": "2020-06-19T10:26:27.406442Z",
     "start_time": "2020-06-19T10:26:27.390519Z"
    }
   },
   "outputs": [
    {
     "data": {
      "text/plain": [
       "['./zippedData\\\\bom.movie_gross.csv.gz',\n",
       " './zippedData\\\\imdb.name.basics.csv.gz',\n",
       " './zippedData\\\\imdb.title.akas.csv.gz',\n",
       " './zippedData\\\\imdb.title.basics.csv.gz',\n",
       " './zippedData\\\\imdb.title.crew.csv.gz',\n",
       " './zippedData\\\\imdb.title.principals.csv.gz',\n",
       " './zippedData\\\\rt.movie_info.csv.gz',\n",
       " './zippedData\\\\rt.reviews.csv.gz',\n",
       " './zippedData\\\\tmdb.movies.csv.gz',\n",
       " './zippedData\\\\tn.movie_budgets.csv.gz']"
      ]
     },
     "execution_count": 50,
     "metadata": {},
     "output_type": "execute_result"
    }
   ],
   "source": [
    "#importing batch data using os\n",
    "\n",
    "csv_files = glob(\"./zippedData/*.csv.gz\")\n",
    "csv_files"
   ]
  },
  {
   "cell_type": "code",
   "execution_count": 51,
   "metadata": {
    "ExecuteTime": {
     "end_time": "2020-06-19T10:26:31.036107Z",
     "start_time": "2020-06-19T10:26:27.948978Z"
    }
   },
   "outputs": [],
   "source": [
    "# cleaning the filenames\n",
    "\n",
    "csv_files_dict = {} #create a dictionary of datasets\n",
    "for filename in csv_files: #create a for loop to batch clean files\n",
    "    filename_cleaned = os.path.basename(filename).replace(\".csv\", \"\").replace(\".\", \"_\") #remove .csv file extensions\n",
    "    filename_df = pd.read_csv(filename, index_col=0, encoding='utf-8') \n",
    "    csv_files_dict[filename_cleaned] = filename_df #load .csv file as dataframe using col 1 as index and encode in utf-8 and save as the cleaned filename"
   ]
  },
  {
   "cell_type": "code",
   "execution_count": 52,
   "metadata": {
    "ExecuteTime": {
     "end_time": "2020-06-19T10:26:31.283513Z",
     "start_time": "2020-06-19T10:26:31.270548Z"
    }
   },
   "outputs": [
    {
     "name": "stdout",
     "output_type": "stream",
     "text": [
      "dict_keys(['bom_movie_gross_gz', 'imdb_name_basics_gz', 'imdb_title_akas_gz', 'imdb_title_basics_gz', 'imdb_title_crew_gz', 'imdb_title_principals_gz', 'rt_movie_info_gz', 'rt_reviews_gz', 'tmdb_movies_gz', 'tn_movie_budgets_gz'])\n"
     ]
    }
   ],
   "source": [
    "print(csv_files_dict.keys())"
   ]
  },
  {
   "cell_type": "code",
   "execution_count": 53,
   "metadata": {
    "ExecuteTime": {
     "end_time": "2020-06-19T10:26:31.544814Z",
     "start_time": "2020-06-19T10:26:31.516890Z"
    }
   },
   "outputs": [],
   "source": [
    "#loading datasets into dataframes from csv & json files\n",
    "\n",
    "bom_movie_gross_df = csv_files_dict['bom_movie_gross_gz']\n",
    "imdb_name_basics_df = csv_files_dict['imdb_name_basics_gz']\n",
    "imdb_title_akas_df = csv_files_dict['imdb_title_akas_gz']\n",
    "imdb_title_basics_df = csv_files_dict['imdb_title_basics_gz']\n",
    "imdb_title_crew_df = csv_files_dict['imdb_title_crew_gz']\n",
    "imdb_title_principals_df = csv_files_dict['imdb_title_principals_gz']\n",
    "rotten_movie_info_df = csv_files_dict['rt_movie_info_gz']\n",
    "rotten_movie_reviews_df = csv_files_dict['rt_reviews_gz']\n",
    "tmdb_movies_df = csv_files_dict['tmdb_movies_gz']\n",
    "tmdb_genre_ids_df = pd.read_json('tmdb_genre_ids.json')\n",
    "tmdb_languages_df = pd.read_json('tmdb_languages.json')\n",
    "tn_movie_budgets_df = csv_files_dict['tn_movie_budgets_gz']"
   ]
  },
  {
   "cell_type": "code",
   "execution_count": 55,
   "metadata": {
    "ExecuteTime": {
     "end_time": "2020-06-19T10:27:15.303175Z",
     "start_time": "2020-06-19T10:27:15.273214Z"
    }
   },
   "outputs": [
    {
     "data": {
      "text/html": [
       "<div>\n",
       "<style scoped>\n",
       "    .dataframe tbody tr th:only-of-type {\n",
       "        vertical-align: middle;\n",
       "    }\n",
       "\n",
       "    .dataframe tbody tr th {\n",
       "        vertical-align: top;\n",
       "    }\n",
       "\n",
       "    .dataframe thead th {\n",
       "        text-align: right;\n",
       "    }\n",
       "</style>\n",
       "<table border=\"1\" class=\"dataframe\">\n",
       "  <thead>\n",
       "    <tr style=\"text-align: right;\">\n",
       "      <th></th>\n",
       "      <th>genre_ids</th>\n",
       "      <th>id</th>\n",
       "      <th>original_language</th>\n",
       "      <th>original_title</th>\n",
       "      <th>popularity</th>\n",
       "      <th>release_date</th>\n",
       "      <th>title</th>\n",
       "      <th>vote_average</th>\n",
       "      <th>vote_count</th>\n",
       "    </tr>\n",
       "  </thead>\n",
       "  <tbody>\n",
       "    <tr>\n",
       "      <td>0</td>\n",
       "      <td>[12, 14, 10751]</td>\n",
       "      <td>12444</td>\n",
       "      <td>en</td>\n",
       "      <td>Harry Potter and the Deathly Hallows: Part 1</td>\n",
       "      <td>33.533</td>\n",
       "      <td>2010-11-19</td>\n",
       "      <td>Harry Potter and the Deathly Hallows: Part 1</td>\n",
       "      <td>7.7</td>\n",
       "      <td>10788</td>\n",
       "    </tr>\n",
       "    <tr>\n",
       "      <td>1</td>\n",
       "      <td>[14, 12, 16, 10751]</td>\n",
       "      <td>10191</td>\n",
       "      <td>en</td>\n",
       "      <td>How to Train Your Dragon</td>\n",
       "      <td>28.734</td>\n",
       "      <td>2010-03-26</td>\n",
       "      <td>How to Train Your Dragon</td>\n",
       "      <td>7.7</td>\n",
       "      <td>7610</td>\n",
       "    </tr>\n",
       "    <tr>\n",
       "      <td>2</td>\n",
       "      <td>[12, 28, 878]</td>\n",
       "      <td>10138</td>\n",
       "      <td>en</td>\n",
       "      <td>Iron Man 2</td>\n",
       "      <td>28.515</td>\n",
       "      <td>2010-05-07</td>\n",
       "      <td>Iron Man 2</td>\n",
       "      <td>6.8</td>\n",
       "      <td>12368</td>\n",
       "    </tr>\n",
       "    <tr>\n",
       "      <td>3</td>\n",
       "      <td>[16, 35, 10751]</td>\n",
       "      <td>862</td>\n",
       "      <td>en</td>\n",
       "      <td>Toy Story</td>\n",
       "      <td>28.005</td>\n",
       "      <td>1995-11-22</td>\n",
       "      <td>Toy Story</td>\n",
       "      <td>7.9</td>\n",
       "      <td>10174</td>\n",
       "    </tr>\n",
       "    <tr>\n",
       "      <td>4</td>\n",
       "      <td>[28, 878, 12]</td>\n",
       "      <td>27205</td>\n",
       "      <td>en</td>\n",
       "      <td>Inception</td>\n",
       "      <td>27.920</td>\n",
       "      <td>2010-07-16</td>\n",
       "      <td>Inception</td>\n",
       "      <td>8.3</td>\n",
       "      <td>22186</td>\n",
       "    </tr>\n",
       "    <tr>\n",
       "      <td>...</td>\n",
       "      <td>...</td>\n",
       "      <td>...</td>\n",
       "      <td>...</td>\n",
       "      <td>...</td>\n",
       "      <td>...</td>\n",
       "      <td>...</td>\n",
       "      <td>...</td>\n",
       "      <td>...</td>\n",
       "      <td>...</td>\n",
       "    </tr>\n",
       "    <tr>\n",
       "      <td>26512</td>\n",
       "      <td>[27, 18]</td>\n",
       "      <td>488143</td>\n",
       "      <td>en</td>\n",
       "      <td>Laboratory Conditions</td>\n",
       "      <td>0.600</td>\n",
       "      <td>2018-10-13</td>\n",
       "      <td>Laboratory Conditions</td>\n",
       "      <td>0.0</td>\n",
       "      <td>1</td>\n",
       "    </tr>\n",
       "    <tr>\n",
       "      <td>26513</td>\n",
       "      <td>[18, 53]</td>\n",
       "      <td>485975</td>\n",
       "      <td>en</td>\n",
       "      <td>_EXHIBIT_84xxx_</td>\n",
       "      <td>0.600</td>\n",
       "      <td>2018-05-01</td>\n",
       "      <td>_EXHIBIT_84xxx_</td>\n",
       "      <td>0.0</td>\n",
       "      <td>1</td>\n",
       "    </tr>\n",
       "    <tr>\n",
       "      <td>26514</td>\n",
       "      <td>[14, 28, 12]</td>\n",
       "      <td>381231</td>\n",
       "      <td>en</td>\n",
       "      <td>The Last One</td>\n",
       "      <td>0.600</td>\n",
       "      <td>2018-10-01</td>\n",
       "      <td>The Last One</td>\n",
       "      <td>0.0</td>\n",
       "      <td>1</td>\n",
       "    </tr>\n",
       "    <tr>\n",
       "      <td>26515</td>\n",
       "      <td>[10751, 12, 28]</td>\n",
       "      <td>366854</td>\n",
       "      <td>en</td>\n",
       "      <td>Trailer Made</td>\n",
       "      <td>0.600</td>\n",
       "      <td>2018-06-22</td>\n",
       "      <td>Trailer Made</td>\n",
       "      <td>0.0</td>\n",
       "      <td>1</td>\n",
       "    </tr>\n",
       "    <tr>\n",
       "      <td>26516</td>\n",
       "      <td>[53, 27]</td>\n",
       "      <td>309885</td>\n",
       "      <td>en</td>\n",
       "      <td>The Church</td>\n",
       "      <td>0.600</td>\n",
       "      <td>2018-10-05</td>\n",
       "      <td>The Church</td>\n",
       "      <td>0.0</td>\n",
       "      <td>1</td>\n",
       "    </tr>\n",
       "  </tbody>\n",
       "</table>\n",
       "<p>26517 rows × 9 columns</p>\n",
       "</div>"
      ],
      "text/plain": [
       "                 genre_ids      id original_language  \\\n",
       "0          [12, 14, 10751]   12444                en   \n",
       "1      [14, 12, 16, 10751]   10191                en   \n",
       "2            [12, 28, 878]   10138                en   \n",
       "3          [16, 35, 10751]     862                en   \n",
       "4            [28, 878, 12]   27205                en   \n",
       "...                    ...     ...               ...   \n",
       "26512             [27, 18]  488143                en   \n",
       "26513             [18, 53]  485975                en   \n",
       "26514         [14, 28, 12]  381231                en   \n",
       "26515      [10751, 12, 28]  366854                en   \n",
       "26516             [53, 27]  309885                en   \n",
       "\n",
       "                                     original_title  popularity release_date  \\\n",
       "0      Harry Potter and the Deathly Hallows: Part 1      33.533   2010-11-19   \n",
       "1                          How to Train Your Dragon      28.734   2010-03-26   \n",
       "2                                        Iron Man 2      28.515   2010-05-07   \n",
       "3                                         Toy Story      28.005   1995-11-22   \n",
       "4                                         Inception      27.920   2010-07-16   \n",
       "...                                             ...         ...          ...   \n",
       "26512                         Laboratory Conditions       0.600   2018-10-13   \n",
       "26513                               _EXHIBIT_84xxx_       0.600   2018-05-01   \n",
       "26514                                  The Last One       0.600   2018-10-01   \n",
       "26515                                  Trailer Made       0.600   2018-06-22   \n",
       "26516                                    The Church       0.600   2018-10-05   \n",
       "\n",
       "                                              title  vote_average  vote_count  \n",
       "0      Harry Potter and the Deathly Hallows: Part 1           7.7       10788  \n",
       "1                          How to Train Your Dragon           7.7        7610  \n",
       "2                                        Iron Man 2           6.8       12368  \n",
       "3                                         Toy Story           7.9       10174  \n",
       "4                                         Inception           8.3       22186  \n",
       "...                                             ...           ...         ...  \n",
       "26512                         Laboratory Conditions           0.0           1  \n",
       "26513                               _EXHIBIT_84xxx_           0.0           1  \n",
       "26514                                  The Last One           0.0           1  \n",
       "26515                                  Trailer Made           0.0           1  \n",
       "26516                                    The Church           0.0           1  \n",
       "\n",
       "[26517 rows x 9 columns]"
      ]
     },
     "execution_count": 55,
     "metadata": {},
     "output_type": "execute_result"
    }
   ],
   "source": [
    "tmdb_movies_df"
   ]
  },
  {
   "cell_type": "code",
   "execution_count": 56,
   "metadata": {
    "ExecuteTime": {
     "end_time": "2020-06-19T10:27:15.860660Z",
     "start_time": "2020-06-19T10:27:15.850704Z"
    }
   },
   "outputs": [
    {
     "data": {
      "text/html": [
       "<div>\n",
       "<style scoped>\n",
       "    .dataframe tbody tr th:only-of-type {\n",
       "        vertical-align: middle;\n",
       "    }\n",
       "\n",
       "    .dataframe tbody tr th {\n",
       "        vertical-align: top;\n",
       "    }\n",
       "\n",
       "    .dataframe thead th {\n",
       "        text-align: right;\n",
       "    }\n",
       "</style>\n",
       "<table border=\"1\" class=\"dataframe\">\n",
       "  <thead>\n",
       "    <tr style=\"text-align: right;\">\n",
       "      <th></th>\n",
       "      <th>genres</th>\n",
       "    </tr>\n",
       "  </thead>\n",
       "  <tbody>\n",
       "    <tr>\n",
       "      <td>0</td>\n",
       "      <td>{'id': 28, 'name': 'Action'}</td>\n",
       "    </tr>\n",
       "    <tr>\n",
       "      <td>1</td>\n",
       "      <td>{'id': 12, 'name': 'Adventure'}</td>\n",
       "    </tr>\n",
       "    <tr>\n",
       "      <td>2</td>\n",
       "      <td>{'id': 16, 'name': 'Animation'}</td>\n",
       "    </tr>\n",
       "    <tr>\n",
       "      <td>3</td>\n",
       "      <td>{'id': 35, 'name': 'Comedy'}</td>\n",
       "    </tr>\n",
       "    <tr>\n",
       "      <td>4</td>\n",
       "      <td>{'id': 80, 'name': 'Crime'}</td>\n",
       "    </tr>\n",
       "    <tr>\n",
       "      <td>5</td>\n",
       "      <td>{'id': 99, 'name': 'Documentary'}</td>\n",
       "    </tr>\n",
       "    <tr>\n",
       "      <td>6</td>\n",
       "      <td>{'id': 18, 'name': 'Drama'}</td>\n",
       "    </tr>\n",
       "    <tr>\n",
       "      <td>7</td>\n",
       "      <td>{'id': 10751, 'name': 'Family'}</td>\n",
       "    </tr>\n",
       "    <tr>\n",
       "      <td>8</td>\n",
       "      <td>{'id': 14, 'name': 'Fantasy'}</td>\n",
       "    </tr>\n",
       "    <tr>\n",
       "      <td>9</td>\n",
       "      <td>{'id': 36, 'name': 'History'}</td>\n",
       "    </tr>\n",
       "    <tr>\n",
       "      <td>10</td>\n",
       "      <td>{'id': 27, 'name': 'Horror'}</td>\n",
       "    </tr>\n",
       "    <tr>\n",
       "      <td>11</td>\n",
       "      <td>{'id': 10402, 'name': 'Music'}</td>\n",
       "    </tr>\n",
       "    <tr>\n",
       "      <td>12</td>\n",
       "      <td>{'id': 9648, 'name': 'Mystery'}</td>\n",
       "    </tr>\n",
       "    <tr>\n",
       "      <td>13</td>\n",
       "      <td>{'id': 10749, 'name': 'Romance'}</td>\n",
       "    </tr>\n",
       "    <tr>\n",
       "      <td>14</td>\n",
       "      <td>{'id': 878, 'name': 'Science Fiction'}</td>\n",
       "    </tr>\n",
       "    <tr>\n",
       "      <td>15</td>\n",
       "      <td>{'id': 10770, 'name': 'TV Movie'}</td>\n",
       "    </tr>\n",
       "    <tr>\n",
       "      <td>16</td>\n",
       "      <td>{'id': 53, 'name': 'Thriller'}</td>\n",
       "    </tr>\n",
       "    <tr>\n",
       "      <td>17</td>\n",
       "      <td>{'id': 10752, 'name': 'War'}</td>\n",
       "    </tr>\n",
       "    <tr>\n",
       "      <td>18</td>\n",
       "      <td>{'id': 37, 'name': 'Western'}</td>\n",
       "    </tr>\n",
       "  </tbody>\n",
       "</table>\n",
       "</div>"
      ],
      "text/plain": [
       "                                    genres\n",
       "0             {'id': 28, 'name': 'Action'}\n",
       "1          {'id': 12, 'name': 'Adventure'}\n",
       "2          {'id': 16, 'name': 'Animation'}\n",
       "3             {'id': 35, 'name': 'Comedy'}\n",
       "4              {'id': 80, 'name': 'Crime'}\n",
       "5        {'id': 99, 'name': 'Documentary'}\n",
       "6              {'id': 18, 'name': 'Drama'}\n",
       "7          {'id': 10751, 'name': 'Family'}\n",
       "8            {'id': 14, 'name': 'Fantasy'}\n",
       "9            {'id': 36, 'name': 'History'}\n",
       "10            {'id': 27, 'name': 'Horror'}\n",
       "11          {'id': 10402, 'name': 'Music'}\n",
       "12         {'id': 9648, 'name': 'Mystery'}\n",
       "13        {'id': 10749, 'name': 'Romance'}\n",
       "14  {'id': 878, 'name': 'Science Fiction'}\n",
       "15       {'id': 10770, 'name': 'TV Movie'}\n",
       "16          {'id': 53, 'name': 'Thriller'}\n",
       "17            {'id': 10752, 'name': 'War'}\n",
       "18           {'id': 37, 'name': 'Western'}"
      ]
     },
     "execution_count": 56,
     "metadata": {},
     "output_type": "execute_result"
    }
   ],
   "source": [
    "tmdb_genre_ids_df"
   ]
  },
  {
   "cell_type": "code",
   "execution_count": 54,
   "metadata": {
    "ExecuteTime": {
     "end_time": "2020-06-19T10:26:31.777192Z",
     "start_time": "2020-06-19T10:26:31.762232Z"
    }
   },
   "outputs": [
    {
     "data": {
      "text/html": [
       "<div>\n",
       "<style scoped>\n",
       "    .dataframe tbody tr th:only-of-type {\n",
       "        vertical-align: middle;\n",
       "    }\n",
       "\n",
       "    .dataframe tbody tr th {\n",
       "        vertical-align: top;\n",
       "    }\n",
       "\n",
       "    .dataframe thead th {\n",
       "        text-align: right;\n",
       "    }\n",
       "</style>\n",
       "<table border=\"1\" class=\"dataframe\">\n",
       "  <thead>\n",
       "    <tr style=\"text-align: right;\">\n",
       "      <th></th>\n",
       "      <th>iso_639_1</th>\n",
       "      <th>english_name</th>\n",
       "      <th>name</th>\n",
       "    </tr>\n",
       "  </thead>\n",
       "  <tbody>\n",
       "    <tr>\n",
       "      <td>0</td>\n",
       "      <td>xx</td>\n",
       "      <td>No Language</td>\n",
       "      <td>No Language</td>\n",
       "    </tr>\n",
       "    <tr>\n",
       "      <td>1</td>\n",
       "      <td>aa</td>\n",
       "      <td>Afar</td>\n",
       "      <td></td>\n",
       "    </tr>\n",
       "    <tr>\n",
       "      <td>2</td>\n",
       "      <td>af</td>\n",
       "      <td>Afrikaans</td>\n",
       "      <td>Afrikaans</td>\n",
       "    </tr>\n",
       "    <tr>\n",
       "      <td>3</td>\n",
       "      <td>ak</td>\n",
       "      <td>Akan</td>\n",
       "      <td></td>\n",
       "    </tr>\n",
       "    <tr>\n",
       "      <td>4</td>\n",
       "      <td>an</td>\n",
       "      <td>Aragonese</td>\n",
       "      <td></td>\n",
       "    </tr>\n",
       "    <tr>\n",
       "      <td>...</td>\n",
       "      <td>...</td>\n",
       "      <td>...</td>\n",
       "      <td>...</td>\n",
       "    </tr>\n",
       "    <tr>\n",
       "      <td>182</td>\n",
       "      <td>bn</td>\n",
       "      <td>Bengali</td>\n",
       "      <td>বাংলা</td>\n",
       "    </tr>\n",
       "    <tr>\n",
       "      <td>183</td>\n",
       "      <td>bs</td>\n",
       "      <td>Bosnian</td>\n",
       "      <td>Bosanski</td>\n",
       "    </tr>\n",
       "    <tr>\n",
       "      <td>184</td>\n",
       "      <td>ch</td>\n",
       "      <td>Chamorro</td>\n",
       "      <td>Finu' Chamorro</td>\n",
       "    </tr>\n",
       "    <tr>\n",
       "      <td>185</td>\n",
       "      <td>be</td>\n",
       "      <td>Belarusian</td>\n",
       "      <td>беларуская мова</td>\n",
       "    </tr>\n",
       "    <tr>\n",
       "      <td>186</td>\n",
       "      <td>yo</td>\n",
       "      <td>Yoruba</td>\n",
       "      <td>Èdè Yorùbá</td>\n",
       "    </tr>\n",
       "  </tbody>\n",
       "</table>\n",
       "<p>187 rows × 3 columns</p>\n",
       "</div>"
      ],
      "text/plain": [
       "    iso_639_1 english_name             name\n",
       "0          xx  No Language      No Language\n",
       "1          aa         Afar                 \n",
       "2          af    Afrikaans        Afrikaans\n",
       "3          ak         Akan                 \n",
       "4          an    Aragonese                 \n",
       "..        ...          ...              ...\n",
       "182        bn      Bengali            বাংলা\n",
       "183        bs      Bosnian         Bosanski\n",
       "184        ch     Chamorro   Finu' Chamorro\n",
       "185        be   Belarusian  беларуская мова\n",
       "186        yo       Yoruba       Èdè Yorùbá\n",
       "\n",
       "[187 rows x 3 columns]"
      ]
     },
     "execution_count": 54,
     "metadata": {},
     "output_type": "execute_result"
    }
   ],
   "source": [
    "tmdb_languages_df"
   ]
  },
  {
   "cell_type": "code",
   "execution_count": null,
   "metadata": {},
   "outputs": [],
   "source": []
  },
  {
   "cell_type": "code",
   "execution_count": null,
   "metadata": {},
   "outputs": [],
   "source": []
  },
  {
   "cell_type": "code",
   "execution_count": null,
   "metadata": {},
   "outputs": [],
   "source": []
  },
  {
   "cell_type": "code",
   "execution_count": 12,
   "metadata": {
    "ExecuteTime": {
     "end_time": "2020-06-19T08:35:29.322449Z",
     "start_time": "2020-06-19T08:35:29.318459Z"
    }
   },
   "outputs": [
    {
     "name": "stdout",
     "output_type": "stream",
     "text": [
      "C:\\Users\\jtang\\Flatiron-Git\\mod1\\mod1_project\\movie_industry_insights\n"
     ]
    }
   ],
   "source": [
    "print(os.getcwd())"
   ]
  },
  {
   "cell_type": "code",
   "execution_count": 58,
   "metadata": {
    "ExecuteTime": {
     "end_time": "2020-06-19T10:46:44.818754Z",
     "start_time": "2020-06-19T10:46:44.795971Z"
    }
   },
   "outputs": [],
   "source": [
    "#setup for API key from config.py\n",
    "\n",
    "from config import joe_key_tmdb"
   ]
  },
  {
   "cell_type": "code",
   "execution_count": 60,
   "metadata": {
    "ExecuteTime": {
     "end_time": "2020-06-19T10:48:13.821303Z",
     "start_time": "2020-06-19T10:48:13.564114Z"
    }
   },
   "outputs": [],
   "source": [
    "#request api as json and set filename\n",
    "\n",
    "tmdb_languages_json = requests.get('https://api.themoviedb.org/3/configuration/languages?api_key={}'.format(joe_key_tmdb)).json()"
   ]
  },
  {
   "cell_type": "code",
   "execution_count": 61,
   "metadata": {
    "ExecuteTime": {
     "end_time": "2020-06-19T10:48:21.897600Z",
     "start_time": "2020-06-19T10:48:21.884648Z"
    }
   },
   "outputs": [
    {
     "data": {
      "text/plain": [
       "[{'iso_639_1': 'xx', 'english_name': 'No Language', 'name': 'No Language'},\n",
       " {'iso_639_1': 'aa', 'english_name': 'Afar', 'name': ''},\n",
       " {'iso_639_1': 'af', 'english_name': 'Afrikaans', 'name': 'Afrikaans'},\n",
       " {'iso_639_1': 'ak', 'english_name': 'Akan', 'name': ''},\n",
       " {'iso_639_1': 'an', 'english_name': 'Aragonese', 'name': ''},\n",
       " {'iso_639_1': 'as', 'english_name': 'Assamese', 'name': ''},\n",
       " {'iso_639_1': 'av', 'english_name': 'Avaric', 'name': ''},\n",
       " {'iso_639_1': 'ae', 'english_name': 'Avestan', 'name': ''},\n",
       " {'iso_639_1': 'ay', 'english_name': 'Aymara', 'name': ''},\n",
       " {'iso_639_1': 'az', 'english_name': 'Azerbaijani', 'name': 'Azərbaycan'},\n",
       " {'iso_639_1': 'ba', 'english_name': 'Bashkir', 'name': ''},\n",
       " {'iso_639_1': 'bm', 'english_name': 'Bambara', 'name': 'Bamanankan'},\n",
       " {'iso_639_1': 'bi', 'english_name': 'Bislama', 'name': ''},\n",
       " {'iso_639_1': 'bo', 'english_name': 'Tibetan', 'name': ''},\n",
       " {'iso_639_1': 'br', 'english_name': 'Breton', 'name': ''},\n",
       " {'iso_639_1': 'ca', 'english_name': 'Catalan', 'name': 'Català'},\n",
       " {'iso_639_1': 'cs', 'english_name': 'Czech', 'name': 'Český'},\n",
       " {'iso_639_1': 'ce', 'english_name': 'Chechen', 'name': ''},\n",
       " {'iso_639_1': 'cu', 'english_name': 'Slavic', 'name': ''},\n",
       " {'iso_639_1': 'cv', 'english_name': 'Chuvash', 'name': ''},\n",
       " {'iso_639_1': 'kw', 'english_name': 'Cornish', 'name': ''},\n",
       " {'iso_639_1': 'co', 'english_name': 'Corsican', 'name': ''},\n",
       " {'iso_639_1': 'cr', 'english_name': 'Cree', 'name': ''},\n",
       " {'iso_639_1': 'cy', 'english_name': 'Welsh', 'name': 'Cymraeg'},\n",
       " {'iso_639_1': 'da', 'english_name': 'Danish', 'name': 'Dansk'},\n",
       " {'iso_639_1': 'de', 'english_name': 'German', 'name': 'Deutsch'},\n",
       " {'iso_639_1': 'dv', 'english_name': 'Divehi', 'name': ''},\n",
       " {'iso_639_1': 'dz', 'english_name': 'Dzongkha', 'name': ''},\n",
       " {'iso_639_1': 'eo', 'english_name': 'Esperanto', 'name': 'Esperanto'},\n",
       " {'iso_639_1': 'et', 'english_name': 'Estonian', 'name': 'Eesti'},\n",
       " {'iso_639_1': 'eu', 'english_name': 'Basque', 'name': 'euskera'},\n",
       " {'iso_639_1': 'fo', 'english_name': 'Faroese', 'name': ''},\n",
       " {'iso_639_1': 'fj', 'english_name': 'Fijian', 'name': ''},\n",
       " {'iso_639_1': 'fi', 'english_name': 'Finnish', 'name': 'suomi'},\n",
       " {'iso_639_1': 'fr', 'english_name': 'French', 'name': 'Français'},\n",
       " {'iso_639_1': 'fy', 'english_name': 'Frisian', 'name': ''},\n",
       " {'iso_639_1': 'ff', 'english_name': 'Fulah', 'name': 'Fulfulde'},\n",
       " {'iso_639_1': 'gd', 'english_name': 'Gaelic', 'name': ''},\n",
       " {'iso_639_1': 'ga', 'english_name': 'Irish', 'name': 'Gaeilge'},\n",
       " {'iso_639_1': 'gl', 'english_name': 'Galician', 'name': 'Galego'},\n",
       " {'iso_639_1': 'gv', 'english_name': 'Manx', 'name': ''},\n",
       " {'iso_639_1': 'gn', 'english_name': 'Guarani', 'name': ''},\n",
       " {'iso_639_1': 'gu', 'english_name': 'Gujarati', 'name': ''},\n",
       " {'iso_639_1': 'ht', 'english_name': 'Haitian; Haitian Creole', 'name': ''},\n",
       " {'iso_639_1': 'ha', 'english_name': 'Hausa', 'name': 'Hausa'},\n",
       " {'iso_639_1': 'sh', 'english_name': 'Serbo-Croatian', 'name': ''},\n",
       " {'iso_639_1': 'hz', 'english_name': 'Herero', 'name': ''},\n",
       " {'iso_639_1': 'ho', 'english_name': 'Hiri Motu', 'name': ''},\n",
       " {'iso_639_1': 'hr', 'english_name': 'Croatian', 'name': 'Hrvatski'},\n",
       " {'iso_639_1': 'hu', 'english_name': 'Hungarian', 'name': 'Magyar'},\n",
       " {'iso_639_1': 'ig', 'english_name': 'Igbo', 'name': ''},\n",
       " {'iso_639_1': 'io', 'english_name': 'Ido', 'name': ''},\n",
       " {'iso_639_1': 'ii', 'english_name': 'Yi', 'name': ''},\n",
       " {'iso_639_1': 'iu', 'english_name': 'Inuktitut', 'name': ''},\n",
       " {'iso_639_1': 'ie', 'english_name': 'Interlingue', 'name': ''},\n",
       " {'iso_639_1': 'ia', 'english_name': 'Interlingua', 'name': ''},\n",
       " {'iso_639_1': 'id', 'english_name': 'Indonesian', 'name': 'Bahasa indonesia'},\n",
       " {'iso_639_1': 'ik', 'english_name': 'Inupiaq', 'name': ''},\n",
       " {'iso_639_1': 'is', 'english_name': 'Icelandic', 'name': 'Íslenska'},\n",
       " {'iso_639_1': 'it', 'english_name': 'Italian', 'name': 'Italiano'},\n",
       " {'iso_639_1': 'jv', 'english_name': 'Javanese', 'name': ''},\n",
       " {'iso_639_1': 'ja', 'english_name': 'Japanese', 'name': '日本語'},\n",
       " {'iso_639_1': 'kl', 'english_name': 'Kalaallisut', 'name': ''},\n",
       " {'iso_639_1': 'kn', 'english_name': 'Kannada', 'name': '?????'},\n",
       " {'iso_639_1': 'ks', 'english_name': 'Kashmiri', 'name': ''},\n",
       " {'iso_639_1': 'kr', 'english_name': 'Kanuri', 'name': ''},\n",
       " {'iso_639_1': 'kk', 'english_name': 'Kazakh', 'name': 'қазақ'},\n",
       " {'iso_639_1': 'km', 'english_name': 'Khmer', 'name': ''},\n",
       " {'iso_639_1': 'ki', 'english_name': 'Kikuyu', 'name': ''},\n",
       " {'iso_639_1': 'rw', 'english_name': 'Kinyarwanda', 'name': 'Kinyarwanda'},\n",
       " {'iso_639_1': 'ky', 'english_name': 'Kirghiz', 'name': '??????'},\n",
       " {'iso_639_1': 'kv', 'english_name': 'Komi', 'name': ''},\n",
       " {'iso_639_1': 'kg', 'english_name': 'Kongo', 'name': ''},\n",
       " {'iso_639_1': 'ko', 'english_name': 'Korean', 'name': '한국어/조선말'},\n",
       " {'iso_639_1': 'kj', 'english_name': 'Kuanyama', 'name': ''},\n",
       " {'iso_639_1': 'ku', 'english_name': 'Kurdish', 'name': ''},\n",
       " {'iso_639_1': 'lo', 'english_name': 'Lao', 'name': ''},\n",
       " {'iso_639_1': 'la', 'english_name': 'Latin', 'name': 'Latin'},\n",
       " {'iso_639_1': 'lv', 'english_name': 'Latvian', 'name': 'Latviešu'},\n",
       " {'iso_639_1': 'li', 'english_name': 'Limburgish', 'name': ''},\n",
       " {'iso_639_1': 'ln', 'english_name': 'Lingala', 'name': ''},\n",
       " {'iso_639_1': 'lt', 'english_name': 'Lithuanian', 'name': 'Lietuvių'},\n",
       " {'iso_639_1': 'lb', 'english_name': 'Letzeburgesch', 'name': ''},\n",
       " {'iso_639_1': 'lu', 'english_name': 'Luba-Katanga', 'name': ''},\n",
       " {'iso_639_1': 'lg', 'english_name': 'Ganda', 'name': ''},\n",
       " {'iso_639_1': 'mh', 'english_name': 'Marshall', 'name': ''},\n",
       " {'iso_639_1': 'ml', 'english_name': 'Malayalam', 'name': ''},\n",
       " {'iso_639_1': 'mr', 'english_name': 'Marathi', 'name': ''},\n",
       " {'iso_639_1': 'mg', 'english_name': 'Malagasy', 'name': ''},\n",
       " {'iso_639_1': 'mt', 'english_name': 'Maltese', 'name': 'Malti'},\n",
       " {'iso_639_1': 'mo', 'english_name': 'Moldavian', 'name': ''},\n",
       " {'iso_639_1': 'mn', 'english_name': 'Mongolian', 'name': ''},\n",
       " {'iso_639_1': 'mi', 'english_name': 'Maori', 'name': ''},\n",
       " {'iso_639_1': 'ms', 'english_name': 'Malay', 'name': 'Bahasa melayu'},\n",
       " {'iso_639_1': 'my', 'english_name': 'Burmese', 'name': ''},\n",
       " {'iso_639_1': 'na', 'english_name': 'Nauru', 'name': ''},\n",
       " {'iso_639_1': 'nv', 'english_name': 'Navajo', 'name': ''},\n",
       " {'iso_639_1': 'nr', 'english_name': 'Ndebele', 'name': ''},\n",
       " {'iso_639_1': 'nd', 'english_name': 'Ndebele', 'name': ''},\n",
       " {'iso_639_1': 'ng', 'english_name': 'Ndonga', 'name': ''},\n",
       " {'iso_639_1': 'ne', 'english_name': 'Nepali', 'name': ''},\n",
       " {'iso_639_1': 'nl', 'english_name': 'Dutch', 'name': 'Nederlands'},\n",
       " {'iso_639_1': 'nn', 'english_name': 'Norwegian Nynorsk', 'name': ''},\n",
       " {'iso_639_1': 'nb', 'english_name': 'Norwegian Bokmål', 'name': 'Bokmål'},\n",
       " {'iso_639_1': 'no', 'english_name': 'Norwegian', 'name': 'Norsk'},\n",
       " {'iso_639_1': 'ny', 'english_name': 'Chichewa; Nyanja', 'name': ''},\n",
       " {'iso_639_1': 'oc', 'english_name': 'Occitan', 'name': ''},\n",
       " {'iso_639_1': 'oj', 'english_name': 'Ojibwa', 'name': ''},\n",
       " {'iso_639_1': 'or', 'english_name': 'Oriya', 'name': ''},\n",
       " {'iso_639_1': 'om', 'english_name': 'Oromo', 'name': ''},\n",
       " {'iso_639_1': 'os', 'english_name': 'Ossetian; Ossetic', 'name': ''},\n",
       " {'iso_639_1': 'pi', 'english_name': 'Pali', 'name': ''},\n",
       " {'iso_639_1': 'pl', 'english_name': 'Polish', 'name': 'Polski'},\n",
       " {'iso_639_1': 'pt', 'english_name': 'Portuguese', 'name': 'Português'},\n",
       " {'iso_639_1': 'qu', 'english_name': 'Quechua', 'name': ''},\n",
       " {'iso_639_1': 'rm', 'english_name': 'Raeto-Romance', 'name': ''},\n",
       " {'iso_639_1': 'ro', 'english_name': 'Romanian', 'name': 'Română'},\n",
       " {'iso_639_1': 'rn', 'english_name': 'Rundi', 'name': 'Kirundi'},\n",
       " {'iso_639_1': 'ru', 'english_name': 'Russian', 'name': 'Pусский'},\n",
       " {'iso_639_1': 'sg', 'english_name': 'Sango', 'name': ''},\n",
       " {'iso_639_1': 'sa', 'english_name': 'Sanskrit', 'name': ''},\n",
       " {'iso_639_1': 'si', 'english_name': 'Sinhalese', 'name': 'සිංහල'},\n",
       " {'iso_639_1': 'sk', 'english_name': 'Slovak', 'name': 'Slovenčina'},\n",
       " {'iso_639_1': 'sl', 'english_name': 'Slovenian', 'name': 'Slovenščina'},\n",
       " {'iso_639_1': 'se', 'english_name': 'Northern Sami', 'name': ''},\n",
       " {'iso_639_1': 'sm', 'english_name': 'Samoan', 'name': ''},\n",
       " {'iso_639_1': 'sn', 'english_name': 'Shona', 'name': ''},\n",
       " {'iso_639_1': 'sd', 'english_name': 'Sindhi', 'name': ''},\n",
       " {'iso_639_1': 'so', 'english_name': 'Somali', 'name': 'Somali'},\n",
       " {'iso_639_1': 'st', 'english_name': 'Sotho', 'name': ''},\n",
       " {'iso_639_1': 'es', 'english_name': 'Spanish', 'name': 'Español'},\n",
       " {'iso_639_1': 'sq', 'english_name': 'Albanian', 'name': 'shqip'},\n",
       " {'iso_639_1': 'sc', 'english_name': 'Sardinian', 'name': ''},\n",
       " {'iso_639_1': 'sr', 'english_name': 'Serbian', 'name': 'Srpski'},\n",
       " {'iso_639_1': 'ss', 'english_name': 'Swati', 'name': ''},\n",
       " {'iso_639_1': 'su', 'english_name': 'Sundanese', 'name': ''},\n",
       " {'iso_639_1': 'sw', 'english_name': 'Swahili', 'name': 'Kiswahili'},\n",
       " {'iso_639_1': 'sv', 'english_name': 'Swedish', 'name': 'svenska'},\n",
       " {'iso_639_1': 'ty', 'english_name': 'Tahitian', 'name': ''},\n",
       " {'iso_639_1': 'ta', 'english_name': 'Tamil', 'name': 'தமிழ்'},\n",
       " {'iso_639_1': 'tt', 'english_name': 'Tatar', 'name': ''},\n",
       " {'iso_639_1': 'te', 'english_name': 'Telugu', 'name': 'తెలుగు'},\n",
       " {'iso_639_1': 'tg', 'english_name': 'Tajik', 'name': ''},\n",
       " {'iso_639_1': 'tl', 'english_name': 'Tagalog', 'name': ''},\n",
       " {'iso_639_1': 'th', 'english_name': 'Thai', 'name': 'ภาษาไทย'},\n",
       " {'iso_639_1': 'ti', 'english_name': 'Tigrinya', 'name': ''},\n",
       " {'iso_639_1': 'to', 'english_name': 'Tonga', 'name': ''},\n",
       " {'iso_639_1': 'tn', 'english_name': 'Tswana', 'name': ''},\n",
       " {'iso_639_1': 'ts', 'english_name': 'Tsonga', 'name': ''},\n",
       " {'iso_639_1': 'tk', 'english_name': 'Turkmen', 'name': ''},\n",
       " {'iso_639_1': 'tr', 'english_name': 'Turkish', 'name': 'Türkçe'},\n",
       " {'iso_639_1': 'tw', 'english_name': 'Twi', 'name': ''},\n",
       " {'iso_639_1': 'ug', 'english_name': 'Uighur', 'name': ''},\n",
       " {'iso_639_1': 'uk', 'english_name': 'Ukrainian', 'name': 'Український'},\n",
       " {'iso_639_1': 'ur', 'english_name': 'Urdu', 'name': 'اردو'},\n",
       " {'iso_639_1': 'uz', 'english_name': 'Uzbek', 'name': 'ozbek'},\n",
       " {'iso_639_1': 've', 'english_name': 'Venda', 'name': ''},\n",
       " {'iso_639_1': 'vi', 'english_name': 'Vietnamese', 'name': 'Tiếng Việt'},\n",
       " {'iso_639_1': 'vo', 'english_name': 'Volapük', 'name': ''},\n",
       " {'iso_639_1': 'wa', 'english_name': 'Walloon', 'name': ''},\n",
       " {'iso_639_1': 'wo', 'english_name': 'Wolof', 'name': 'Wolof'},\n",
       " {'iso_639_1': 'xh', 'english_name': 'Xhosa', 'name': ''},\n",
       " {'iso_639_1': 'yi', 'english_name': 'Yiddish', 'name': ''},\n",
       " {'iso_639_1': 'za', 'english_name': 'Zhuang', 'name': ''},\n",
       " {'iso_639_1': 'zu', 'english_name': 'Zulu', 'name': 'isiZulu'},\n",
       " {'iso_639_1': 'ab', 'english_name': 'Abkhazian', 'name': ''},\n",
       " {'iso_639_1': 'zh', 'english_name': 'Mandarin', 'name': '普通话'},\n",
       " {'iso_639_1': 'ps', 'english_name': 'Pushto', 'name': 'پښتو'},\n",
       " {'iso_639_1': 'am', 'english_name': 'Amharic', 'name': ''},\n",
       " {'iso_639_1': 'ar', 'english_name': 'Arabic', 'name': 'العربية'},\n",
       " {'iso_639_1': 'bg', 'english_name': 'Bulgarian', 'name': 'български език'},\n",
       " {'iso_639_1': 'cn', 'english_name': 'Cantonese', 'name': '广州话 / 廣州話'},\n",
       " {'iso_639_1': 'mk', 'english_name': 'Macedonian', 'name': ''},\n",
       " {'iso_639_1': 'el', 'english_name': 'Greek', 'name': 'ελληνικά'},\n",
       " {'iso_639_1': 'fa', 'english_name': 'Persian', 'name': 'فارسی'},\n",
       " {'iso_639_1': 'he', 'english_name': 'Hebrew', 'name': 'עִבְרִית'},\n",
       " {'iso_639_1': 'hi', 'english_name': 'Hindi', 'name': 'हिन्दी'},\n",
       " {'iso_639_1': 'hy', 'english_name': 'Armenian', 'name': ''},\n",
       " {'iso_639_1': 'en', 'english_name': 'English', 'name': 'English'},\n",
       " {'iso_639_1': 'ee', 'english_name': 'Ewe', 'name': 'Èʋegbe'},\n",
       " {'iso_639_1': 'ka', 'english_name': 'Georgian', 'name': 'ქართული'},\n",
       " {'iso_639_1': 'pa', 'english_name': 'Punjabi', 'name': 'ਪੰਜਾਬੀ'},\n",
       " {'iso_639_1': 'bn', 'english_name': 'Bengali', 'name': 'বাংলা'},\n",
       " {'iso_639_1': 'bs', 'english_name': 'Bosnian', 'name': 'Bosanski'},\n",
       " {'iso_639_1': 'ch', 'english_name': 'Chamorro', 'name': \"Finu' Chamorro\"},\n",
       " {'iso_639_1': 'be', 'english_name': 'Belarusian', 'name': 'беларуская мова'},\n",
       " {'iso_639_1': 'yo', 'english_name': 'Yoruba', 'name': 'Èdè Yorùbá'}]"
      ]
     },
     "execution_count": 61,
     "metadata": {},
     "output_type": "execute_result"
    }
   ],
   "source": [
    "tmdb_languages_json"
   ]
  },
  {
   "cell_type": "markdown",
   "metadata": {
    "ExecuteTime": {
     "end_time": "2020-06-19T10:20:42.561068Z",
     "start_time": "2020-06-19T10:20:42.547106Z"
    }
   },
   "source": [
    "#save json file to directory\n",
    "\n",
    "with open('tmdb_languages.json', 'w') as f:\n",
    "    json.dump(tmdb_languages_json, f)"
   ]
  },
  {
   "cell_type": "markdown",
   "metadata": {
    "ExecuteTime": {
     "end_time": "2020-06-19T08:45:56.282051Z",
     "start_time": "2020-06-19T08:45:56.258083Z"
    }
   },
   "source": [
    "print(type(tmdb_languages_json))\n",
    "print(tmdb_languages_json.keys())"
   ]
  },
  {
   "cell_type": "markdown",
   "metadata": {
    "ExecuteTime": {
     "end_time": "2020-06-19T08:29:23.536451Z",
     "start_time": "2020-06-19T08:29:23.513483Z"
    }
   },
   "source": [
    "tmdb_languages_df = pd.read_json(r'C:\\Users\\jtang\\Flatiron-Git\\mod1\\mod1_project\\movie_industry_insights\\tmdb_languagesqqq.json')"
   ]
  },
  {
   "cell_type": "code",
   "execution_count": null,
   "metadata": {},
   "outputs": [],
   "source": []
  }
 ],
 "metadata": {
  "kernelspec": {
   "display_name": "Python [conda env:learn-env] *",
   "language": "python",
   "name": "conda-env-learn-env-py"
  },
  "language_info": {
   "codemirror_mode": {
    "name": "ipython",
    "version": 3
   },
   "file_extension": ".py",
   "mimetype": "text/x-python",
   "name": "python",
   "nbconvert_exporter": "python",
   "pygments_lexer": "ipython3",
   "version": "3.6.9"
  },
  "toc": {
   "base_numbering": 1,
   "nav_menu": {},
   "number_sections": true,
   "sideBar": true,
   "skip_h1_title": false,
   "title_cell": "Table of Contents",
   "title_sidebar": "Contents",
   "toc_cell": false,
   "toc_position": {},
   "toc_section_display": true,
   "toc_window_display": false
  },
  "varInspector": {
   "cols": {
    "lenName": 16,
    "lenType": 16,
    "lenVar": 40
   },
   "kernels_config": {
    "python": {
     "delete_cmd_postfix": "",
     "delete_cmd_prefix": "del ",
     "library": "var_list.py",
     "varRefreshCmd": "print(var_dic_list())"
    },
    "r": {
     "delete_cmd_postfix": ") ",
     "delete_cmd_prefix": "rm(",
     "library": "var_list.r",
     "varRefreshCmd": "cat(var_dic_list()) "
    }
   },
   "types_to_exclude": [
    "module",
    "function",
    "builtin_function_or_method",
    "instance",
    "_Feature"
   ],
   "window_display": false
  }
 },
 "nbformat": 4,
 "nbformat_minor": 2
}
