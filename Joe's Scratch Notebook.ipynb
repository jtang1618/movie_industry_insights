{
 "cells": [
  {
   "cell_type": "code",
   "execution_count": 1,
   "metadata": {
    "ExecuteTime": {
     "end_time": "2020-06-17T18:29:14.398581Z",
     "start_time": "2020-06-17T18:29:13.251239Z"
    }
   },
   "outputs": [],
   "source": [
    "#necessary libraries and modules to import\n",
    "\n",
    "import sqlite3\n",
    "import os\n",
    "import pandas as pd\n",
    "import numpy as np\n",
    "import matplotlib.pyplot as plt\n",
    "import seaborn as sns\n",
    "from glob import glob"
   ]
  },
  {
   "cell_type": "code",
   "execution_count": 2,
   "metadata": {
    "ExecuteTime": {
     "end_time": "2020-06-17T18:29:15.765205Z",
     "start_time": "2020-06-17T18:29:14.400576Z"
    }
   },
   "outputs": [],
   "source": [
    "#converts tsv files\n",
    "\n",
    "tsv_file = './zippedData/rt.movie_info.tsv.gz'\n",
    "convert = pd.read_table(tsv_file, delimiter='\\t')\n",
    "convert.to_csv('./zippedData/rt.movie_info.csv.gz')\n",
    "\n",
    "tsv_file_r = './zippedData/rt.reviews.tsv.gz'\n",
    "convert_r = pd.read_table(tsv_file_r, delimiter='\\t', encoding = 'unicode_escape')\n",
    "convert_r.to_csv('./zippedData/rt.reviews.csv.gz')"
   ]
  },
  {
   "cell_type": "code",
   "execution_count": 3,
   "metadata": {
    "ExecuteTime": {
     "end_time": "2020-06-17T18:29:15.781157Z",
     "start_time": "2020-06-17T18:29:15.768186Z"
    }
   },
   "outputs": [
    {
     "data": {
      "text/plain": [
       "['./zippedData\\\\bom.movie_gross.csv.gz',\n",
       " './zippedData\\\\imdb.name.basics.csv.gz',\n",
       " './zippedData\\\\imdb.title.akas.csv.gz',\n",
       " './zippedData\\\\imdb.title.basics.csv.gz',\n",
       " './zippedData\\\\imdb.title.crew.csv.gz',\n",
       " './zippedData\\\\imdb.title.principals.csv.gz',\n",
       " './zippedData\\\\rt.movie_info.csv.gz',\n",
       " './zippedData\\\\rt.reviews.csv.gz',\n",
       " './zippedData\\\\tmdb.movies.csv.gz',\n",
       " './zippedData\\\\tn.movie_budgets.csv.gz']"
      ]
     },
     "execution_count": 3,
     "metadata": {},
     "output_type": "execute_result"
    }
   ],
   "source": [
    "#importing batch data using os\n",
    "\n",
    "csv_files = glob(\"./zippedData/*.csv.gz\")\n",
    "csv_files"
   ]
  },
  {
   "cell_type": "code",
   "execution_count": 4,
   "metadata": {
    "ExecuteTime": {
     "end_time": "2020-06-17T18:29:19.304561Z",
     "start_time": "2020-06-17T18:29:15.784143Z"
    }
   },
   "outputs": [],
   "source": [
    "# cleaning the filenames\n",
    "\n",
    "csv_files_dict = {} #create a dictionary of datasets\n",
    "for filename in csv_files: #create a for loop to batch clean files\n",
    "    filename_cleaned = os.path.basename(filename).replace(\".csv\", \"\").replace(\".\", \"_\") #remove .csv file extensions\n",
    "    filename_df = pd.read_csv(filename, index_col=0, encoding='utf-8') \n",
    "    csv_files_dict[filename_cleaned] = filename_df #load .csv file as dataframe using col 1 as index and encode in utf-8 and save as the cleaned filename"
   ]
  },
  {
   "cell_type": "code",
   "execution_count": 5,
   "metadata": {
    "ExecuteTime": {
     "end_time": "2020-06-17T18:29:19.319693Z",
     "start_time": "2020-06-17T18:29:19.305727Z"
    }
   },
   "outputs": [
    {
     "name": "stdout",
     "output_type": "stream",
     "text": [
      "dict_keys(['bom_movie_gross_gz', 'imdb_name_basics_gz', 'imdb_title_akas_gz', 'imdb_title_basics_gz', 'imdb_title_crew_gz', 'imdb_title_principals_gz', 'rt_movie_info_gz', 'rt_reviews_gz', 'tmdb_movies_gz', 'tn_movie_budgets_gz'])\n"
     ]
    }
   ],
   "source": [
    "print(csv_files_dict.keys())"
   ]
  },
  {
   "cell_type": "code",
   "execution_count": 11,
   "metadata": {
    "ExecuteTime": {
     "end_time": "2020-06-17T18:48:18.909752Z",
     "start_time": "2020-06-17T18:48:18.899779Z"
    }
   },
   "outputs": [],
   "source": [
    "movie_budgets_df = csv_files_dict['tn_movie_budgets_gz']\n",
    "rotten_movie_genres_df = csv_files_dict['rt_movie_info_gz']\n",
    "rotten_movie_reviews_df = csv_files_dict['rt_reviews_gz']\n",
    "tmdb_movies_df = csv_files_dict['tmdb_movies_gz']\n",
    "tmdb_genre_ids_df = pd.read_json(r'C:\\Users\\jtang\\Flatiron-Git\\mod1\\mod1_project\\movie_industry_insights\\tmdb_genre_ids.json')"
   ]
  },
  {
   "cell_type": "code",
   "execution_count": null,
   "metadata": {
    "ExecuteTime": {
     "end_time": "2020-06-17T18:29:19.339643Z",
     "start_time": "2020-06-17T18:29:13.264Z"
    }
   },
   "outputs": [],
   "source": [
    "rotten_movie_genres_df.head()"
   ]
  },
  {
   "cell_type": "code",
   "execution_count": null,
   "metadata": {
    "ExecuteTime": {
     "end_time": "2020-06-17T18:29:19.342635Z",
     "start_time": "2020-06-17T18:29:13.270Z"
    }
   },
   "outputs": [],
   "source": [
    "rotten_movie_reviews_df.head()"
   ]
  },
  {
   "cell_type": "code",
   "execution_count": null,
   "metadata": {
    "ExecuteTime": {
     "end_time": "2020-06-17T18:29:19.344626Z",
     "start_time": "2020-06-17T18:29:13.273Z"
    }
   },
   "outputs": [],
   "source": [
    "tmdb_movies_df.head()"
   ]
  },
  {
   "cell_type": "code",
   "execution_count": 10,
   "metadata": {
    "ExecuteTime": {
     "end_time": "2020-06-17T18:32:37.447294Z",
     "start_time": "2020-06-17T18:32:37.436289Z"
    }
   },
   "outputs": [
    {
     "data": {
      "text/html": [
       "<div>\n",
       "<style scoped>\n",
       "    .dataframe tbody tr th:only-of-type {\n",
       "        vertical-align: middle;\n",
       "    }\n",
       "\n",
       "    .dataframe tbody tr th {\n",
       "        vertical-align: top;\n",
       "    }\n",
       "\n",
       "    .dataframe thead th {\n",
       "        text-align: right;\n",
       "    }\n",
       "</style>\n",
       "<table border=\"1\" class=\"dataframe\">\n",
       "  <thead>\n",
       "    <tr style=\"text-align: right;\">\n",
       "      <th></th>\n",
       "      <th>genres</th>\n",
       "    </tr>\n",
       "  </thead>\n",
       "  <tbody>\n",
       "    <tr>\n",
       "      <td>0</td>\n",
       "      <td>{'id': 28, 'name': 'Action'}</td>\n",
       "    </tr>\n",
       "    <tr>\n",
       "      <td>1</td>\n",
       "      <td>{'id': 12, 'name': 'Adventure'}</td>\n",
       "    </tr>\n",
       "    <tr>\n",
       "      <td>2</td>\n",
       "      <td>{'id': 16, 'name': 'Animation'}</td>\n",
       "    </tr>\n",
       "    <tr>\n",
       "      <td>3</td>\n",
       "      <td>{'id': 35, 'name': 'Comedy'}</td>\n",
       "    </tr>\n",
       "    <tr>\n",
       "      <td>4</td>\n",
       "      <td>{'id': 80, 'name': 'Crime'}</td>\n",
       "    </tr>\n",
       "  </tbody>\n",
       "</table>\n",
       "</div>"
      ],
      "text/plain": [
       "                            genres\n",
       "0     {'id': 28, 'name': 'Action'}\n",
       "1  {'id': 12, 'name': 'Adventure'}\n",
       "2  {'id': 16, 'name': 'Animation'}\n",
       "3     {'id': 35, 'name': 'Comedy'}\n",
       "4      {'id': 80, 'name': 'Crime'}"
      ]
     },
     "execution_count": 10,
     "metadata": {},
     "output_type": "execute_result"
    }
   ],
   "source": [
    "tmdb_genre_ids_df.head()"
   ]
  },
  {
   "cell_type": "code",
   "execution_count": 15,
   "metadata": {
    "ExecuteTime": {
     "end_time": "2020-06-17T18:57:23.897612Z",
     "start_time": "2020-06-17T18:57:23.892626Z"
    }
   },
   "outputs": [
    {
     "name": "stdout",
     "output_type": "stream",
     "text": [
      "id\n",
      "1                                          Avatar\n",
      "2     Pirates of the Caribbean: On Stranger Tides\n",
      "3                                    Dark Phoenix\n",
      "4                         Avengers: Age of Ultron\n",
      "5               Star Wars Ep. VIII: The Last Jedi\n",
      "6            Star Wars Ep. VII: The Force Awakens\n",
      "7                          Avengers: Infinity War\n",
      "8      Pirates of the Caribbean: At Worldâs End\n",
      "9                                  Justice League\n",
      "10                                        Spectre\n",
      "11                          The Dark Knight Rises\n",
      "12                        Solo: A Star Wars Story\n",
      "13                                The Lone Ranger\n",
      "14                                    John Carter\n",
      "15                                        Tangled\n",
      "16                                   Spider-Man 3\n",
      "17                     Captain America: Civil War\n",
      "18             Batman v Superman: Dawn of Justice\n",
      "19              The Hobbit: An Unexpected Journey\n",
      "20         Harry Potter and the Half-Blood Prince\n",
      "Name: movie, dtype: object\n"
     ]
    }
   ],
   "source": [
    "print(movie_budgets_df['movie'].head(20))"
   ]
  },
  {
   "cell_type": "code",
   "execution_count": null,
   "metadata": {},
   "outputs": [],
   "source": []
  }
 ],
 "metadata": {
  "kernelspec": {
   "display_name": "Python [conda env:learn-env] *",
   "language": "python",
   "name": "conda-env-learn-env-py"
  },
  "language_info": {
   "codemirror_mode": {
    "name": "ipython",
    "version": 3
   },
   "file_extension": ".py",
   "mimetype": "text/x-python",
   "name": "python",
   "nbconvert_exporter": "python",
   "pygments_lexer": "ipython3",
   "version": "3.6.9"
  },
  "toc": {
   "base_numbering": 1,
   "nav_menu": {},
   "number_sections": true,
   "sideBar": true,
   "skip_h1_title": false,
   "title_cell": "Table of Contents",
   "title_sidebar": "Contents",
   "toc_cell": false,
   "toc_position": {},
   "toc_section_display": true,
   "toc_window_display": false
  },
  "varInspector": {
   "cols": {
    "lenName": 16,
    "lenType": 16,
    "lenVar": 40
   },
   "kernels_config": {
    "python": {
     "delete_cmd_postfix": "",
     "delete_cmd_prefix": "del ",
     "library": "var_list.py",
     "varRefreshCmd": "print(var_dic_list())"
    },
    "r": {
     "delete_cmd_postfix": ") ",
     "delete_cmd_prefix": "rm(",
     "library": "var_list.r",
     "varRefreshCmd": "cat(var_dic_list()) "
    }
   },
   "types_to_exclude": [
    "module",
    "function",
    "builtin_function_or_method",
    "instance",
    "_Feature"
   ],
   "window_display": false
  }
 },
 "nbformat": 4,
 "nbformat_minor": 2
}
