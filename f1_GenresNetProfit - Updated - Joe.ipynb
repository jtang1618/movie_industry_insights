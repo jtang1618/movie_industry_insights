{
 "cells": [
  {
   "cell_type": "markdown",
   "metadata": {},
   "source": [
    "# Genres that yield highest net profit"
   ]
  },
  {
   "cell_type": "markdown",
   "metadata": {},
   "source": [
    "brief description"
   ]
  },
  {
   "cell_type": "markdown",
   "metadata": {},
   "source": [
    "## import the data"
   ]
  },
  {
   "cell_type": "code",
   "execution_count": 1,
   "metadata": {
    "ExecuteTime": {
     "end_time": "2020-06-19T21:43:45.727117Z",
     "start_time": "2020-06-19T21:43:44.498665Z"
    }
   },
   "outputs": [],
   "source": [
    "#necessary imports\n",
    "\n",
    "import sqlite3\n",
    "import os\n",
    "import pandas as pd\n",
    "import numpy as np\n",
    "import matplotlib.pyplot as plt\n",
    "import seaborn as sns\n",
    "from glob import glob"
   ]
  },
  {
   "cell_type": "code",
   "execution_count": 2,
   "metadata": {
    "ExecuteTime": {
     "end_time": "2020-06-19T21:43:45.742044Z",
     "start_time": "2020-06-19T21:43:45.729047Z"
    }
   },
   "outputs": [],
   "source": [
    "#changing the display settings to only format floats\n",
    "\n",
    "pd.options.display.float_format = '{:.2f}'.format"
   ]
  },
  {
   "cell_type": "code",
   "execution_count": 3,
   "metadata": {
    "ExecuteTime": {
     "end_time": "2020-06-19T21:43:46.976849Z",
     "start_time": "2020-06-19T21:43:45.744007Z"
    }
   },
   "outputs": [],
   "source": [
    "#converts tsv files\n",
    "\n",
    "tsv_file = './zippedData/rt.movie_info.tsv.gz'\n",
    "convert = pd.read_table(tsv_file, delimiter='\\t')\n",
    "convert.to_csv('./zippedData/rt.movie_info.csv.gz')\n",
    "\n",
    "tsv_file_r = './zippedData/rt.reviews.tsv.gz'\n",
    "convert_r = pd.read_table(tsv_file_r, delimiter='\\t', encoding = 'unicode_escape')\n",
    "convert_r.to_csv('./zippedData/rt.reviews.csv.gz')"
   ]
  },
  {
   "cell_type": "code",
   "execution_count": 4,
   "metadata": {
    "ExecuteTime": {
     "end_time": "2020-06-19T21:43:46.992647Z",
     "start_time": "2020-06-19T21:43:46.977644Z"
    }
   },
   "outputs": [
    {
     "data": {
      "text/plain": [
       "['./zippedData\\\\bom.movie_gross.csv.gz',\n",
       " './zippedData\\\\imdb.name.basics.csv.gz',\n",
       " './zippedData\\\\imdb.title.akas.csv.gz',\n",
       " './zippedData\\\\imdb.title.basics.csv.gz',\n",
       " './zippedData\\\\imdb.title.crew.csv.gz',\n",
       " './zippedData\\\\imdb.title.principals.csv.gz',\n",
       " './zippedData\\\\rt.movie_info.csv.gz',\n",
       " './zippedData\\\\rt.reviews.csv.gz',\n",
       " './zippedData\\\\tmdb.movies.csv.gz',\n",
       " './zippedData\\\\tn.movie_budgets.csv.gz']"
      ]
     },
     "execution_count": 4,
     "metadata": {},
     "output_type": "execute_result"
    }
   ],
   "source": [
    "#importing data using glob\n",
    "\n",
    "datafiles = glob(\"./zippedData/*.csv.gz\")\n",
    "datafiles"
   ]
  },
  {
   "cell_type": "code",
   "execution_count": 5,
   "metadata": {
    "ExecuteTime": {
     "end_time": "2020-06-19T21:43:51.023067Z",
     "start_time": "2020-06-19T21:43:46.994602Z"
    }
   },
   "outputs": [],
   "source": [
    "datafiles_dict = {}\n",
    "for filename in datafiles:\n",
    "    filename_cleaned = os.path.basename(filename).replace(\".csv\", \"\").replace(\".gz\", \"\").replace(\".\", \"_\") # cleaning the filenames\n",
    "    filename_df = pd.read_csv(filename)\n",
    "    datafiles_dict[filename_cleaned] = filename_df"
   ]
  },
  {
   "cell_type": "code",
   "execution_count": 6,
   "metadata": {
    "ExecuteTime": {
     "end_time": "2020-06-19T21:43:51.039025Z",
     "start_time": "2020-06-19T21:43:51.026024Z"
    },
    "scrolled": false
   },
   "outputs": [
    {
     "name": "stdout",
     "output_type": "stream",
     "text": [
      "dict_keys(['bom_movie_gross', 'imdb_name_basics', 'imdb_title_akas', 'imdb_title_basics', 'imdb_title_crew', 'imdb_title_principals', 'rt_movie_info', 'rt_reviews', 'tmdb_movies', 'tn_movie_budgets'])\n"
     ]
    }
   ],
   "source": [
    "print(datafiles_dict.keys())"
   ]
  },
  {
   "cell_type": "code",
   "execution_count": 7,
   "metadata": {
    "ExecuteTime": {
     "end_time": "2020-06-19T21:43:51.208572Z",
     "start_time": "2020-06-19T21:43:51.040986Z"
    }
   },
   "outputs": [
    {
     "data": {
      "text/html": [
       "<div>\n",
       "<style scoped>\n",
       "    .dataframe tbody tr th:only-of-type {\n",
       "        vertical-align: middle;\n",
       "    }\n",
       "\n",
       "    .dataframe tbody tr th {\n",
       "        vertical-align: top;\n",
       "    }\n",
       "\n",
       "    .dataframe thead th {\n",
       "        text-align: right;\n",
       "    }\n",
       "</style>\n",
       "<table border=\"1\" class=\"dataframe\">\n",
       "  <thead>\n",
       "    <tr style=\"text-align: right;\">\n",
       "      <th></th>\n",
       "      <th>Unnamed: 0</th>\n",
       "      <th>id</th>\n",
       "      <th>original_title</th>\n",
       "      <th>popularity</th>\n",
       "      <th>release_date_x</th>\n",
       "      <th>title</th>\n",
       "      <th>vote_average</th>\n",
       "      <th>vote_count</th>\n",
       "      <th>Fantasy</th>\n",
       "      <th>Drama</th>\n",
       "      <th>...</th>\n",
       "      <th>Science Fiction</th>\n",
       "      <th>Horror</th>\n",
       "      <th>original_language</th>\n",
       "      <th>release_date_y</th>\n",
       "      <th>movie</th>\n",
       "      <th>production_budget</th>\n",
       "      <th>domestic_gross</th>\n",
       "      <th>worldwide_gross</th>\n",
       "      <th>domesticgross_v_production</th>\n",
       "      <th>total_net</th>\n",
       "    </tr>\n",
       "  </thead>\n",
       "  <tbody>\n",
       "    <tr>\n",
       "      <td>0</td>\n",
       "      <td>0</td>\n",
       "      <td>12444</td>\n",
       "      <td>Harry Potter and the Deathly Hallows: Part 1</td>\n",
       "      <td>33.53</td>\n",
       "      <td>2010-11-19</td>\n",
       "      <td>Harry Potter and the Deathly Hallows: Part 1</td>\n",
       "      <td>7.70</td>\n",
       "      <td>10788</td>\n",
       "      <td>1.00</td>\n",
       "      <td>0.00</td>\n",
       "      <td>...</td>\n",
       "      <td>0.00</td>\n",
       "      <td>0.00</td>\n",
       "      <td>English</td>\n",
       "      <td>NaN</td>\n",
       "      <td>NaN</td>\n",
       "      <td>nan</td>\n",
       "      <td>nan</td>\n",
       "      <td>nan</td>\n",
       "      <td>nan</td>\n",
       "      <td>nan</td>\n",
       "    </tr>\n",
       "    <tr>\n",
       "      <td>1</td>\n",
       "      <td>1</td>\n",
       "      <td>10191</td>\n",
       "      <td>How to Train Your Dragon</td>\n",
       "      <td>28.73</td>\n",
       "      <td>2010-03-26</td>\n",
       "      <td>How to Train Your Dragon</td>\n",
       "      <td>7.70</td>\n",
       "      <td>7610</td>\n",
       "      <td>1.00</td>\n",
       "      <td>0.00</td>\n",
       "      <td>...</td>\n",
       "      <td>0.00</td>\n",
       "      <td>0.00</td>\n",
       "      <td>English</td>\n",
       "      <td>Mar 26, 2010</td>\n",
       "      <td>How to Train Your Dragon</td>\n",
       "      <td>165000000.00</td>\n",
       "      <td>217581232.00</td>\n",
       "      <td>494870992.00</td>\n",
       "      <td>52581232.00</td>\n",
       "      <td>329870992.00</td>\n",
       "    </tr>\n",
       "    <tr>\n",
       "      <td>2</td>\n",
       "      <td>2</td>\n",
       "      <td>10138</td>\n",
       "      <td>Iron Man 2</td>\n",
       "      <td>28.52</td>\n",
       "      <td>2010-05-07</td>\n",
       "      <td>Iron Man 2</td>\n",
       "      <td>6.80</td>\n",
       "      <td>12368</td>\n",
       "      <td>0.00</td>\n",
       "      <td>0.00</td>\n",
       "      <td>...</td>\n",
       "      <td>1.00</td>\n",
       "      <td>0.00</td>\n",
       "      <td>English</td>\n",
       "      <td>May 7, 2010</td>\n",
       "      <td>Iron Man 2</td>\n",
       "      <td>170000000.00</td>\n",
       "      <td>312433331.00</td>\n",
       "      <td>621156389.00</td>\n",
       "      <td>142433331.00</td>\n",
       "      <td>451156389.00</td>\n",
       "    </tr>\n",
       "    <tr>\n",
       "      <td>3</td>\n",
       "      <td>3</td>\n",
       "      <td>862</td>\n",
       "      <td>Toy Story</td>\n",
       "      <td>28.00</td>\n",
       "      <td>1995-11-22</td>\n",
       "      <td>Toy Story</td>\n",
       "      <td>7.90</td>\n",
       "      <td>10174</td>\n",
       "      <td>0.00</td>\n",
       "      <td>0.00</td>\n",
       "      <td>...</td>\n",
       "      <td>0.00</td>\n",
       "      <td>0.00</td>\n",
       "      <td>English</td>\n",
       "      <td>Nov 22, 1995</td>\n",
       "      <td>Toy Story</td>\n",
       "      <td>30000000.00</td>\n",
       "      <td>191796233.00</td>\n",
       "      <td>364545516.00</td>\n",
       "      <td>161796233.00</td>\n",
       "      <td>334545516.00</td>\n",
       "    </tr>\n",
       "    <tr>\n",
       "      <td>4</td>\n",
       "      <td>4</td>\n",
       "      <td>27205</td>\n",
       "      <td>Inception</td>\n",
       "      <td>27.92</td>\n",
       "      <td>2010-07-16</td>\n",
       "      <td>Inception</td>\n",
       "      <td>8.30</td>\n",
       "      <td>22186</td>\n",
       "      <td>0.00</td>\n",
       "      <td>0.00</td>\n",
       "      <td>...</td>\n",
       "      <td>1.00</td>\n",
       "      <td>0.00</td>\n",
       "      <td>English</td>\n",
       "      <td>Jul 16, 2010</td>\n",
       "      <td>Inception</td>\n",
       "      <td>160000000.00</td>\n",
       "      <td>292576195.00</td>\n",
       "      <td>835524642.00</td>\n",
       "      <td>132576195.00</td>\n",
       "      <td>675524642.00</td>\n",
       "    </tr>\n",
       "  </tbody>\n",
       "</table>\n",
       "<p>5 rows × 35 columns</p>\n",
       "</div>"
      ],
      "text/plain": [
       "   Unnamed: 0     id                                original_title  \\\n",
       "0           0  12444  Harry Potter and the Deathly Hallows: Part 1   \n",
       "1           1  10191                      How to Train Your Dragon   \n",
       "2           2  10138                                    Iron Man 2   \n",
       "3           3    862                                     Toy Story   \n",
       "4           4  27205                                     Inception   \n",
       "\n",
       "   popularity release_date_x                                         title  \\\n",
       "0       33.53     2010-11-19  Harry Potter and the Deathly Hallows: Part 1   \n",
       "1       28.73     2010-03-26                      How to Train Your Dragon   \n",
       "2       28.52     2010-05-07                                    Iron Man 2   \n",
       "3       28.00     1995-11-22                                     Toy Story   \n",
       "4       27.92     2010-07-16                                     Inception   \n",
       "\n",
       "   vote_average  vote_count  Fantasy  Drama  ...  Science Fiction  Horror  \\\n",
       "0          7.70       10788     1.00   0.00  ...             0.00    0.00   \n",
       "1          7.70        7610     1.00   0.00  ...             0.00    0.00   \n",
       "2          6.80       12368     0.00   0.00  ...             1.00    0.00   \n",
       "3          7.90       10174     0.00   0.00  ...             0.00    0.00   \n",
       "4          8.30       22186     0.00   0.00  ...             1.00    0.00   \n",
       "\n",
       "   original_language  release_date_y                     movie  \\\n",
       "0            English             NaN                       NaN   \n",
       "1            English    Mar 26, 2010  How to Train Your Dragon   \n",
       "2            English     May 7, 2010                Iron Man 2   \n",
       "3            English    Nov 22, 1995                 Toy Story   \n",
       "4            English    Jul 16, 2010                 Inception   \n",
       "\n",
       "   production_budget  domestic_gross  worldwide_gross  \\\n",
       "0                nan             nan              nan   \n",
       "1       165000000.00    217581232.00     494870992.00   \n",
       "2       170000000.00    312433331.00     621156389.00   \n",
       "3        30000000.00    191796233.00     364545516.00   \n",
       "4       160000000.00    292576195.00     835524642.00   \n",
       "\n",
       "   domesticgross_v_production    total_net  \n",
       "0                         nan          nan  \n",
       "1                 52581232.00 329870992.00  \n",
       "2                142433331.00 451156389.00  \n",
       "3                161796233.00 334545516.00  \n",
       "4                132576195.00 675524642.00  \n",
       "\n",
       "[5 rows x 35 columns]"
      ]
     },
     "execution_count": 7,
     "metadata": {},
     "output_type": "execute_result"
    }
   ],
   "source": [
    "#load in dataset in csv to dataframe\n",
    "\n",
    "tmdb_mglb_df = pd.read_csv('tmdb_mglb.csv')\n",
    "\n",
    "tmdb_mglb_df.head() #call first 5 rows"
   ]
  },
  {
   "cell_type": "code",
   "execution_count": 8,
   "metadata": {
    "ExecuteTime": {
     "end_time": "2020-06-19T21:43:51.224492Z",
     "start_time": "2020-06-19T21:43:51.211527Z"
    }
   },
   "outputs": [
    {
     "data": {
      "text/plain": [
       "pandas.core.frame.DataFrame"
      ]
     },
     "execution_count": 8,
     "metadata": {},
     "output_type": "execute_result"
    }
   ],
   "source": [
    "type(tmdb_mglb_df) #call type of variable"
   ]
  },
  {
   "cell_type": "code",
   "execution_count": 9,
   "metadata": {
    "ExecuteTime": {
     "end_time": "2020-06-19T21:43:51.239490Z",
     "start_time": "2020-06-19T21:43:51.226490Z"
    }
   },
   "outputs": [
    {
     "data": {
      "text/plain": [
       "(26597, 35)"
      ]
     },
     "execution_count": 9,
     "metadata": {},
     "output_type": "execute_result"
    }
   ],
   "source": [
    "tmdb_mglb_df.shape #return the dimensions of the dataframe array"
   ]
  },
  {
   "cell_type": "code",
   "execution_count": 10,
   "metadata": {
    "ExecuteTime": {
     "end_time": "2020-06-19T21:43:51.270372Z",
     "start_time": "2020-06-19T21:43:51.241447Z"
    }
   },
   "outputs": [
    {
     "name": "stdout",
     "output_type": "stream",
     "text": [
      "<class 'pandas.core.frame.DataFrame'>\n",
      "RangeIndex: 26597 entries, 0 to 26596\n",
      "Data columns (total 35 columns):\n",
      "Unnamed: 0                    26597 non-null int64\n",
      "id                            26597 non-null int64\n",
      "original_title                26597 non-null object\n",
      "popularity                    26597 non-null float64\n",
      "release_date_x                26597 non-null object\n",
      "title                         26597 non-null object\n",
      "vote_average                  26597 non-null float64\n",
      "vote_count                    26597 non-null int64\n",
      "Fantasy                       26597 non-null float64\n",
      "Drama                         26597 non-null float64\n",
      "War                           26597 non-null float64\n",
      "Mystery                       26597 non-null float64\n",
      "Comedy                        26597 non-null float64\n",
      "Romance                       26597 non-null float64\n",
      "Family                        26597 non-null float64\n",
      "Music                         26597 non-null float64\n",
      "Documentary                   26597 non-null float64\n",
      "Animation                     26597 non-null float64\n",
      "Western                       26597 non-null float64\n",
      "Action                        26597 non-null float64\n",
      "Crime                         26597 non-null float64\n",
      "Thriller                      26597 non-null float64\n",
      "TV Movie                      26597 non-null float64\n",
      "Adventure                     26597 non-null float64\n",
      "History                       26597 non-null float64\n",
      "Science Fiction               26597 non-null float64\n",
      "Horror                        26597 non-null float64\n",
      "original_language             26597 non-null object\n",
      "release_date_y                2316 non-null object\n",
      "movie                         2316 non-null object\n",
      "production_budget             2316 non-null float64\n",
      "domestic_gross                2316 non-null float64\n",
      "worldwide_gross               2316 non-null float64\n",
      "domesticgross_v_production    2316 non-null float64\n",
      "total_net                     2316 non-null float64\n",
      "dtypes: float64(26), int64(3), object(6)\n",
      "memory usage: 7.1+ MB\n"
     ]
    }
   ],
   "source": [
    "tmdb_mglb_df.info() #return basic summary of dataframe"
   ]
  },
  {
   "cell_type": "code",
   "execution_count": 11,
   "metadata": {
    "ExecuteTime": {
     "end_time": "2020-06-19T21:43:51.301289Z",
     "start_time": "2020-06-19T21:43:51.272365Z"
    },
    "scrolled": false
   },
   "outputs": [
    {
     "data": {
      "text/plain": [
       "Unnamed: 0                        0\n",
       "id                                0\n",
       "original_title                    0\n",
       "popularity                        0\n",
       "release_date_x                    0\n",
       "title                             0\n",
       "vote_average                      0\n",
       "vote_count                        0\n",
       "Fantasy                           0\n",
       "Drama                             0\n",
       "War                               0\n",
       "Mystery                           0\n",
       "Comedy                            0\n",
       "Romance                           0\n",
       "Family                            0\n",
       "Music                             0\n",
       "Documentary                       0\n",
       "Animation                         0\n",
       "Western                           0\n",
       "Action                            0\n",
       "Crime                             0\n",
       "Thriller                          0\n",
       "TV Movie                          0\n",
       "Adventure                         0\n",
       "History                           0\n",
       "Science Fiction                   0\n",
       "Horror                            0\n",
       "original_language                 0\n",
       "release_date_y                24281\n",
       "movie                         24281\n",
       "production_budget             24281\n",
       "domestic_gross                24281\n",
       "worldwide_gross               24281\n",
       "domesticgross_v_production    24281\n",
       "total_net                     24281\n",
       "dtype: int64"
      ]
     },
     "execution_count": 11,
     "metadata": {},
     "output_type": "execute_result"
    }
   ],
   "source": [
    "tmdb_mglb_df.isna().sum() #sum of all the NaN values in each col"
   ]
  },
  {
   "cell_type": "code",
   "execution_count": 12,
   "metadata": {
    "ExecuteTime": {
     "end_time": "2020-06-19T21:43:51.317273Z",
     "start_time": "2020-06-19T21:43:51.303284Z"
    }
   },
   "outputs": [],
   "source": [
    "tmdb_mglb_df = tmdb_mglb_df.drop(['Unnamed: 0', 'movie', 'title'], axis=1) #drop columns"
   ]
  },
  {
   "cell_type": "code",
   "execution_count": 13,
   "metadata": {
    "ExecuteTime": {
     "end_time": "2020-06-19T21:43:51.348204Z",
     "start_time": "2020-06-19T21:43:51.319239Z"
    },
    "scrolled": true
   },
   "outputs": [
    {
     "data": {
      "text/html": [
       "<div>\n",
       "<style scoped>\n",
       "    .dataframe tbody tr th:only-of-type {\n",
       "        vertical-align: middle;\n",
       "    }\n",
       "\n",
       "    .dataframe tbody tr th {\n",
       "        vertical-align: top;\n",
       "    }\n",
       "\n",
       "    .dataframe thead th {\n",
       "        text-align: right;\n",
       "    }\n",
       "</style>\n",
       "<table border=\"1\" class=\"dataframe\">\n",
       "  <thead>\n",
       "    <tr style=\"text-align: right;\">\n",
       "      <th></th>\n",
       "      <th>id</th>\n",
       "      <th>original_title</th>\n",
       "      <th>popularity</th>\n",
       "      <th>release_date_x</th>\n",
       "      <th>vote_average</th>\n",
       "      <th>vote_count</th>\n",
       "      <th>Fantasy</th>\n",
       "      <th>Drama</th>\n",
       "      <th>War</th>\n",
       "      <th>Mystery</th>\n",
       "      <th>...</th>\n",
       "      <th>History</th>\n",
       "      <th>Science Fiction</th>\n",
       "      <th>Horror</th>\n",
       "      <th>original_language</th>\n",
       "      <th>release_date_y</th>\n",
       "      <th>production_budget</th>\n",
       "      <th>domestic_gross</th>\n",
       "      <th>worldwide_gross</th>\n",
       "      <th>domesticgross_v_production</th>\n",
       "      <th>total_net</th>\n",
       "    </tr>\n",
       "  </thead>\n",
       "  <tbody>\n",
       "    <tr>\n",
       "      <td>0</td>\n",
       "      <td>12444</td>\n",
       "      <td>Harry Potter and the Deathly Hallows: Part 1</td>\n",
       "      <td>33.53</td>\n",
       "      <td>2010-11-19</td>\n",
       "      <td>7.70</td>\n",
       "      <td>10788</td>\n",
       "      <td>1.00</td>\n",
       "      <td>0.00</td>\n",
       "      <td>0.00</td>\n",
       "      <td>0.00</td>\n",
       "      <td>...</td>\n",
       "      <td>0.00</td>\n",
       "      <td>0.00</td>\n",
       "      <td>0.00</td>\n",
       "      <td>English</td>\n",
       "      <td>NaN</td>\n",
       "      <td>nan</td>\n",
       "      <td>nan</td>\n",
       "      <td>nan</td>\n",
       "      <td>nan</td>\n",
       "      <td>nan</td>\n",
       "    </tr>\n",
       "    <tr>\n",
       "      <td>1</td>\n",
       "      <td>10191</td>\n",
       "      <td>How to Train Your Dragon</td>\n",
       "      <td>28.73</td>\n",
       "      <td>2010-03-26</td>\n",
       "      <td>7.70</td>\n",
       "      <td>7610</td>\n",
       "      <td>1.00</td>\n",
       "      <td>0.00</td>\n",
       "      <td>0.00</td>\n",
       "      <td>0.00</td>\n",
       "      <td>...</td>\n",
       "      <td>0.00</td>\n",
       "      <td>0.00</td>\n",
       "      <td>0.00</td>\n",
       "      <td>English</td>\n",
       "      <td>Mar 26, 2010</td>\n",
       "      <td>165000000.00</td>\n",
       "      <td>217581232.00</td>\n",
       "      <td>494870992.00</td>\n",
       "      <td>52581232.00</td>\n",
       "      <td>329870992.00</td>\n",
       "    </tr>\n",
       "    <tr>\n",
       "      <td>2</td>\n",
       "      <td>10138</td>\n",
       "      <td>Iron Man 2</td>\n",
       "      <td>28.52</td>\n",
       "      <td>2010-05-07</td>\n",
       "      <td>6.80</td>\n",
       "      <td>12368</td>\n",
       "      <td>0.00</td>\n",
       "      <td>0.00</td>\n",
       "      <td>0.00</td>\n",
       "      <td>0.00</td>\n",
       "      <td>...</td>\n",
       "      <td>0.00</td>\n",
       "      <td>1.00</td>\n",
       "      <td>0.00</td>\n",
       "      <td>English</td>\n",
       "      <td>May 7, 2010</td>\n",
       "      <td>170000000.00</td>\n",
       "      <td>312433331.00</td>\n",
       "      <td>621156389.00</td>\n",
       "      <td>142433331.00</td>\n",
       "      <td>451156389.00</td>\n",
       "    </tr>\n",
       "    <tr>\n",
       "      <td>3</td>\n",
       "      <td>862</td>\n",
       "      <td>Toy Story</td>\n",
       "      <td>28.00</td>\n",
       "      <td>1995-11-22</td>\n",
       "      <td>7.90</td>\n",
       "      <td>10174</td>\n",
       "      <td>0.00</td>\n",
       "      <td>0.00</td>\n",
       "      <td>0.00</td>\n",
       "      <td>0.00</td>\n",
       "      <td>...</td>\n",
       "      <td>0.00</td>\n",
       "      <td>0.00</td>\n",
       "      <td>0.00</td>\n",
       "      <td>English</td>\n",
       "      <td>Nov 22, 1995</td>\n",
       "      <td>30000000.00</td>\n",
       "      <td>191796233.00</td>\n",
       "      <td>364545516.00</td>\n",
       "      <td>161796233.00</td>\n",
       "      <td>334545516.00</td>\n",
       "    </tr>\n",
       "    <tr>\n",
       "      <td>4</td>\n",
       "      <td>27205</td>\n",
       "      <td>Inception</td>\n",
       "      <td>27.92</td>\n",
       "      <td>2010-07-16</td>\n",
       "      <td>8.30</td>\n",
       "      <td>22186</td>\n",
       "      <td>0.00</td>\n",
       "      <td>0.00</td>\n",
       "      <td>0.00</td>\n",
       "      <td>0.00</td>\n",
       "      <td>...</td>\n",
       "      <td>0.00</td>\n",
       "      <td>1.00</td>\n",
       "      <td>0.00</td>\n",
       "      <td>English</td>\n",
       "      <td>Jul 16, 2010</td>\n",
       "      <td>160000000.00</td>\n",
       "      <td>292576195.00</td>\n",
       "      <td>835524642.00</td>\n",
       "      <td>132576195.00</td>\n",
       "      <td>675524642.00</td>\n",
       "    </tr>\n",
       "  </tbody>\n",
       "</table>\n",
       "<p>5 rows × 32 columns</p>\n",
       "</div>"
      ],
      "text/plain": [
       "      id                                original_title  popularity  \\\n",
       "0  12444  Harry Potter and the Deathly Hallows: Part 1       33.53   \n",
       "1  10191                      How to Train Your Dragon       28.73   \n",
       "2  10138                                    Iron Man 2       28.52   \n",
       "3    862                                     Toy Story       28.00   \n",
       "4  27205                                     Inception       27.92   \n",
       "\n",
       "  release_date_x  vote_average  vote_count  Fantasy  Drama  War  Mystery  ...  \\\n",
       "0     2010-11-19          7.70       10788     1.00   0.00 0.00     0.00  ...   \n",
       "1     2010-03-26          7.70        7610     1.00   0.00 0.00     0.00  ...   \n",
       "2     2010-05-07          6.80       12368     0.00   0.00 0.00     0.00  ...   \n",
       "3     1995-11-22          7.90       10174     0.00   0.00 0.00     0.00  ...   \n",
       "4     2010-07-16          8.30       22186     0.00   0.00 0.00     0.00  ...   \n",
       "\n",
       "   History  Science Fiction  Horror  original_language  release_date_y  \\\n",
       "0     0.00             0.00    0.00            English             NaN   \n",
       "1     0.00             0.00    0.00            English    Mar 26, 2010   \n",
       "2     0.00             1.00    0.00            English     May 7, 2010   \n",
       "3     0.00             0.00    0.00            English    Nov 22, 1995   \n",
       "4     0.00             1.00    0.00            English    Jul 16, 2010   \n",
       "\n",
       "   production_budget  domestic_gross  worldwide_gross  \\\n",
       "0                nan             nan              nan   \n",
       "1       165000000.00    217581232.00     494870992.00   \n",
       "2       170000000.00    312433331.00     621156389.00   \n",
       "3        30000000.00    191796233.00     364545516.00   \n",
       "4       160000000.00    292576195.00     835524642.00   \n",
       "\n",
       "   domesticgross_v_production    total_net  \n",
       "0                         nan          nan  \n",
       "1                 52581232.00 329870992.00  \n",
       "2                142433331.00 451156389.00  \n",
       "3                161796233.00 334545516.00  \n",
       "4                132576195.00 675524642.00  \n",
       "\n",
       "[5 rows x 32 columns]"
      ]
     },
     "execution_count": 13,
     "metadata": {},
     "output_type": "execute_result"
    }
   ],
   "source": [
    "tmdb_mglb_df.head() #call first 5 rows"
   ]
  },
  {
   "cell_type": "markdown",
   "metadata": {},
   "source": [
    "## Overall, what are the top 5 grossing films?"
   ]
  },
  {
   "cell_type": "code",
   "execution_count": 14,
   "metadata": {
    "ExecuteTime": {
     "end_time": "2020-06-19T21:43:51.363121Z",
     "start_time": "2020-06-19T21:43:51.350157Z"
    }
   },
   "outputs": [],
   "source": [
    "#sort values by 4th to last col, descending\n",
    "\n",
    "sortbytotalgross = tmdb_mglb_df.sort_values(by=['worldwide_gross'], ascending=False)"
   ]
  },
  {
   "cell_type": "code",
   "execution_count": 15,
   "metadata": {
    "ExecuteTime": {
     "end_time": "2020-06-19T21:43:51.394039Z",
     "start_time": "2020-06-19T21:43:51.365117Z"
    },
    "scrolled": false
   },
   "outputs": [
    {
     "data": {
      "text/html": [
       "<div>\n",
       "<style scoped>\n",
       "    .dataframe tbody tr th:only-of-type {\n",
       "        vertical-align: middle;\n",
       "    }\n",
       "\n",
       "    .dataframe tbody tr th {\n",
       "        vertical-align: top;\n",
       "    }\n",
       "\n",
       "    .dataframe thead th {\n",
       "        text-align: right;\n",
       "    }\n",
       "</style>\n",
       "<table border=\"1\" class=\"dataframe\">\n",
       "  <thead>\n",
       "    <tr style=\"text-align: right;\">\n",
       "      <th></th>\n",
       "      <th>id</th>\n",
       "      <th>original_title</th>\n",
       "      <th>popularity</th>\n",
       "      <th>release_date_x</th>\n",
       "      <th>vote_average</th>\n",
       "      <th>vote_count</th>\n",
       "      <th>Fantasy</th>\n",
       "      <th>Drama</th>\n",
       "      <th>War</th>\n",
       "      <th>Mystery</th>\n",
       "      <th>...</th>\n",
       "      <th>History</th>\n",
       "      <th>Science Fiction</th>\n",
       "      <th>Horror</th>\n",
       "      <th>original_language</th>\n",
       "      <th>release_date_y</th>\n",
       "      <th>production_budget</th>\n",
       "      <th>domestic_gross</th>\n",
       "      <th>worldwide_gross</th>\n",
       "      <th>domesticgross_v_production</th>\n",
       "      <th>total_net</th>\n",
       "    </tr>\n",
       "  </thead>\n",
       "  <tbody>\n",
       "    <tr>\n",
       "      <td>6</td>\n",
       "      <td>19995</td>\n",
       "      <td>Avatar</td>\n",
       "      <td>26.53</td>\n",
       "      <td>2009-12-18</td>\n",
       "      <td>7.40</td>\n",
       "      <td>18676</td>\n",
       "      <td>1.00</td>\n",
       "      <td>0.00</td>\n",
       "      <td>0.00</td>\n",
       "      <td>0.00</td>\n",
       "      <td>...</td>\n",
       "      <td>0.00</td>\n",
       "      <td>1.00</td>\n",
       "      <td>0.00</td>\n",
       "      <td>English</td>\n",
       "      <td>Dec 18, 2009</td>\n",
       "      <td>425000000.00</td>\n",
       "      <td>760507625.00</td>\n",
       "      <td>2776345279.00</td>\n",
       "      <td>335507625.00</td>\n",
       "      <td>2351345279.00</td>\n",
       "    </tr>\n",
       "    <tr>\n",
       "      <td>23887</td>\n",
       "      <td>299536</td>\n",
       "      <td>Avengers: Infinity War</td>\n",
       "      <td>80.77</td>\n",
       "      <td>2018-04-27</td>\n",
       "      <td>8.30</td>\n",
       "      <td>13948</td>\n",
       "      <td>1.00</td>\n",
       "      <td>0.00</td>\n",
       "      <td>0.00</td>\n",
       "      <td>0.00</td>\n",
       "      <td>...</td>\n",
       "      <td>0.00</td>\n",
       "      <td>0.00</td>\n",
       "      <td>0.00</td>\n",
       "      <td>English</td>\n",
       "      <td>Apr 27, 2018</td>\n",
       "      <td>300000000.00</td>\n",
       "      <td>678815482.00</td>\n",
       "      <td>2048134200.00</td>\n",
       "      <td>378815482.00</td>\n",
       "      <td>1748134200.00</td>\n",
       "    </tr>\n",
       "    <tr>\n",
       "      <td>14236</td>\n",
       "      <td>135397</td>\n",
       "      <td>Jurassic World</td>\n",
       "      <td>20.71</td>\n",
       "      <td>2015-06-12</td>\n",
       "      <td>6.60</td>\n",
       "      <td>14056</td>\n",
       "      <td>0.00</td>\n",
       "      <td>0.00</td>\n",
       "      <td>0.00</td>\n",
       "      <td>0.00</td>\n",
       "      <td>...</td>\n",
       "      <td>0.00</td>\n",
       "      <td>1.00</td>\n",
       "      <td>0.00</td>\n",
       "      <td>English</td>\n",
       "      <td>Jun 12, 2015</td>\n",
       "      <td>215000000.00</td>\n",
       "      <td>652270625.00</td>\n",
       "      <td>1648854864.00</td>\n",
       "      <td>437270625.00</td>\n",
       "      <td>1433854864.00</td>\n",
       "    </tr>\n",
       "    <tr>\n",
       "      <td>14239</td>\n",
       "      <td>168259</td>\n",
       "      <td>Furious 7</td>\n",
       "      <td>20.40</td>\n",
       "      <td>2015-04-03</td>\n",
       "      <td>7.30</td>\n",
       "      <td>6538</td>\n",
       "      <td>0.00</td>\n",
       "      <td>0.00</td>\n",
       "      <td>0.00</td>\n",
       "      <td>0.00</td>\n",
       "      <td>...</td>\n",
       "      <td>0.00</td>\n",
       "      <td>0.00</td>\n",
       "      <td>0.00</td>\n",
       "      <td>English</td>\n",
       "      <td>Apr 3, 2015</td>\n",
       "      <td>190000000.00</td>\n",
       "      <td>353007020.00</td>\n",
       "      <td>1518722794.00</td>\n",
       "      <td>163007020.00</td>\n",
       "      <td>1328722794.00</td>\n",
       "    </tr>\n",
       "    <tr>\n",
       "      <td>5196</td>\n",
       "      <td>24428</td>\n",
       "      <td>The Avengers</td>\n",
       "      <td>50.29</td>\n",
       "      <td>2012-05-04</td>\n",
       "      <td>7.60</td>\n",
       "      <td>19673</td>\n",
       "      <td>0.00</td>\n",
       "      <td>0.00</td>\n",
       "      <td>0.00</td>\n",
       "      <td>0.00</td>\n",
       "      <td>...</td>\n",
       "      <td>0.00</td>\n",
       "      <td>1.00</td>\n",
       "      <td>0.00</td>\n",
       "      <td>English</td>\n",
       "      <td>May 4, 2012</td>\n",
       "      <td>225000000.00</td>\n",
       "      <td>623279547.00</td>\n",
       "      <td>1517935897.00</td>\n",
       "      <td>398279547.00</td>\n",
       "      <td>1292935897.00</td>\n",
       "    </tr>\n",
       "  </tbody>\n",
       "</table>\n",
       "<p>5 rows × 32 columns</p>\n",
       "</div>"
      ],
      "text/plain": [
       "           id          original_title  popularity release_date_x  \\\n",
       "6       19995                  Avatar       26.53     2009-12-18   \n",
       "23887  299536  Avengers: Infinity War       80.77     2018-04-27   \n",
       "14236  135397          Jurassic World       20.71     2015-06-12   \n",
       "14239  168259               Furious 7       20.40     2015-04-03   \n",
       "5196    24428            The Avengers       50.29     2012-05-04   \n",
       "\n",
       "       vote_average  vote_count  Fantasy  Drama  War  Mystery  ...  History  \\\n",
       "6              7.40       18676     1.00   0.00 0.00     0.00  ...     0.00   \n",
       "23887          8.30       13948     1.00   0.00 0.00     0.00  ...     0.00   \n",
       "14236          6.60       14056     0.00   0.00 0.00     0.00  ...     0.00   \n",
       "14239          7.30        6538     0.00   0.00 0.00     0.00  ...     0.00   \n",
       "5196           7.60       19673     0.00   0.00 0.00     0.00  ...     0.00   \n",
       "\n",
       "       Science Fiction  Horror  original_language  release_date_y  \\\n",
       "6                 1.00    0.00            English    Dec 18, 2009   \n",
       "23887             0.00    0.00            English    Apr 27, 2018   \n",
       "14236             1.00    0.00            English    Jun 12, 2015   \n",
       "14239             0.00    0.00            English     Apr 3, 2015   \n",
       "5196              1.00    0.00            English     May 4, 2012   \n",
       "\n",
       "       production_budget  domestic_gross  worldwide_gross  \\\n",
       "6           425000000.00    760507625.00    2776345279.00   \n",
       "23887       300000000.00    678815482.00    2048134200.00   \n",
       "14236       215000000.00    652270625.00    1648854864.00   \n",
       "14239       190000000.00    353007020.00    1518722794.00   \n",
       "5196        225000000.00    623279547.00    1517935897.00   \n",
       "\n",
       "       domesticgross_v_production     total_net  \n",
       "6                    335507625.00 2351345279.00  \n",
       "23887                378815482.00 1748134200.00  \n",
       "14236                437270625.00 1433854864.00  \n",
       "14239                163007020.00 1328722794.00  \n",
       "5196                 398279547.00 1292935897.00  \n",
       "\n",
       "[5 rows x 32 columns]"
      ]
     },
     "execution_count": 15,
     "metadata": {},
     "output_type": "execute_result"
    }
   ],
   "source": [
    "sortbytotalgross.head()"
   ]
  },
  {
   "cell_type": "code",
   "execution_count": null,
   "metadata": {
    "ExecuteTime": {
     "end_time": "2020-06-19T21:12:41.542448Z",
     "start_time": "2020-06-19T21:12:41.526523Z"
    }
   },
   "outputs": [],
   "source": []
  },
  {
   "cell_type": "markdown",
   "metadata": {},
   "source": [
    "***Findings***: Looking at the total gross revenue of worldwide, including domestic sales, the top 5 grossing films are:\n",
    "1) Avatar - 2,776,345,279\n",
    "2) Avengers: Infinity War - 2,048,134,200.00\n",
    "3) Jurassic World - 1,648,854,864\n",
    "4) The Avengers - 1,518,722,794\n",
    "5) Black Panther - 1,517,935,897"
   ]
  },
  {
   "cell_type": "code",
   "execution_count": null,
   "metadata": {},
   "outputs": [],
   "source": [
    "#visual of top 5 grossing"
   ]
  },
  {
   "cell_type": "markdown",
   "metadata": {},
   "source": [
    "### If available, what are the genres of those top 5 grossing films? "
   ]
  },
  {
   "cell_type": "code",
   "execution_count": 16,
   "metadata": {
    "ExecuteTime": {
     "end_time": "2020-06-19T21:43:51.409997Z",
     "start_time": "2020-06-19T21:43:51.396036Z"
    }
   },
   "outputs": [
    {
     "ename": "SyntaxError",
     "evalue": "invalid syntax (<ipython-input-16-d4d7f2c1cec0>, line 1)",
     "output_type": "error",
     "traceback": [
      "\u001b[1;36m  File \u001b[1;32m\"<ipython-input-16-d4d7f2c1cec0>\"\u001b[1;36m, line \u001b[1;32m1\u001b[0m\n\u001b[1;33m    code here: KAT\u001b[0m\n\u001b[1;37m            ^\u001b[0m\n\u001b[1;31mSyntaxError\u001b[0m\u001b[1;31m:\u001b[0m invalid syntax\n"
     ]
    }
   ],
   "source": [
    "code here: KAT"
   ]
  },
  {
   "cell_type": "markdown",
   "metadata": {},
   "source": [
    "***Findings***: Leveraged the [imdb_title_basics] dataset to find the titles from top 5 grossing films and noted identified genres for each film"
   ]
  },
  {
   "cell_type": "markdown",
   "metadata": {},
   "source": [
    "## Top 5 grossing films by year"
   ]
  },
  {
   "cell_type": "markdown",
   "metadata": {},
   "source": [
    "### What are the titles of the films?"
   ]
  },
  {
   "cell_type": "code",
   "execution_count": null,
   "metadata": {
    "ExecuteTime": {
     "end_time": "2020-06-19T21:43:51.420970Z",
     "start_time": "2020-06-19T21:43:44.586Z"
    },
    "scrolled": true
   },
   "outputs": [],
   "source": [
    "conn = sqlite3.connect('movie.db') \n",
    "cur = conn.cursor()\n",
    "\n",
    "cur.execute(\"\"\" \n",
    "SELECT \n",
    "  DISTINCT year, domestic_gross, movie\n",
    "FROM tn_movie_budgets \n",
    "ORDER BY domestic_gross DESC\n",
    ";\n",
    "\"\"\")\n",
    "\n",
    "dft = pd.DataFrame(cur.fetchall())\n",
    "dft.columns = (x[0] for x in cur.description)\n",
    "#print(dft.shape)\n",
    "#print(dft.info())\n",
    "\n",
    "dft.head()"
   ]
  },
  {
   "cell_type": "markdown",
   "metadata": {},
   "source": [
    "### What was the production cost?"
   ]
  },
  {
   "cell_type": "code",
   "execution_count": null,
   "metadata": {
    "ExecuteTime": {
     "end_time": "2020-06-19T21:43:51.421967Z",
     "start_time": "2020-06-19T21:43:44.589Z"
    }
   },
   "outputs": [],
   "source": [
    "conn = sqlite3.connect('movie.db') \n",
    "cur = conn.cursor()\n",
    "\n",
    "cur.execute(\"\"\" \n",
    "SELECT \n",
    "  DISTINCT year, production_budget, movie\n",
    "FROM tn_movie_budgets \n",
    "ORDER BY domestic_gross DESC\n",
    ";\n",
    "\"\"\")\n",
    "\n",
    "dft = pd.DataFrame(cur.fetchall())\n",
    "dft.columns = (x[0] for x in cur.description)\n",
    "#print(dft.shape)\n",
    "#print(dft.info())\n",
    "\n",
    "dft.head()"
   ]
  },
  {
   "cell_type": "markdown",
   "metadata": {},
   "source": [
    "***Findings***: write summary here"
   ]
  },
  {
   "cell_type": "markdown",
   "metadata": {},
   "source": [
    "### What was the runtime?"
   ]
  },
  {
   "cell_type": "code",
   "execution_count": null,
   "metadata": {
    "ExecuteTime": {
     "end_time": "2020-06-19T21:43:51.422964Z",
     "start_time": "2020-06-19T21:43:44.592Z"
    }
   },
   "outputs": [],
   "source": [
    "code here: KAT"
   ]
  },
  {
   "cell_type": "markdown",
   "metadata": {},
   "source": [
    "***Findings***: write summary here >> Leveraged the [imdb_title_basics] dataset to find the titles from top 5 grossing films and noted the runtime for each film"
   ]
  },
  {
   "cell_type": "markdown",
   "metadata": {},
   "source": [
    "## Most recently, what has been the average production cost? "
   ]
  },
  {
   "cell_type": "code",
   "execution_count": 22,
   "metadata": {
    "ExecuteTime": {
     "end_time": "2020-06-19T21:55:03.768958Z",
     "start_time": "2020-06-19T21:55:03.733053Z"
    }
   },
   "outputs": [
    {
     "data": {
      "text/html": [
       "<div>\n",
       "<style scoped>\n",
       "    .dataframe tbody tr th:only-of-type {\n",
       "        vertical-align: middle;\n",
       "    }\n",
       "\n",
       "    .dataframe tbody tr th {\n",
       "        vertical-align: top;\n",
       "    }\n",
       "\n",
       "    .dataframe thead th {\n",
       "        text-align: right;\n",
       "    }\n",
       "</style>\n",
       "<table border=\"1\" class=\"dataframe\">\n",
       "  <thead>\n",
       "    <tr style=\"text-align: right;\">\n",
       "      <th></th>\n",
       "      <th>id</th>\n",
       "      <th>original_title</th>\n",
       "      <th>popularity</th>\n",
       "      <th>release_date_x</th>\n",
       "      <th>vote_average</th>\n",
       "      <th>vote_count</th>\n",
       "      <th>Fantasy</th>\n",
       "      <th>Drama</th>\n",
       "      <th>War</th>\n",
       "      <th>Mystery</th>\n",
       "      <th>...</th>\n",
       "      <th>History</th>\n",
       "      <th>Science Fiction</th>\n",
       "      <th>Horror</th>\n",
       "      <th>original_language</th>\n",
       "      <th>release_date_y</th>\n",
       "      <th>production_budget</th>\n",
       "      <th>domestic_gross</th>\n",
       "      <th>worldwide_gross</th>\n",
       "      <th>domesticgross_v_production</th>\n",
       "      <th>total_net</th>\n",
       "    </tr>\n",
       "  </thead>\n",
       "  <tbody>\n",
       "    <tr>\n",
       "      <td>6</td>\n",
       "      <td>19995</td>\n",
       "      <td>Avatar</td>\n",
       "      <td>26.53</td>\n",
       "      <td>2009-12-18</td>\n",
       "      <td>7.40</td>\n",
       "      <td>18676</td>\n",
       "      <td>1.00</td>\n",
       "      <td>0.00</td>\n",
       "      <td>0.00</td>\n",
       "      <td>0.00</td>\n",
       "      <td>...</td>\n",
       "      <td>0.00</td>\n",
       "      <td>1.00</td>\n",
       "      <td>0.00</td>\n",
       "      <td>English</td>\n",
       "      <td>Dec 18, 2009</td>\n",
       "      <td>425000000.00</td>\n",
       "      <td>760507625.00</td>\n",
       "      <td>2776345279.00</td>\n",
       "      <td>335507625.00</td>\n",
       "      <td>2351345279.00</td>\n",
       "    </tr>\n",
       "    <tr>\n",
       "      <td>2481</td>\n",
       "      <td>1865</td>\n",
       "      <td>Pirates of the Caribbean: On Stranger Tides</td>\n",
       "      <td>30.58</td>\n",
       "      <td>2011-05-20</td>\n",
       "      <td>6.40</td>\n",
       "      <td>8571</td>\n",
       "      <td>1.00</td>\n",
       "      <td>0.00</td>\n",
       "      <td>0.00</td>\n",
       "      <td>0.00</td>\n",
       "      <td>...</td>\n",
       "      <td>0.00</td>\n",
       "      <td>0.00</td>\n",
       "      <td>0.00</td>\n",
       "      <td>English</td>\n",
       "      <td>May 20, 2011</td>\n",
       "      <td>410600000.00</td>\n",
       "      <td>241063875.00</td>\n",
       "      <td>1045663875.00</td>\n",
       "      <td>-169536125.00</td>\n",
       "      <td>635063875.00</td>\n",
       "    </tr>\n",
       "    <tr>\n",
       "      <td>14211</td>\n",
       "      <td>99861</td>\n",
       "      <td>Avengers: Age of Ultron</td>\n",
       "      <td>44.38</td>\n",
       "      <td>2015-05-01</td>\n",
       "      <td>7.30</td>\n",
       "      <td>13457</td>\n",
       "      <td>0.00</td>\n",
       "      <td>0.00</td>\n",
       "      <td>0.00</td>\n",
       "      <td>0.00</td>\n",
       "      <td>...</td>\n",
       "      <td>0.00</td>\n",
       "      <td>1.00</td>\n",
       "      <td>0.00</td>\n",
       "      <td>English</td>\n",
       "      <td>May 1, 2015</td>\n",
       "      <td>330600000.00</td>\n",
       "      <td>459005868.00</td>\n",
       "      <td>1403013963.00</td>\n",
       "      <td>128405868.00</td>\n",
       "      <td>1072413963.00</td>\n",
       "    </tr>\n",
       "    <tr>\n",
       "      <td>14217</td>\n",
       "      <td>206647</td>\n",
       "      <td>Spectre</td>\n",
       "      <td>30.32</td>\n",
       "      <td>2015-11-06</td>\n",
       "      <td>6.40</td>\n",
       "      <td>6719</td>\n",
       "      <td>0.00</td>\n",
       "      <td>0.00</td>\n",
       "      <td>0.00</td>\n",
       "      <td>0.00</td>\n",
       "      <td>...</td>\n",
       "      <td>0.00</td>\n",
       "      <td>0.00</td>\n",
       "      <td>0.00</td>\n",
       "      <td>English</td>\n",
       "      <td>Nov 6, 2015</td>\n",
       "      <td>300000000.00</td>\n",
       "      <td>200074175.00</td>\n",
       "      <td>879620923.00</td>\n",
       "      <td>-99925825.00</td>\n",
       "      <td>579620923.00</td>\n",
       "    </tr>\n",
       "    <tr>\n",
       "      <td>17440</td>\n",
       "      <td>206647</td>\n",
       "      <td>Spectre</td>\n",
       "      <td>30.32</td>\n",
       "      <td>2015-11-06</td>\n",
       "      <td>6.40</td>\n",
       "      <td>6719</td>\n",
       "      <td>0.00</td>\n",
       "      <td>0.00</td>\n",
       "      <td>0.00</td>\n",
       "      <td>0.00</td>\n",
       "      <td>...</td>\n",
       "      <td>0.00</td>\n",
       "      <td>0.00</td>\n",
       "      <td>0.00</td>\n",
       "      <td>English</td>\n",
       "      <td>Nov 6, 2015</td>\n",
       "      <td>300000000.00</td>\n",
       "      <td>200074175.00</td>\n",
       "      <td>879620923.00</td>\n",
       "      <td>-99925825.00</td>\n",
       "      <td>579620923.00</td>\n",
       "    </tr>\n",
       "  </tbody>\n",
       "</table>\n",
       "<p>5 rows × 32 columns</p>\n",
       "</div>"
      ],
      "text/plain": [
       "           id                               original_title  popularity  \\\n",
       "6       19995                                       Avatar       26.53   \n",
       "2481     1865  Pirates of the Caribbean: On Stranger Tides       30.58   \n",
       "14211   99861                      Avengers: Age of Ultron       44.38   \n",
       "14217  206647                                      Spectre       30.32   \n",
       "17440  206647                                      Spectre       30.32   \n",
       "\n",
       "      release_date_x  vote_average  vote_count  Fantasy  Drama  War  Mystery  \\\n",
       "6         2009-12-18          7.40       18676     1.00   0.00 0.00     0.00   \n",
       "2481      2011-05-20          6.40        8571     1.00   0.00 0.00     0.00   \n",
       "14211     2015-05-01          7.30       13457     0.00   0.00 0.00     0.00   \n",
       "14217     2015-11-06          6.40        6719     0.00   0.00 0.00     0.00   \n",
       "17440     2015-11-06          6.40        6719     0.00   0.00 0.00     0.00   \n",
       "\n",
       "       ...  History  Science Fiction  Horror  original_language  \\\n",
       "6      ...     0.00             1.00    0.00            English   \n",
       "2481   ...     0.00             0.00    0.00            English   \n",
       "14211  ...     0.00             1.00    0.00            English   \n",
       "14217  ...     0.00             0.00    0.00            English   \n",
       "17440  ...     0.00             0.00    0.00            English   \n",
       "\n",
       "       release_date_y  production_budget  domestic_gross  worldwide_gross  \\\n",
       "6        Dec 18, 2009       425000000.00    760507625.00    2776345279.00   \n",
       "2481     May 20, 2011       410600000.00    241063875.00    1045663875.00   \n",
       "14211     May 1, 2015       330600000.00    459005868.00    1403013963.00   \n",
       "14217     Nov 6, 2015       300000000.00    200074175.00     879620923.00   \n",
       "17440     Nov 6, 2015       300000000.00    200074175.00     879620923.00   \n",
       "\n",
       "       domesticgross_v_production     total_net  \n",
       "6                    335507625.00 2351345279.00  \n",
       "2481                -169536125.00  635063875.00  \n",
       "14211                128405868.00 1072413963.00  \n",
       "14217                -99925825.00  579620923.00  \n",
       "17440                -99925825.00  579620923.00  \n",
       "\n",
       "[5 rows x 32 columns]"
      ]
     },
     "execution_count": 22,
     "metadata": {},
     "output_type": "execute_result"
    }
   ],
   "source": [
    "#sort by production budget\n",
    "\n",
    "productioncosts = tmdb_mglb_df.sort_values(by=['production_budget'], ascending=False)\n",
    "\n",
    "productioncosts.head()"
   ]
  },
  {
   "cell_type": "code",
   "execution_count": 23,
   "metadata": {
    "ExecuteTime": {
     "end_time": "2020-06-19T21:57:07.311549Z",
     "start_time": "2020-06-19T21:57:07.265644Z"
    }
   },
   "outputs": [
    {
     "data": {
      "text/html": [
       "<div>\n",
       "<style scoped>\n",
       "    .dataframe tbody tr th:only-of-type {\n",
       "        vertical-align: middle;\n",
       "    }\n",
       "\n",
       "    .dataframe tbody tr th {\n",
       "        vertical-align: top;\n",
       "    }\n",
       "\n",
       "    .dataframe thead th {\n",
       "        text-align: right;\n",
       "    }\n",
       "</style>\n",
       "<table border=\"1\" class=\"dataframe\">\n",
       "  <thead>\n",
       "    <tr style=\"text-align: right;\">\n",
       "      <th></th>\n",
       "      <th>id</th>\n",
       "      <th>original_title</th>\n",
       "      <th>popularity</th>\n",
       "      <th>release_date_x</th>\n",
       "      <th>vote_average</th>\n",
       "      <th>vote_count</th>\n",
       "      <th>Fantasy</th>\n",
       "      <th>Drama</th>\n",
       "      <th>War</th>\n",
       "      <th>Mystery</th>\n",
       "      <th>...</th>\n",
       "      <th>History</th>\n",
       "      <th>Science Fiction</th>\n",
       "      <th>Horror</th>\n",
       "      <th>original_language</th>\n",
       "      <th>release_date_y</th>\n",
       "      <th>production_budget</th>\n",
       "      <th>domestic_gross</th>\n",
       "      <th>worldwide_gross</th>\n",
       "      <th>domesticgross_v_production</th>\n",
       "      <th>total_net</th>\n",
       "    </tr>\n",
       "  </thead>\n",
       "  <tbody>\n",
       "    <tr>\n",
       "      <td>6</td>\n",
       "      <td>19995</td>\n",
       "      <td>Avatar</td>\n",
       "      <td>26.53</td>\n",
       "      <td>2009-12-18</td>\n",
       "      <td>7.40</td>\n",
       "      <td>18676</td>\n",
       "      <td>1.00</td>\n",
       "      <td>0.00</td>\n",
       "      <td>0.00</td>\n",
       "      <td>0.00</td>\n",
       "      <td>...</td>\n",
       "      <td>0.00</td>\n",
       "      <td>1.00</td>\n",
       "      <td>0.00</td>\n",
       "      <td>English</td>\n",
       "      <td>Dec 18, 2009</td>\n",
       "      <td>425000000.00</td>\n",
       "      <td>760507625.00</td>\n",
       "      <td>2776345279.00</td>\n",
       "      <td>335507625.00</td>\n",
       "      <td>2351345279.00</td>\n",
       "    </tr>\n",
       "    <tr>\n",
       "      <td>2481</td>\n",
       "      <td>1865</td>\n",
       "      <td>Pirates of the Caribbean: On Stranger Tides</td>\n",
       "      <td>30.58</td>\n",
       "      <td>2011-05-20</td>\n",
       "      <td>6.40</td>\n",
       "      <td>8571</td>\n",
       "      <td>1.00</td>\n",
       "      <td>0.00</td>\n",
       "      <td>0.00</td>\n",
       "      <td>0.00</td>\n",
       "      <td>...</td>\n",
       "      <td>0.00</td>\n",
       "      <td>0.00</td>\n",
       "      <td>0.00</td>\n",
       "      <td>English</td>\n",
       "      <td>May 20, 2011</td>\n",
       "      <td>410600000.00</td>\n",
       "      <td>241063875.00</td>\n",
       "      <td>1045663875.00</td>\n",
       "      <td>-169536125.00</td>\n",
       "      <td>635063875.00</td>\n",
       "    </tr>\n",
       "    <tr>\n",
       "      <td>14211</td>\n",
       "      <td>99861</td>\n",
       "      <td>Avengers: Age of Ultron</td>\n",
       "      <td>44.38</td>\n",
       "      <td>2015-05-01</td>\n",
       "      <td>7.30</td>\n",
       "      <td>13457</td>\n",
       "      <td>0.00</td>\n",
       "      <td>0.00</td>\n",
       "      <td>0.00</td>\n",
       "      <td>0.00</td>\n",
       "      <td>...</td>\n",
       "      <td>0.00</td>\n",
       "      <td>1.00</td>\n",
       "      <td>0.00</td>\n",
       "      <td>English</td>\n",
       "      <td>May 1, 2015</td>\n",
       "      <td>330600000.00</td>\n",
       "      <td>459005868.00</td>\n",
       "      <td>1403013963.00</td>\n",
       "      <td>128405868.00</td>\n",
       "      <td>1072413963.00</td>\n",
       "    </tr>\n",
       "    <tr>\n",
       "      <td>14217</td>\n",
       "      <td>206647</td>\n",
       "      <td>Spectre</td>\n",
       "      <td>30.32</td>\n",
       "      <td>2015-11-06</td>\n",
       "      <td>6.40</td>\n",
       "      <td>6719</td>\n",
       "      <td>0.00</td>\n",
       "      <td>0.00</td>\n",
       "      <td>0.00</td>\n",
       "      <td>0.00</td>\n",
       "      <td>...</td>\n",
       "      <td>0.00</td>\n",
       "      <td>0.00</td>\n",
       "      <td>0.00</td>\n",
       "      <td>English</td>\n",
       "      <td>Nov 6, 2015</td>\n",
       "      <td>300000000.00</td>\n",
       "      <td>200074175.00</td>\n",
       "      <td>879620923.00</td>\n",
       "      <td>-99925825.00</td>\n",
       "      <td>579620923.00</td>\n",
       "    </tr>\n",
       "    <tr>\n",
       "      <td>17440</td>\n",
       "      <td>206647</td>\n",
       "      <td>Spectre</td>\n",
       "      <td>30.32</td>\n",
       "      <td>2015-11-06</td>\n",
       "      <td>6.40</td>\n",
       "      <td>6719</td>\n",
       "      <td>0.00</td>\n",
       "      <td>0.00</td>\n",
       "      <td>0.00</td>\n",
       "      <td>0.00</td>\n",
       "      <td>...</td>\n",
       "      <td>0.00</td>\n",
       "      <td>0.00</td>\n",
       "      <td>0.00</td>\n",
       "      <td>English</td>\n",
       "      <td>Nov 6, 2015</td>\n",
       "      <td>300000000.00</td>\n",
       "      <td>200074175.00</td>\n",
       "      <td>879620923.00</td>\n",
       "      <td>-99925825.00</td>\n",
       "      <td>579620923.00</td>\n",
       "    </tr>\n",
       "    <tr>\n",
       "      <td>...</td>\n",
       "      <td>...</td>\n",
       "      <td>...</td>\n",
       "      <td>...</td>\n",
       "      <td>...</td>\n",
       "      <td>...</td>\n",
       "      <td>...</td>\n",
       "      <td>...</td>\n",
       "      <td>...</td>\n",
       "      <td>...</td>\n",
       "      <td>...</td>\n",
       "      <td>...</td>\n",
       "      <td>...</td>\n",
       "      <td>...</td>\n",
       "      <td>...</td>\n",
       "      <td>...</td>\n",
       "      <td>...</td>\n",
       "      <td>...</td>\n",
       "      <td>...</td>\n",
       "      <td>...</td>\n",
       "      <td>...</td>\n",
       "      <td>...</td>\n",
       "    </tr>\n",
       "    <tr>\n",
       "      <td>12365</td>\n",
       "      <td>279516</td>\n",
       "      <td>Ten</td>\n",
       "      <td>1.57</td>\n",
       "      <td>2014-03-28</td>\n",
       "      <td>5.40</td>\n",
       "      <td>5</td>\n",
       "      <td>0.00</td>\n",
       "      <td>0.00</td>\n",
       "      <td>0.00</td>\n",
       "      <td>1.00</td>\n",
       "      <td>...</td>\n",
       "      <td>0.00</td>\n",
       "      <td>0.00</td>\n",
       "      <td>1.00</td>\n",
       "      <td>English</td>\n",
       "      <td>Apr 21, 2015</td>\n",
       "      <td>25000.00</td>\n",
       "      <td>0.00</td>\n",
       "      <td>0.00</td>\n",
       "      <td>-25000.00</td>\n",
       "      <td>-25000.00</td>\n",
       "    </tr>\n",
       "    <tr>\n",
       "      <td>14730</td>\n",
       "      <td>226458</td>\n",
       "      <td>Exeter</td>\n",
       "      <td>5.93</td>\n",
       "      <td>2015-03-26</td>\n",
       "      <td>4.70</td>\n",
       "      <td>121</td>\n",
       "      <td>0.00</td>\n",
       "      <td>0.00</td>\n",
       "      <td>0.00</td>\n",
       "      <td>0.00</td>\n",
       "      <td>...</td>\n",
       "      <td>0.00</td>\n",
       "      <td>0.00</td>\n",
       "      <td>1.00</td>\n",
       "      <td>English</td>\n",
       "      <td>Sep 1, 2015</td>\n",
       "      <td>25000.00</td>\n",
       "      <td>0.00</td>\n",
       "      <td>489792.00</td>\n",
       "      <td>-25000.00</td>\n",
       "      <td>464792.00</td>\n",
       "    </tr>\n",
       "    <tr>\n",
       "      <td>10500</td>\n",
       "      <td>255266</td>\n",
       "      <td>Dry Spell</td>\n",
       "      <td>0.60</td>\n",
       "      <td>2013-02-14</td>\n",
       "      <td>6.00</td>\n",
       "      <td>1</td>\n",
       "      <td>0.00</td>\n",
       "      <td>0.00</td>\n",
       "      <td>0.00</td>\n",
       "      <td>0.00</td>\n",
       "      <td>...</td>\n",
       "      <td>0.00</td>\n",
       "      <td>0.00</td>\n",
       "      <td>0.00</td>\n",
       "      <td>English</td>\n",
       "      <td>Dec 31, 2014</td>\n",
       "      <td>22000.00</td>\n",
       "      <td>0.00</td>\n",
       "      <td>0.00</td>\n",
       "      <td>-22000.00</td>\n",
       "      <td>-22000.00</td>\n",
       "    </tr>\n",
       "    <tr>\n",
       "      <td>8920</td>\n",
       "      <td>86304</td>\n",
       "      <td>All Superheroes Must Die</td>\n",
       "      <td>2.08</td>\n",
       "      <td>2013-01-04</td>\n",
       "      <td>3.90</td>\n",
       "      <td>19</td>\n",
       "      <td>0.00</td>\n",
       "      <td>0.00</td>\n",
       "      <td>0.00</td>\n",
       "      <td>0.00</td>\n",
       "      <td>...</td>\n",
       "      <td>0.00</td>\n",
       "      <td>1.00</td>\n",
       "      <td>0.00</td>\n",
       "      <td>English</td>\n",
       "      <td>Jan 4, 2013</td>\n",
       "      <td>20000.00</td>\n",
       "      <td>0.00</td>\n",
       "      <td>0.00</td>\n",
       "      <td>-20000.00</td>\n",
       "      <td>-20000.00</td>\n",
       "    </tr>\n",
       "    <tr>\n",
       "      <td>3484</td>\n",
       "      <td>72766</td>\n",
       "      <td>Newlyweds</td>\n",
       "      <td>1.97</td>\n",
       "      <td>2011-12-26</td>\n",
       "      <td>5.40</td>\n",
       "      <td>7</td>\n",
       "      <td>0.00</td>\n",
       "      <td>0.00</td>\n",
       "      <td>0.00</td>\n",
       "      <td>0.00</td>\n",
       "      <td>...</td>\n",
       "      <td>0.00</td>\n",
       "      <td>0.00</td>\n",
       "      <td>0.00</td>\n",
       "      <td>English</td>\n",
       "      <td>Jan 13, 2012</td>\n",
       "      <td>9000.00</td>\n",
       "      <td>4584.00</td>\n",
       "      <td>4584.00</td>\n",
       "      <td>-4416.00</td>\n",
       "      <td>-4416.00</td>\n",
       "    </tr>\n",
       "  </tbody>\n",
       "</table>\n",
       "<p>2316 rows × 32 columns</p>\n",
       "</div>"
      ],
      "text/plain": [
       "           id                               original_title  popularity  \\\n",
       "6       19995                                       Avatar       26.53   \n",
       "2481     1865  Pirates of the Caribbean: On Stranger Tides       30.58   \n",
       "14211   99861                      Avengers: Age of Ultron       44.38   \n",
       "14217  206647                                      Spectre       30.32   \n",
       "17440  206647                                      Spectre       30.32   \n",
       "...       ...                                          ...         ...   \n",
       "12365  279516                                          Ten        1.57   \n",
       "14730  226458                                       Exeter        5.93   \n",
       "10500  255266                                    Dry Spell        0.60   \n",
       "8920    86304                     All Superheroes Must Die        2.08   \n",
       "3484    72766                                    Newlyweds        1.97   \n",
       "\n",
       "      release_date_x  vote_average  vote_count  Fantasy  Drama  War  Mystery  \\\n",
       "6         2009-12-18          7.40       18676     1.00   0.00 0.00     0.00   \n",
       "2481      2011-05-20          6.40        8571     1.00   0.00 0.00     0.00   \n",
       "14211     2015-05-01          7.30       13457     0.00   0.00 0.00     0.00   \n",
       "14217     2015-11-06          6.40        6719     0.00   0.00 0.00     0.00   \n",
       "17440     2015-11-06          6.40        6719     0.00   0.00 0.00     0.00   \n",
       "...              ...           ...         ...      ...    ...  ...      ...   \n",
       "12365     2014-03-28          5.40           5     0.00   0.00 0.00     1.00   \n",
       "14730     2015-03-26          4.70         121     0.00   0.00 0.00     0.00   \n",
       "10500     2013-02-14          6.00           1     0.00   0.00 0.00     0.00   \n",
       "8920      2013-01-04          3.90          19     0.00   0.00 0.00     0.00   \n",
       "3484      2011-12-26          5.40           7     0.00   0.00 0.00     0.00   \n",
       "\n",
       "       ...  History  Science Fiction  Horror  original_language  \\\n",
       "6      ...     0.00             1.00    0.00            English   \n",
       "2481   ...     0.00             0.00    0.00            English   \n",
       "14211  ...     0.00             1.00    0.00            English   \n",
       "14217  ...     0.00             0.00    0.00            English   \n",
       "17440  ...     0.00             0.00    0.00            English   \n",
       "...    ...      ...              ...     ...                ...   \n",
       "12365  ...     0.00             0.00    1.00            English   \n",
       "14730  ...     0.00             0.00    1.00            English   \n",
       "10500  ...     0.00             0.00    0.00            English   \n",
       "8920   ...     0.00             1.00    0.00            English   \n",
       "3484   ...     0.00             0.00    0.00            English   \n",
       "\n",
       "       release_date_y  production_budget  domestic_gross  worldwide_gross  \\\n",
       "6        Dec 18, 2009       425000000.00    760507625.00    2776345279.00   \n",
       "2481     May 20, 2011       410600000.00    241063875.00    1045663875.00   \n",
       "14211     May 1, 2015       330600000.00    459005868.00    1403013963.00   \n",
       "14217     Nov 6, 2015       300000000.00    200074175.00     879620923.00   \n",
       "17440     Nov 6, 2015       300000000.00    200074175.00     879620923.00   \n",
       "...               ...                ...             ...              ...   \n",
       "12365    Apr 21, 2015           25000.00            0.00             0.00   \n",
       "14730     Sep 1, 2015           25000.00            0.00        489792.00   \n",
       "10500    Dec 31, 2014           22000.00            0.00             0.00   \n",
       "8920      Jan 4, 2013           20000.00            0.00             0.00   \n",
       "3484     Jan 13, 2012            9000.00         4584.00          4584.00   \n",
       "\n",
       "       domesticgross_v_production     total_net  \n",
       "6                    335507625.00 2351345279.00  \n",
       "2481                -169536125.00  635063875.00  \n",
       "14211                128405868.00 1072413963.00  \n",
       "14217                -99925825.00  579620923.00  \n",
       "17440                -99925825.00  579620923.00  \n",
       "...                           ...           ...  \n",
       "12365                   -25000.00     -25000.00  \n",
       "14730                   -25000.00     464792.00  \n",
       "10500                   -22000.00     -22000.00  \n",
       "8920                    -20000.00     -20000.00  \n",
       "3484                     -4416.00      -4416.00  \n",
       "\n",
       "[2316 rows x 32 columns]"
      ]
     },
     "execution_count": 23,
     "metadata": {},
     "output_type": "execute_result"
    }
   ],
   "source": [
    "#remove rows with missing values in place/within the original dataframe\n",
    "\n",
    "productioncosts.dropna(inplace = True) \n",
    "\n",
    "productioncosts"
   ]
  },
  {
   "cell_type": "code",
   "execution_count": 26,
   "metadata": {
    "ExecuteTime": {
     "end_time": "2020-06-19T22:02:38.279700Z",
     "start_time": "2020-06-19T22:02:38.258715Z"
    }
   },
   "outputs": [
    {
     "data": {
      "text/plain": [
       "19000000.0"
      ]
     },
     "execution_count": 26,
     "metadata": {},
     "output_type": "execute_result"
    }
   ],
   "source": [
    "#calculate median of production_budget column\n",
    "\n",
    "productioncosts.loc[:, 'production_budget'].median()"
   ]
  },
  {
   "cell_type": "markdown",
   "metadata": {
    "ExecuteTime": {
     "end_time": "2020-06-19T21:59:36.030592Z",
     "start_time": "2020-06-19T21:59:36.020635Z"
    }
   },
   "source": [
    "***Findings***: Median/Average production costs - 19,000,000"
   ]
  },
  {
   "cell_type": "markdown",
   "metadata": {},
   "source": [
    "## Which 5 genres had the highest box office revenue?"
   ]
  },
  {
   "cell_type": "code",
   "execution_count": null,
   "metadata": {
    "ExecuteTime": {
     "end_time": "2020-06-19T21:43:51.426953Z",
     "start_time": "2020-06-19T21:43:44.600Z"
    }
   },
   "outputs": [],
   "source": [
    "code here: KAT"
   ]
  },
  {
   "cell_type": "markdown",
   "metadata": {},
   "source": [
    "***Findings***: In the Rotten Tomatoes dataset, Is there a common genre associated with highest box office revenue?"
   ]
  },
  {
   "cell_type": "markdown",
   "metadata": {},
   "source": [
    "## Data Visualization"
   ]
  },
  {
   "cell_type": "code",
   "execution_count": null,
   "metadata": {
    "ExecuteTime": {
     "end_time": "2020-06-19T21:43:51.428947Z",
     "start_time": "2020-06-19T21:43:44.603Z"
    }
   },
   "outputs": [],
   "source": [
    "code here"
   ]
  },
  {
   "cell_type": "markdown",
   "metadata": {},
   "source": [
    "***Findings***: write summary here"
   ]
  }
 ],
 "metadata": {
  "kernelspec": {
   "display_name": "Python [conda env:learn-env] *",
   "language": "python",
   "name": "conda-env-learn-env-py"
  },
  "language_info": {
   "codemirror_mode": {
    "name": "ipython",
    "version": 3
   },
   "file_extension": ".py",
   "mimetype": "text/x-python",
   "name": "python",
   "nbconvert_exporter": "python",
   "pygments_lexer": "ipython3",
   "version": "3.6.9"
  },
  "toc": {
   "base_numbering": 1,
   "nav_menu": {},
   "number_sections": true,
   "sideBar": true,
   "skip_h1_title": false,
   "title_cell": "Table of Contents",
   "title_sidebar": "Contents",
   "toc_cell": false,
   "toc_position": {},
   "toc_section_display": true,
   "toc_window_display": true
  },
  "varInspector": {
   "cols": {
    "lenName": 16,
    "lenType": 16,
    "lenVar": 40
   },
   "kernels_config": {
    "python": {
     "delete_cmd_postfix": "",
     "delete_cmd_prefix": "del ",
     "library": "var_list.py",
     "varRefreshCmd": "print(var_dic_list())"
    },
    "r": {
     "delete_cmd_postfix": ") ",
     "delete_cmd_prefix": "rm(",
     "library": "var_list.r",
     "varRefreshCmd": "cat(var_dic_list()) "
    }
   },
   "position": {
    "height": "416px",
    "left": "1070px",
    "right": "20px",
    "top": "118px",
    "width": "350px"
   },
   "types_to_exclude": [
    "module",
    "function",
    "builtin_function_or_method",
    "instance",
    "_Feature"
   ],
   "window_display": false
  }
 },
 "nbformat": 4,
 "nbformat_minor": 2
}
