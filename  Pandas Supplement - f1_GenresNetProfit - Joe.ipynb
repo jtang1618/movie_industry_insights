{
 "cells": [
  {
   "cell_type": "markdown",
   "metadata": {},
   "source": [
    "# Finding 1 using Pandas - Joe"
   ]
  },
  {
   "cell_type": "markdown",
   "metadata": {},
   "source": [
    "# Genres that yield highest net profit"
   ]
  },
  {
   "cell_type": "markdown",
   "metadata": {},
   "source": [
    "## import the data"
   ]
  },
  {
   "cell_type": "code",
   "execution_count": 109,
   "metadata": {
    "ExecuteTime": {
     "end_time": "2020-06-21T04:50:12.278112Z",
     "start_time": "2020-06-21T04:50:12.263138Z"
    }
   },
   "outputs": [],
   "source": [
    "#necessary imports\n",
    "\n",
    "import sqlite3\n",
    "import os\n",
    "import pandas as pd\n",
    "import numpy as np\n",
    "import matplotlib.pyplot as plt\n",
    "import seaborn as sns\n",
    "from glob import glob"
   ]
  },
  {
   "cell_type": "code",
   "execution_count": 110,
   "metadata": {
    "ExecuteTime": {
     "end_time": "2020-06-21T04:50:12.294054Z",
     "start_time": "2020-06-21T04:50:12.280101Z"
    }
   },
   "outputs": [],
   "source": [
    "#changing the display settings in dataframes to only format floats and display columns\n",
    "\n",
    "pd.options.display.float_format = '{:.2f}'.format\n",
    "pd.set_option('display.max_columns', None)\n",
    "pd.set_option('max_rows', 100)"
   ]
  },
  {
   "cell_type": "code",
   "execution_count": 112,
   "metadata": {
    "ExecuteTime": {
     "end_time": "2020-06-21T04:50:13.545998Z",
     "start_time": "2020-06-21T04:50:13.532035Z"
    }
   },
   "outputs": [
    {
     "data": {
      "text/plain": [
       "['./zippedData\\\\bom.movie_gross.csv.gz',\n",
       " './zippedData\\\\imdb.name.basics.csv.gz',\n",
       " './zippedData\\\\imdb.title.akas.csv.gz',\n",
       " './zippedData\\\\imdb.title.basics.csv.gz',\n",
       " './zippedData\\\\imdb.title.crew.csv.gz',\n",
       " './zippedData\\\\imdb.title.principals.csv.gz',\n",
       " './zippedData\\\\rt.movie_info.csv.gz',\n",
       " './zippedData\\\\rt.reviews.csv.gz',\n",
       " './zippedData\\\\tmdb.movies.csv.gz',\n",
       " './zippedData\\\\tn.movie_budgets.csv.gz']"
      ]
     },
     "execution_count": 112,
     "metadata": {},
     "output_type": "execute_result"
    }
   ],
   "source": [
    "#importing data using glob\n",
    "\n",
    "datafiles = glob(\"./zippedData/*.csv.gz\")\n",
    "datafiles"
   ]
  },
  {
   "cell_type": "code",
   "execution_count": 113,
   "metadata": {
    "ExecuteTime": {
     "end_time": "2020-06-21T04:50:16.807478Z",
     "start_time": "2020-06-21T04:50:13.546995Z"
    }
   },
   "outputs": [],
   "source": [
    "datafiles_dict = {}\n",
    "for filename in datafiles:\n",
    "    filename_cleaned = os.path.basename(filename).replace(\".csv\", \"\").replace(\".gz\", \"\").replace(\".\", \"_\") # cleaning the filenames\n",
    "    filename_df = pd.read_csv(filename)\n",
    "    datafiles_dict[filename_cleaned] = filename_df"
   ]
  },
  {
   "cell_type": "code",
   "execution_count": 114,
   "metadata": {
    "ExecuteTime": {
     "end_time": "2020-06-21T04:50:16.823378Z",
     "start_time": "2020-06-21T04:50:16.809318Z"
    },
    "scrolled": false
   },
   "outputs": [
    {
     "name": "stdout",
     "output_type": "stream",
     "text": [
      "dict_keys(['bom_movie_gross', 'imdb_name_basics', 'imdb_title_akas', 'imdb_title_basics', 'imdb_title_crew', 'imdb_title_principals', 'rt_movie_info', 'rt_reviews', 'tmdb_movies', 'tn_movie_budgets'])\n"
     ]
    }
   ],
   "source": [
    "print(datafiles_dict.keys())"
   ]
  },
  {
   "cell_type": "code",
   "execution_count": 115,
   "metadata": {
    "ExecuteTime": {
     "end_time": "2020-06-21T04:50:16.946947Z",
     "start_time": "2020-06-21T04:50:16.826272Z"
    }
   },
   "outputs": [
    {
     "data": {
      "text/html": [
       "<div>\n",
       "<style scoped>\n",
       "    .dataframe tbody tr th:only-of-type {\n",
       "        vertical-align: middle;\n",
       "    }\n",
       "\n",
       "    .dataframe tbody tr th {\n",
       "        vertical-align: top;\n",
       "    }\n",
       "\n",
       "    .dataframe thead th {\n",
       "        text-align: right;\n",
       "    }\n",
       "</style>\n",
       "<table border=\"1\" class=\"dataframe\">\n",
       "  <thead>\n",
       "    <tr style=\"text-align: right;\">\n",
       "      <th></th>\n",
       "      <th>Unnamed: 0</th>\n",
       "      <th>id</th>\n",
       "      <th>original_title</th>\n",
       "      <th>popularity</th>\n",
       "      <th>release_date_x</th>\n",
       "      <th>title</th>\n",
       "      <th>vote_average</th>\n",
       "      <th>vote_count</th>\n",
       "      <th>Fantasy</th>\n",
       "      <th>Drama</th>\n",
       "      <th>War</th>\n",
       "      <th>Mystery</th>\n",
       "      <th>Comedy</th>\n",
       "      <th>Romance</th>\n",
       "      <th>Family</th>\n",
       "      <th>Music</th>\n",
       "      <th>Documentary</th>\n",
       "      <th>Animation</th>\n",
       "      <th>Western</th>\n",
       "      <th>Action</th>\n",
       "      <th>Crime</th>\n",
       "      <th>Thriller</th>\n",
       "      <th>TV Movie</th>\n",
       "      <th>Adventure</th>\n",
       "      <th>History</th>\n",
       "      <th>Science Fiction</th>\n",
       "      <th>Horror</th>\n",
       "      <th>original_language</th>\n",
       "      <th>release_date_y</th>\n",
       "      <th>movie</th>\n",
       "      <th>production_budget</th>\n",
       "      <th>domestic_gross</th>\n",
       "      <th>worldwide_gross</th>\n",
       "      <th>domesticgross_v_production</th>\n",
       "      <th>total_net</th>\n",
       "    </tr>\n",
       "  </thead>\n",
       "  <tbody>\n",
       "    <tr>\n",
       "      <td>0</td>\n",
       "      <td>0</td>\n",
       "      <td>12444</td>\n",
       "      <td>Harry Potter and the Deathly Hallows: Part 1</td>\n",
       "      <td>33.53</td>\n",
       "      <td>2010-11-19</td>\n",
       "      <td>Harry Potter and the Deathly Hallows: Part 1</td>\n",
       "      <td>7.70</td>\n",
       "      <td>10788</td>\n",
       "      <td>1.00</td>\n",
       "      <td>0.00</td>\n",
       "      <td>0.00</td>\n",
       "      <td>0.00</td>\n",
       "      <td>0.00</td>\n",
       "      <td>0.00</td>\n",
       "      <td>1.00</td>\n",
       "      <td>0.00</td>\n",
       "      <td>0.00</td>\n",
       "      <td>0.00</td>\n",
       "      <td>0.00</td>\n",
       "      <td>0.00</td>\n",
       "      <td>0.00</td>\n",
       "      <td>0.00</td>\n",
       "      <td>0.00</td>\n",
       "      <td>1.00</td>\n",
       "      <td>0.00</td>\n",
       "      <td>0.00</td>\n",
       "      <td>0.00</td>\n",
       "      <td>English</td>\n",
       "      <td>NaN</td>\n",
       "      <td>NaN</td>\n",
       "      <td>nan</td>\n",
       "      <td>nan</td>\n",
       "      <td>nan</td>\n",
       "      <td>nan</td>\n",
       "      <td>nan</td>\n",
       "    </tr>\n",
       "    <tr>\n",
       "      <td>1</td>\n",
       "      <td>1</td>\n",
       "      <td>10191</td>\n",
       "      <td>How to Train Your Dragon</td>\n",
       "      <td>28.73</td>\n",
       "      <td>2010-03-26</td>\n",
       "      <td>How to Train Your Dragon</td>\n",
       "      <td>7.70</td>\n",
       "      <td>7610</td>\n",
       "      <td>1.00</td>\n",
       "      <td>0.00</td>\n",
       "      <td>0.00</td>\n",
       "      <td>0.00</td>\n",
       "      <td>0.00</td>\n",
       "      <td>0.00</td>\n",
       "      <td>1.00</td>\n",
       "      <td>0.00</td>\n",
       "      <td>0.00</td>\n",
       "      <td>1.00</td>\n",
       "      <td>0.00</td>\n",
       "      <td>0.00</td>\n",
       "      <td>0.00</td>\n",
       "      <td>0.00</td>\n",
       "      <td>0.00</td>\n",
       "      <td>1.00</td>\n",
       "      <td>0.00</td>\n",
       "      <td>0.00</td>\n",
       "      <td>0.00</td>\n",
       "      <td>English</td>\n",
       "      <td>Mar 26, 2010</td>\n",
       "      <td>How to Train Your Dragon</td>\n",
       "      <td>165000000.00</td>\n",
       "      <td>217581232.00</td>\n",
       "      <td>494870992.00</td>\n",
       "      <td>52581232.00</td>\n",
       "      <td>329870992.00</td>\n",
       "    </tr>\n",
       "    <tr>\n",
       "      <td>2</td>\n",
       "      <td>2</td>\n",
       "      <td>10138</td>\n",
       "      <td>Iron Man 2</td>\n",
       "      <td>28.52</td>\n",
       "      <td>2010-05-07</td>\n",
       "      <td>Iron Man 2</td>\n",
       "      <td>6.80</td>\n",
       "      <td>12368</td>\n",
       "      <td>0.00</td>\n",
       "      <td>0.00</td>\n",
       "      <td>0.00</td>\n",
       "      <td>0.00</td>\n",
       "      <td>0.00</td>\n",
       "      <td>0.00</td>\n",
       "      <td>0.00</td>\n",
       "      <td>0.00</td>\n",
       "      <td>0.00</td>\n",
       "      <td>0.00</td>\n",
       "      <td>0.00</td>\n",
       "      <td>1.00</td>\n",
       "      <td>0.00</td>\n",
       "      <td>0.00</td>\n",
       "      <td>0.00</td>\n",
       "      <td>1.00</td>\n",
       "      <td>0.00</td>\n",
       "      <td>1.00</td>\n",
       "      <td>0.00</td>\n",
       "      <td>English</td>\n",
       "      <td>May 7, 2010</td>\n",
       "      <td>Iron Man 2</td>\n",
       "      <td>170000000.00</td>\n",
       "      <td>312433331.00</td>\n",
       "      <td>621156389.00</td>\n",
       "      <td>142433331.00</td>\n",
       "      <td>451156389.00</td>\n",
       "    </tr>\n",
       "    <tr>\n",
       "      <td>3</td>\n",
       "      <td>3</td>\n",
       "      <td>862</td>\n",
       "      <td>Toy Story</td>\n",
       "      <td>28.00</td>\n",
       "      <td>1995-11-22</td>\n",
       "      <td>Toy Story</td>\n",
       "      <td>7.90</td>\n",
       "      <td>10174</td>\n",
       "      <td>0.00</td>\n",
       "      <td>0.00</td>\n",
       "      <td>0.00</td>\n",
       "      <td>0.00</td>\n",
       "      <td>1.00</td>\n",
       "      <td>0.00</td>\n",
       "      <td>1.00</td>\n",
       "      <td>0.00</td>\n",
       "      <td>0.00</td>\n",
       "      <td>1.00</td>\n",
       "      <td>0.00</td>\n",
       "      <td>0.00</td>\n",
       "      <td>0.00</td>\n",
       "      <td>0.00</td>\n",
       "      <td>0.00</td>\n",
       "      <td>0.00</td>\n",
       "      <td>0.00</td>\n",
       "      <td>0.00</td>\n",
       "      <td>0.00</td>\n",
       "      <td>English</td>\n",
       "      <td>Nov 22, 1995</td>\n",
       "      <td>Toy Story</td>\n",
       "      <td>30000000.00</td>\n",
       "      <td>191796233.00</td>\n",
       "      <td>364545516.00</td>\n",
       "      <td>161796233.00</td>\n",
       "      <td>334545516.00</td>\n",
       "    </tr>\n",
       "    <tr>\n",
       "      <td>4</td>\n",
       "      <td>4</td>\n",
       "      <td>27205</td>\n",
       "      <td>Inception</td>\n",
       "      <td>27.92</td>\n",
       "      <td>2010-07-16</td>\n",
       "      <td>Inception</td>\n",
       "      <td>8.30</td>\n",
       "      <td>22186</td>\n",
       "      <td>0.00</td>\n",
       "      <td>0.00</td>\n",
       "      <td>0.00</td>\n",
       "      <td>0.00</td>\n",
       "      <td>0.00</td>\n",
       "      <td>0.00</td>\n",
       "      <td>0.00</td>\n",
       "      <td>0.00</td>\n",
       "      <td>0.00</td>\n",
       "      <td>0.00</td>\n",
       "      <td>0.00</td>\n",
       "      <td>1.00</td>\n",
       "      <td>0.00</td>\n",
       "      <td>0.00</td>\n",
       "      <td>0.00</td>\n",
       "      <td>1.00</td>\n",
       "      <td>0.00</td>\n",
       "      <td>1.00</td>\n",
       "      <td>0.00</td>\n",
       "      <td>English</td>\n",
       "      <td>Jul 16, 2010</td>\n",
       "      <td>Inception</td>\n",
       "      <td>160000000.00</td>\n",
       "      <td>292576195.00</td>\n",
       "      <td>835524642.00</td>\n",
       "      <td>132576195.00</td>\n",
       "      <td>675524642.00</td>\n",
       "    </tr>\n",
       "  </tbody>\n",
       "</table>\n",
       "</div>"
      ],
      "text/plain": [
       "   Unnamed: 0     id                                original_title  \\\n",
       "0           0  12444  Harry Potter and the Deathly Hallows: Part 1   \n",
       "1           1  10191                      How to Train Your Dragon   \n",
       "2           2  10138                                    Iron Man 2   \n",
       "3           3    862                                     Toy Story   \n",
       "4           4  27205                                     Inception   \n",
       "\n",
       "   popularity release_date_x                                         title  \\\n",
       "0       33.53     2010-11-19  Harry Potter and the Deathly Hallows: Part 1   \n",
       "1       28.73     2010-03-26                      How to Train Your Dragon   \n",
       "2       28.52     2010-05-07                                    Iron Man 2   \n",
       "3       28.00     1995-11-22                                     Toy Story   \n",
       "4       27.92     2010-07-16                                     Inception   \n",
       "\n",
       "   vote_average  vote_count  Fantasy  Drama  War  Mystery  Comedy  Romance  \\\n",
       "0          7.70       10788     1.00   0.00 0.00     0.00    0.00     0.00   \n",
       "1          7.70        7610     1.00   0.00 0.00     0.00    0.00     0.00   \n",
       "2          6.80       12368     0.00   0.00 0.00     0.00    0.00     0.00   \n",
       "3          7.90       10174     0.00   0.00 0.00     0.00    1.00     0.00   \n",
       "4          8.30       22186     0.00   0.00 0.00     0.00    0.00     0.00   \n",
       "\n",
       "   Family  Music  Documentary  Animation  Western  Action  Crime  Thriller  \\\n",
       "0    1.00   0.00         0.00       0.00     0.00    0.00   0.00      0.00   \n",
       "1    1.00   0.00         0.00       1.00     0.00    0.00   0.00      0.00   \n",
       "2    0.00   0.00         0.00       0.00     0.00    1.00   0.00      0.00   \n",
       "3    1.00   0.00         0.00       1.00     0.00    0.00   0.00      0.00   \n",
       "4    0.00   0.00         0.00       0.00     0.00    1.00   0.00      0.00   \n",
       "\n",
       "   TV Movie  Adventure  History  Science Fiction  Horror original_language  \\\n",
       "0      0.00       1.00     0.00             0.00    0.00           English   \n",
       "1      0.00       1.00     0.00             0.00    0.00           English   \n",
       "2      0.00       1.00     0.00             1.00    0.00           English   \n",
       "3      0.00       0.00     0.00             0.00    0.00           English   \n",
       "4      0.00       1.00     0.00             1.00    0.00           English   \n",
       "\n",
       "  release_date_y                     movie  production_budget  domestic_gross  \\\n",
       "0            NaN                       NaN                nan             nan   \n",
       "1   Mar 26, 2010  How to Train Your Dragon       165000000.00    217581232.00   \n",
       "2    May 7, 2010                Iron Man 2       170000000.00    312433331.00   \n",
       "3   Nov 22, 1995                 Toy Story        30000000.00    191796233.00   \n",
       "4   Jul 16, 2010                 Inception       160000000.00    292576195.00   \n",
       "\n",
       "   worldwide_gross  domesticgross_v_production    total_net  \n",
       "0              nan                         nan          nan  \n",
       "1     494870992.00                 52581232.00 329870992.00  \n",
       "2     621156389.00                142433331.00 451156389.00  \n",
       "3     364545516.00                161796233.00 334545516.00  \n",
       "4     835524642.00                132576195.00 675524642.00  "
      ]
     },
     "execution_count": 115,
     "metadata": {},
     "output_type": "execute_result"
    }
   ],
   "source": [
    "#load in dataset in csv to dataframe\n",
    "\n",
    "tmdb_mglb_df = pd.read_csv('tmdb_mglb.csv')\n",
    "\n",
    "tmdb_mglb_df.head() #call first 5 rows"
   ]
  },
  {
   "cell_type": "code",
   "execution_count": 116,
   "metadata": {
    "ExecuteTime": {
     "end_time": "2020-06-21T04:50:16.961907Z",
     "start_time": "2020-06-21T04:50:16.949939Z"
    }
   },
   "outputs": [
    {
     "data": {
      "text/plain": [
       "pandas.core.frame.DataFrame"
      ]
     },
     "execution_count": 116,
     "metadata": {},
     "output_type": "execute_result"
    }
   ],
   "source": [
    "type(tmdb_mglb_df) #call type of variable"
   ]
  },
  {
   "cell_type": "code",
   "execution_count": 117,
   "metadata": {
    "ExecuteTime": {
     "end_time": "2020-06-21T04:50:16.977895Z",
     "start_time": "2020-06-21T04:50:16.963903Z"
    }
   },
   "outputs": [
    {
     "data": {
      "text/plain": [
       "(26597, 35)"
      ]
     },
     "execution_count": 117,
     "metadata": {},
     "output_type": "execute_result"
    }
   ],
   "source": [
    "tmdb_mglb_df.shape #return the dimensions of the dataframe array"
   ]
  },
  {
   "cell_type": "code",
   "execution_count": 118,
   "metadata": {
    "ExecuteTime": {
     "end_time": "2020-06-21T04:50:17.008822Z",
     "start_time": "2020-06-21T04:50:16.979860Z"
    }
   },
   "outputs": [
    {
     "name": "stdout",
     "output_type": "stream",
     "text": [
      "<class 'pandas.core.frame.DataFrame'>\n",
      "RangeIndex: 26597 entries, 0 to 26596\n",
      "Data columns (total 35 columns):\n",
      "Unnamed: 0                    26597 non-null int64\n",
      "id                            26597 non-null int64\n",
      "original_title                26597 non-null object\n",
      "popularity                    26597 non-null float64\n",
      "release_date_x                26597 non-null object\n",
      "title                         26597 non-null object\n",
      "vote_average                  26597 non-null float64\n",
      "vote_count                    26597 non-null int64\n",
      "Fantasy                       26597 non-null float64\n",
      "Drama                         26597 non-null float64\n",
      "War                           26597 non-null float64\n",
      "Mystery                       26597 non-null float64\n",
      "Comedy                        26597 non-null float64\n",
      "Romance                       26597 non-null float64\n",
      "Family                        26597 non-null float64\n",
      "Music                         26597 non-null float64\n",
      "Documentary                   26597 non-null float64\n",
      "Animation                     26597 non-null float64\n",
      "Western                       26597 non-null float64\n",
      "Action                        26597 non-null float64\n",
      "Crime                         26597 non-null float64\n",
      "Thriller                      26597 non-null float64\n",
      "TV Movie                      26597 non-null float64\n",
      "Adventure                     26597 non-null float64\n",
      "History                       26597 non-null float64\n",
      "Science Fiction               26597 non-null float64\n",
      "Horror                        26597 non-null float64\n",
      "original_language             26597 non-null object\n",
      "release_date_y                2316 non-null object\n",
      "movie                         2316 non-null object\n",
      "production_budget             2316 non-null float64\n",
      "domestic_gross                2316 non-null float64\n",
      "worldwide_gross               2316 non-null float64\n",
      "domesticgross_v_production    2316 non-null float64\n",
      "total_net                     2316 non-null float64\n",
      "dtypes: float64(26), int64(3), object(6)\n",
      "memory usage: 7.1+ MB\n"
     ]
    }
   ],
   "source": [
    "tmdb_mglb_df.info() #return basic summary of dataframe"
   ]
  },
  {
   "cell_type": "code",
   "execution_count": 119,
   "metadata": {
    "ExecuteTime": {
     "end_time": "2020-06-21T04:50:17.023785Z",
     "start_time": "2020-06-21T04:50:17.010795Z"
    }
   },
   "outputs": [],
   "source": [
    "tmdb_mglb_df_clean = tmdb_mglb_df.drop(['Unnamed: 0', 'movie', 'title'], axis=1) #drop columns"
   ]
  },
  {
   "cell_type": "code",
   "execution_count": 120,
   "metadata": {
    "ExecuteTime": {
     "end_time": "2020-06-21T04:50:17.054704Z",
     "start_time": "2020-06-21T04:50:17.025737Z"
    },
    "scrolled": true
   },
   "outputs": [
    {
     "data": {
      "text/html": [
       "<div>\n",
       "<style scoped>\n",
       "    .dataframe tbody tr th:only-of-type {\n",
       "        vertical-align: middle;\n",
       "    }\n",
       "\n",
       "    .dataframe tbody tr th {\n",
       "        vertical-align: top;\n",
       "    }\n",
       "\n",
       "    .dataframe thead th {\n",
       "        text-align: right;\n",
       "    }\n",
       "</style>\n",
       "<table border=\"1\" class=\"dataframe\">\n",
       "  <thead>\n",
       "    <tr style=\"text-align: right;\">\n",
       "      <th></th>\n",
       "      <th>id</th>\n",
       "      <th>original_title</th>\n",
       "      <th>popularity</th>\n",
       "      <th>release_date_x</th>\n",
       "      <th>vote_average</th>\n",
       "      <th>vote_count</th>\n",
       "      <th>Fantasy</th>\n",
       "      <th>Drama</th>\n",
       "      <th>War</th>\n",
       "      <th>Mystery</th>\n",
       "      <th>Comedy</th>\n",
       "      <th>Romance</th>\n",
       "      <th>Family</th>\n",
       "      <th>Music</th>\n",
       "      <th>Documentary</th>\n",
       "      <th>Animation</th>\n",
       "      <th>Western</th>\n",
       "      <th>Action</th>\n",
       "      <th>Crime</th>\n",
       "      <th>Thriller</th>\n",
       "      <th>TV Movie</th>\n",
       "      <th>Adventure</th>\n",
       "      <th>History</th>\n",
       "      <th>Science Fiction</th>\n",
       "      <th>Horror</th>\n",
       "      <th>original_language</th>\n",
       "      <th>release_date_y</th>\n",
       "      <th>production_budget</th>\n",
       "      <th>domestic_gross</th>\n",
       "      <th>worldwide_gross</th>\n",
       "      <th>domesticgross_v_production</th>\n",
       "      <th>total_net</th>\n",
       "    </tr>\n",
       "  </thead>\n",
       "  <tbody>\n",
       "    <tr>\n",
       "      <td>0</td>\n",
       "      <td>12444</td>\n",
       "      <td>Harry Potter and the Deathly Hallows: Part 1</td>\n",
       "      <td>33.53</td>\n",
       "      <td>2010-11-19</td>\n",
       "      <td>7.70</td>\n",
       "      <td>10788</td>\n",
       "      <td>1.00</td>\n",
       "      <td>0.00</td>\n",
       "      <td>0.00</td>\n",
       "      <td>0.00</td>\n",
       "      <td>0.00</td>\n",
       "      <td>0.00</td>\n",
       "      <td>1.00</td>\n",
       "      <td>0.00</td>\n",
       "      <td>0.00</td>\n",
       "      <td>0.00</td>\n",
       "      <td>0.00</td>\n",
       "      <td>0.00</td>\n",
       "      <td>0.00</td>\n",
       "      <td>0.00</td>\n",
       "      <td>0.00</td>\n",
       "      <td>1.00</td>\n",
       "      <td>0.00</td>\n",
       "      <td>0.00</td>\n",
       "      <td>0.00</td>\n",
       "      <td>English</td>\n",
       "      <td>NaN</td>\n",
       "      <td>nan</td>\n",
       "      <td>nan</td>\n",
       "      <td>nan</td>\n",
       "      <td>nan</td>\n",
       "      <td>nan</td>\n",
       "    </tr>\n",
       "    <tr>\n",
       "      <td>1</td>\n",
       "      <td>10191</td>\n",
       "      <td>How to Train Your Dragon</td>\n",
       "      <td>28.73</td>\n",
       "      <td>2010-03-26</td>\n",
       "      <td>7.70</td>\n",
       "      <td>7610</td>\n",
       "      <td>1.00</td>\n",
       "      <td>0.00</td>\n",
       "      <td>0.00</td>\n",
       "      <td>0.00</td>\n",
       "      <td>0.00</td>\n",
       "      <td>0.00</td>\n",
       "      <td>1.00</td>\n",
       "      <td>0.00</td>\n",
       "      <td>0.00</td>\n",
       "      <td>1.00</td>\n",
       "      <td>0.00</td>\n",
       "      <td>0.00</td>\n",
       "      <td>0.00</td>\n",
       "      <td>0.00</td>\n",
       "      <td>0.00</td>\n",
       "      <td>1.00</td>\n",
       "      <td>0.00</td>\n",
       "      <td>0.00</td>\n",
       "      <td>0.00</td>\n",
       "      <td>English</td>\n",
       "      <td>Mar 26, 2010</td>\n",
       "      <td>165000000.00</td>\n",
       "      <td>217581232.00</td>\n",
       "      <td>494870992.00</td>\n",
       "      <td>52581232.00</td>\n",
       "      <td>329870992.00</td>\n",
       "    </tr>\n",
       "    <tr>\n",
       "      <td>2</td>\n",
       "      <td>10138</td>\n",
       "      <td>Iron Man 2</td>\n",
       "      <td>28.52</td>\n",
       "      <td>2010-05-07</td>\n",
       "      <td>6.80</td>\n",
       "      <td>12368</td>\n",
       "      <td>0.00</td>\n",
       "      <td>0.00</td>\n",
       "      <td>0.00</td>\n",
       "      <td>0.00</td>\n",
       "      <td>0.00</td>\n",
       "      <td>0.00</td>\n",
       "      <td>0.00</td>\n",
       "      <td>0.00</td>\n",
       "      <td>0.00</td>\n",
       "      <td>0.00</td>\n",
       "      <td>0.00</td>\n",
       "      <td>1.00</td>\n",
       "      <td>0.00</td>\n",
       "      <td>0.00</td>\n",
       "      <td>0.00</td>\n",
       "      <td>1.00</td>\n",
       "      <td>0.00</td>\n",
       "      <td>1.00</td>\n",
       "      <td>0.00</td>\n",
       "      <td>English</td>\n",
       "      <td>May 7, 2010</td>\n",
       "      <td>170000000.00</td>\n",
       "      <td>312433331.00</td>\n",
       "      <td>621156389.00</td>\n",
       "      <td>142433331.00</td>\n",
       "      <td>451156389.00</td>\n",
       "    </tr>\n",
       "    <tr>\n",
       "      <td>3</td>\n",
       "      <td>862</td>\n",
       "      <td>Toy Story</td>\n",
       "      <td>28.00</td>\n",
       "      <td>1995-11-22</td>\n",
       "      <td>7.90</td>\n",
       "      <td>10174</td>\n",
       "      <td>0.00</td>\n",
       "      <td>0.00</td>\n",
       "      <td>0.00</td>\n",
       "      <td>0.00</td>\n",
       "      <td>1.00</td>\n",
       "      <td>0.00</td>\n",
       "      <td>1.00</td>\n",
       "      <td>0.00</td>\n",
       "      <td>0.00</td>\n",
       "      <td>1.00</td>\n",
       "      <td>0.00</td>\n",
       "      <td>0.00</td>\n",
       "      <td>0.00</td>\n",
       "      <td>0.00</td>\n",
       "      <td>0.00</td>\n",
       "      <td>0.00</td>\n",
       "      <td>0.00</td>\n",
       "      <td>0.00</td>\n",
       "      <td>0.00</td>\n",
       "      <td>English</td>\n",
       "      <td>Nov 22, 1995</td>\n",
       "      <td>30000000.00</td>\n",
       "      <td>191796233.00</td>\n",
       "      <td>364545516.00</td>\n",
       "      <td>161796233.00</td>\n",
       "      <td>334545516.00</td>\n",
       "    </tr>\n",
       "    <tr>\n",
       "      <td>4</td>\n",
       "      <td>27205</td>\n",
       "      <td>Inception</td>\n",
       "      <td>27.92</td>\n",
       "      <td>2010-07-16</td>\n",
       "      <td>8.30</td>\n",
       "      <td>22186</td>\n",
       "      <td>0.00</td>\n",
       "      <td>0.00</td>\n",
       "      <td>0.00</td>\n",
       "      <td>0.00</td>\n",
       "      <td>0.00</td>\n",
       "      <td>0.00</td>\n",
       "      <td>0.00</td>\n",
       "      <td>0.00</td>\n",
       "      <td>0.00</td>\n",
       "      <td>0.00</td>\n",
       "      <td>0.00</td>\n",
       "      <td>1.00</td>\n",
       "      <td>0.00</td>\n",
       "      <td>0.00</td>\n",
       "      <td>0.00</td>\n",
       "      <td>1.00</td>\n",
       "      <td>0.00</td>\n",
       "      <td>1.00</td>\n",
       "      <td>0.00</td>\n",
       "      <td>English</td>\n",
       "      <td>Jul 16, 2010</td>\n",
       "      <td>160000000.00</td>\n",
       "      <td>292576195.00</td>\n",
       "      <td>835524642.00</td>\n",
       "      <td>132576195.00</td>\n",
       "      <td>675524642.00</td>\n",
       "    </tr>\n",
       "  </tbody>\n",
       "</table>\n",
       "</div>"
      ],
      "text/plain": [
       "      id                                original_title  popularity  \\\n",
       "0  12444  Harry Potter and the Deathly Hallows: Part 1       33.53   \n",
       "1  10191                      How to Train Your Dragon       28.73   \n",
       "2  10138                                    Iron Man 2       28.52   \n",
       "3    862                                     Toy Story       28.00   \n",
       "4  27205                                     Inception       27.92   \n",
       "\n",
       "  release_date_x  vote_average  vote_count  Fantasy  Drama  War  Mystery  \\\n",
       "0     2010-11-19          7.70       10788     1.00   0.00 0.00     0.00   \n",
       "1     2010-03-26          7.70        7610     1.00   0.00 0.00     0.00   \n",
       "2     2010-05-07          6.80       12368     0.00   0.00 0.00     0.00   \n",
       "3     1995-11-22          7.90       10174     0.00   0.00 0.00     0.00   \n",
       "4     2010-07-16          8.30       22186     0.00   0.00 0.00     0.00   \n",
       "\n",
       "   Comedy  Romance  Family  Music  Documentary  Animation  Western  Action  \\\n",
       "0    0.00     0.00    1.00   0.00         0.00       0.00     0.00    0.00   \n",
       "1    0.00     0.00    1.00   0.00         0.00       1.00     0.00    0.00   \n",
       "2    0.00     0.00    0.00   0.00         0.00       0.00     0.00    1.00   \n",
       "3    1.00     0.00    1.00   0.00         0.00       1.00     0.00    0.00   \n",
       "4    0.00     0.00    0.00   0.00         0.00       0.00     0.00    1.00   \n",
       "\n",
       "   Crime  Thriller  TV Movie  Adventure  History  Science Fiction  Horror  \\\n",
       "0   0.00      0.00      0.00       1.00     0.00             0.00    0.00   \n",
       "1   0.00      0.00      0.00       1.00     0.00             0.00    0.00   \n",
       "2   0.00      0.00      0.00       1.00     0.00             1.00    0.00   \n",
       "3   0.00      0.00      0.00       0.00     0.00             0.00    0.00   \n",
       "4   0.00      0.00      0.00       1.00     0.00             1.00    0.00   \n",
       "\n",
       "  original_language release_date_y  production_budget  domestic_gross  \\\n",
       "0           English            NaN                nan             nan   \n",
       "1           English   Mar 26, 2010       165000000.00    217581232.00   \n",
       "2           English    May 7, 2010       170000000.00    312433331.00   \n",
       "3           English   Nov 22, 1995        30000000.00    191796233.00   \n",
       "4           English   Jul 16, 2010       160000000.00    292576195.00   \n",
       "\n",
       "   worldwide_gross  domesticgross_v_production    total_net  \n",
       "0              nan                         nan          nan  \n",
       "1     494870992.00                 52581232.00 329870992.00  \n",
       "2     621156389.00                142433331.00 451156389.00  \n",
       "3     364545516.00                161796233.00 334545516.00  \n",
       "4     835524642.00                132576195.00 675524642.00  "
      ]
     },
     "execution_count": 120,
     "metadata": {},
     "output_type": "execute_result"
    }
   ],
   "source": [
    "tmdb_mglb_df_clean.head() #call first 5 rows"
   ]
  },
  {
   "cell_type": "markdown",
   "metadata": {},
   "source": [
    "## Overall, what are the top 5 grossing films?"
   ]
  },
  {
   "cell_type": "code",
   "execution_count": 121,
   "metadata": {
    "ExecuteTime": {
     "end_time": "2020-06-21T04:50:17.070619Z",
     "start_time": "2020-06-21T04:50:17.055658Z"
    }
   },
   "outputs": [],
   "source": [
    "#sort values by worldwide_gross, descending\n",
    "\n",
    "sortbytotalgross = tmdb_mglb_df_clean.sort_values(by=['worldwide_gross'], ascending=False)"
   ]
  },
  {
   "cell_type": "code",
   "execution_count": 122,
   "metadata": {
    "ExecuteTime": {
     "end_time": "2020-06-21T04:50:17.085577Z",
     "start_time": "2020-06-21T04:50:17.072612Z"
    },
    "scrolled": false
   },
   "outputs": [
    {
     "data": {
      "text/html": [
       "<div>\n",
       "<style scoped>\n",
       "    .dataframe tbody tr th:only-of-type {\n",
       "        vertical-align: middle;\n",
       "    }\n",
       "\n",
       "    .dataframe tbody tr th {\n",
       "        vertical-align: top;\n",
       "    }\n",
       "\n",
       "    .dataframe thead th {\n",
       "        text-align: right;\n",
       "    }\n",
       "</style>\n",
       "<table border=\"1\" class=\"dataframe\">\n",
       "  <thead>\n",
       "    <tr style=\"text-align: right;\">\n",
       "      <th></th>\n",
       "      <th>original_title</th>\n",
       "      <th>worldwide_gross</th>\n",
       "    </tr>\n",
       "  </thead>\n",
       "  <tbody>\n",
       "    <tr>\n",
       "      <td>6</td>\n",
       "      <td>Avatar</td>\n",
       "      <td>2776345279.00</td>\n",
       "    </tr>\n",
       "    <tr>\n",
       "      <td>23887</td>\n",
       "      <td>Avengers: Infinity War</td>\n",
       "      <td>2048134200.00</td>\n",
       "    </tr>\n",
       "    <tr>\n",
       "      <td>14236</td>\n",
       "      <td>Jurassic World</td>\n",
       "      <td>1648854864.00</td>\n",
       "    </tr>\n",
       "    <tr>\n",
       "      <td>14239</td>\n",
       "      <td>Furious 7</td>\n",
       "      <td>1518722794.00</td>\n",
       "    </tr>\n",
       "    <tr>\n",
       "      <td>5196</td>\n",
       "      <td>The Avengers</td>\n",
       "      <td>1517935897.00</td>\n",
       "    </tr>\n",
       "    <tr>\n",
       "      <td>...</td>\n",
       "      <td>...</td>\n",
       "      <td>...</td>\n",
       "    </tr>\n",
       "    <tr>\n",
       "      <td>26592</td>\n",
       "      <td>Laboratory Conditions</td>\n",
       "      <td>nan</td>\n",
       "    </tr>\n",
       "    <tr>\n",
       "      <td>26593</td>\n",
       "      <td>_EXHIBIT_84xxx_</td>\n",
       "      <td>nan</td>\n",
       "    </tr>\n",
       "    <tr>\n",
       "      <td>26594</td>\n",
       "      <td>The Last One</td>\n",
       "      <td>nan</td>\n",
       "    </tr>\n",
       "    <tr>\n",
       "      <td>26595</td>\n",
       "      <td>Trailer Made</td>\n",
       "      <td>nan</td>\n",
       "    </tr>\n",
       "    <tr>\n",
       "      <td>26596</td>\n",
       "      <td>The Church</td>\n",
       "      <td>nan</td>\n",
       "    </tr>\n",
       "  </tbody>\n",
       "</table>\n",
       "<p>26597 rows × 2 columns</p>\n",
       "</div>"
      ],
      "text/plain": [
       "               original_title  worldwide_gross\n",
       "6                      Avatar    2776345279.00\n",
       "23887  Avengers: Infinity War    2048134200.00\n",
       "14236          Jurassic World    1648854864.00\n",
       "14239               Furious 7    1518722794.00\n",
       "5196             The Avengers    1517935897.00\n",
       "...                       ...              ...\n",
       "26592   Laboratory Conditions              nan\n",
       "26593         _EXHIBIT_84xxx_              nan\n",
       "26594            The Last One              nan\n",
       "26595            Trailer Made              nan\n",
       "26596              The Church              nan\n",
       "\n",
       "[26597 rows x 2 columns]"
      ]
     },
     "execution_count": 122,
     "metadata": {},
     "output_type": "execute_result"
    }
   ],
   "source": [
    "#call gross sorted dataframe by columns\n",
    "\n",
    "sortbytotalgross.loc[:, ['original_title', 'worldwide_gross']]"
   ]
  },
  {
   "cell_type": "markdown",
   "metadata": {},
   "source": [
    "***Findings***: Looking at the total gross revenue of worldwide, including domestic sales, the top 5 grossing films are <br> \n",
    "<ul><li>1) Avatar - &#36; 2,776,345,279 </li>\n",
    "    <li>2) Avengers: Infinity War - &#36; 2,048,134,200.00</li>\n",
    "    <li>3) Jurassic World - &#36; 1,648,854,864</li>\n",
    "    <li>4) Furious 7 - &#36; 1,518,722,794</li> \n",
    "    <li>5) The Avengers - &#36; 1,518,722,794</li></ul>"
   ]
  },
  {
   "cell_type": "code",
   "execution_count": 165,
   "metadata": {
    "ExecuteTime": {
     "end_time": "2020-06-21T05:33:26.643361Z",
     "start_time": "2020-06-21T05:33:26.630391Z"
    }
   },
   "outputs": [
    {
     "data": {
      "text/html": [
       "<div>\n",
       "<style scoped>\n",
       "    .dataframe tbody tr th:only-of-type {\n",
       "        vertical-align: middle;\n",
       "    }\n",
       "\n",
       "    .dataframe tbody tr th {\n",
       "        vertical-align: top;\n",
       "    }\n",
       "\n",
       "    .dataframe thead th {\n",
       "        text-align: right;\n",
       "    }\n",
       "</style>\n",
       "<table border=\"1\" class=\"dataframe\">\n",
       "  <thead>\n",
       "    <tr style=\"text-align: right;\">\n",
       "      <th></th>\n",
       "      <th>original_title</th>\n",
       "      <th>worldwide_gross</th>\n",
       "    </tr>\n",
       "  </thead>\n",
       "  <tbody>\n",
       "    <tr>\n",
       "      <td>0</td>\n",
       "      <td>Avatar</td>\n",
       "      <td>2776345279.00</td>\n",
       "    </tr>\n",
       "    <tr>\n",
       "      <td>1</td>\n",
       "      <td>Avengers: Infinity War</td>\n",
       "      <td>2048134200.00</td>\n",
       "    </tr>\n",
       "    <tr>\n",
       "      <td>2</td>\n",
       "      <td>Jurassic World</td>\n",
       "      <td>1648854864.00</td>\n",
       "    </tr>\n",
       "    <tr>\n",
       "      <td>3</td>\n",
       "      <td>Furious 7</td>\n",
       "      <td>1518722794.00</td>\n",
       "    </tr>\n",
       "    <tr>\n",
       "      <td>4</td>\n",
       "      <td>The Avengers</td>\n",
       "      <td>1517935897.00</td>\n",
       "    </tr>\n",
       "  </tbody>\n",
       "</table>\n",
       "</div>"
      ],
      "text/plain": [
       "           original_title  worldwide_gross\n",
       "0                  Avatar    2776345279.00\n",
       "1  Avengers: Infinity War    2048134200.00\n",
       "2          Jurassic World    1648854864.00\n",
       "3               Furious 7    1518722794.00\n",
       "4            The Avengers    1517935897.00"
      ]
     },
     "execution_count": 165,
     "metadata": {},
     "output_type": "execute_result"
    }
   ],
   "source": [
    "sortbytotalgross2 = sortbytotalgross.reset_index(drop=True)\n",
    "\n",
    "top5gross = sortbytotalgross2.loc[:4, ['original_title', 'worldwide_gross']]\n",
    "\n",
    "top5gross"
   ]
  },
  {
   "cell_type": "code",
   "execution_count": 175,
   "metadata": {
    "ExecuteTime": {
     "end_time": "2020-06-21T05:46:29.897333Z",
     "start_time": "2020-06-21T05:46:29.670802Z"
    }
   },
   "outputs": [
    {
     "data": {
      "image/png": "[encoded data removed]",
      "text/plain": [
       "<Figure size 432x288 with 1 Axes>"
      ]
     },
     "metadata": {},
     "output_type": "display_data"
    }
   ],
   "source": [
    "#visual of top 5 grossing\n",
    "\n",
    "fig, ax =plt.subplots()\n",
    "ax = sns.barplot(x='worldwide_gross', y='original_title', data=top5gross, palette=\"Blues_d\")"
   ]
  },
  {
   "cell_type": "markdown",
   "metadata": {},
   "source": [
    "### If available, what are the genres of those top 5 grossing films? "
   ]
  },
  {
   "cell_type": "markdown",
   "metadata": {
    "ExecuteTime": {
     "end_time": "2020-06-21T04:50:17.116541Z",
     "start_time": "2020-06-21T04:50:17.103529Z"
    }
   },
   "source": [
    "code here: KAT"
   ]
  },
  {
   "cell_type": "markdown",
   "metadata": {},
   "source": [
    "***Findings***: Leveraged the [imdb_title_basics] dataset to find the titles from top 5 grossing films and noted identified genres for each film"
   ]
  },
  {
   "cell_type": "markdown",
   "metadata": {},
   "source": [
    "## Top 5 grossing films by year"
   ]
  },
  {
   "cell_type": "markdown",
   "metadata": {},
   "source": [
    "### What are the titles of the films?"
   ]
  },
  {
   "cell_type": "markdown",
   "metadata": {
    "ExecuteTime": {
     "end_time": "2020-06-21T04:50:17.127466Z",
     "start_time": "2020-06-21T04:50:12.324Z"
    },
    "scrolled": true
   },
   "source": [
    "KAT"
   ]
  },
  {
   "cell_type": "markdown",
   "metadata": {},
   "source": [
    "### What was the production cost?"
   ]
  },
  {
   "cell_type": "markdown",
   "metadata": {
    "ExecuteTime": {
     "end_time": "2020-06-21T04:50:17.129459Z",
     "start_time": "2020-06-21T04:50:12.327Z"
    }
   },
   "source": [
    "KAT"
   ]
  },
  {
   "cell_type": "markdown",
   "metadata": {},
   "source": [
    "***Findings***: write summary here"
   ]
  },
  {
   "cell_type": "markdown",
   "metadata": {},
   "source": [
    "### What was the runtime?"
   ]
  },
  {
   "cell_type": "code",
   "execution_count": null,
   "metadata": {
    "ExecuteTime": {
     "end_time": "2020-06-21T04:50:17.130457Z",
     "start_time": "2020-06-21T04:50:12.331Z"
    }
   },
   "outputs": [],
   "source": [
    "code here: KAT"
   ]
  },
  {
   "cell_type": "markdown",
   "metadata": {},
   "source": [
    "***Findings***: write summary here >> Leveraged the [imdb_title_basics] dataset to find the titles from top 5 grossing films and noted the runtime for each film"
   ]
  },
  {
   "cell_type": "markdown",
   "metadata": {},
   "source": [
    "## Most recently, what has been the average production cost? "
   ]
  },
  {
   "cell_type": "code",
   "execution_count": 127,
   "metadata": {
    "ExecuteTime": {
     "end_time": "2020-06-21T04:51:10.253134Z",
     "start_time": "2020-06-21T04:51:10.235182Z"
    }
   },
   "outputs": [
    {
     "data": {
      "text/html": [
       "<div>\n",
       "<style scoped>\n",
       "    .dataframe tbody tr th:only-of-type {\n",
       "        vertical-align: middle;\n",
       "    }\n",
       "\n",
       "    .dataframe tbody tr th {\n",
       "        vertical-align: top;\n",
       "    }\n",
       "\n",
       "    .dataframe thead th {\n",
       "        text-align: right;\n",
       "    }\n",
       "</style>\n",
       "<table border=\"1\" class=\"dataframe\">\n",
       "  <thead>\n",
       "    <tr style=\"text-align: right;\">\n",
       "      <th></th>\n",
       "      <th>original_title</th>\n",
       "      <th>release_date_x</th>\n",
       "      <th>production_budget</th>\n",
       "    </tr>\n",
       "  </thead>\n",
       "  <tbody>\n",
       "    <tr>\n",
       "      <td>0</td>\n",
       "      <td>Harry Potter and the Deathly Hallows: Part 1</td>\n",
       "      <td>2010-11-19</td>\n",
       "      <td>nan</td>\n",
       "    </tr>\n",
       "    <tr>\n",
       "      <td>1</td>\n",
       "      <td>How to Train Your Dragon</td>\n",
       "      <td>2010-03-26</td>\n",
       "      <td>165000000.00</td>\n",
       "    </tr>\n",
       "    <tr>\n",
       "      <td>2</td>\n",
       "      <td>Iron Man 2</td>\n",
       "      <td>2010-05-07</td>\n",
       "      <td>170000000.00</td>\n",
       "    </tr>\n",
       "    <tr>\n",
       "      <td>3</td>\n",
       "      <td>Toy Story</td>\n",
       "      <td>1995-11-22</td>\n",
       "      <td>30000000.00</td>\n",
       "    </tr>\n",
       "    <tr>\n",
       "      <td>4</td>\n",
       "      <td>Inception</td>\n",
       "      <td>2010-07-16</td>\n",
       "      <td>160000000.00</td>\n",
       "    </tr>\n",
       "    <tr>\n",
       "      <td>...</td>\n",
       "      <td>...</td>\n",
       "      <td>...</td>\n",
       "      <td>...</td>\n",
       "    </tr>\n",
       "    <tr>\n",
       "      <td>26592</td>\n",
       "      <td>Laboratory Conditions</td>\n",
       "      <td>2018-10-13</td>\n",
       "      <td>nan</td>\n",
       "    </tr>\n",
       "    <tr>\n",
       "      <td>26593</td>\n",
       "      <td>_EXHIBIT_84xxx_</td>\n",
       "      <td>2018-05-01</td>\n",
       "      <td>nan</td>\n",
       "    </tr>\n",
       "    <tr>\n",
       "      <td>26594</td>\n",
       "      <td>The Last One</td>\n",
       "      <td>2018-10-01</td>\n",
       "      <td>nan</td>\n",
       "    </tr>\n",
       "    <tr>\n",
       "      <td>26595</td>\n",
       "      <td>Trailer Made</td>\n",
       "      <td>2018-06-22</td>\n",
       "      <td>nan</td>\n",
       "    </tr>\n",
       "    <tr>\n",
       "      <td>26596</td>\n",
       "      <td>The Church</td>\n",
       "      <td>2018-10-05</td>\n",
       "      <td>nan</td>\n",
       "    </tr>\n",
       "  </tbody>\n",
       "</table>\n",
       "<p>26597 rows × 3 columns</p>\n",
       "</div>"
      ],
      "text/plain": [
       "                                     original_title release_date_x  \\\n",
       "0      Harry Potter and the Deathly Hallows: Part 1     2010-11-19   \n",
       "1                          How to Train Your Dragon     2010-03-26   \n",
       "2                                        Iron Man 2     2010-05-07   \n",
       "3                                         Toy Story     1995-11-22   \n",
       "4                                         Inception     2010-07-16   \n",
       "...                                             ...            ...   \n",
       "26592                         Laboratory Conditions     2018-10-13   \n",
       "26593                               _EXHIBIT_84xxx_     2018-05-01   \n",
       "26594                                  The Last One     2018-10-01   \n",
       "26595                                  Trailer Made     2018-06-22   \n",
       "26596                                    The Church     2018-10-05   \n",
       "\n",
       "       production_budget  \n",
       "0                    nan  \n",
       "1           165000000.00  \n",
       "2           170000000.00  \n",
       "3            30000000.00  \n",
       "4           160000000.00  \n",
       "...                  ...  \n",
       "26592                nan  \n",
       "26593                nan  \n",
       "26594                nan  \n",
       "26595                nan  \n",
       "26596                nan  \n",
       "\n",
       "[26597 rows x 3 columns]"
      ]
     },
     "execution_count": 127,
     "metadata": {},
     "output_type": "execute_result"
    }
   ],
   "source": [
    "#set new dataframe looking at movies, release dates, and production costs\n",
    "\n",
    "recentavgpcost = tmdb_mglb_df.loc[:, ['original_title', 'release_date_x', 'production_budget']]\n",
    "\n",
    "recentavgpcost"
   ]
  },
  {
   "cell_type": "code",
   "execution_count": 128,
   "metadata": {
    "ExecuteTime": {
     "end_time": "2020-06-21T04:51:28.282044Z",
     "start_time": "2020-06-21T04:51:28.243165Z"
    }
   },
   "outputs": [
    {
     "data": {
      "text/html": [
       "<div>\n",
       "<style scoped>\n",
       "    .dataframe tbody tr th:only-of-type {\n",
       "        vertical-align: middle;\n",
       "    }\n",
       "\n",
       "    .dataframe tbody tr th {\n",
       "        vertical-align: top;\n",
       "    }\n",
       "\n",
       "    .dataframe thead th {\n",
       "        text-align: right;\n",
       "    }\n",
       "</style>\n",
       "<table border=\"1\" class=\"dataframe\">\n",
       "  <thead>\n",
       "    <tr style=\"text-align: right;\">\n",
       "      <th></th>\n",
       "      <th>original_title</th>\n",
       "      <th>release_date_x</th>\n",
       "      <th>production_budget</th>\n",
       "    </tr>\n",
       "  </thead>\n",
       "  <tbody>\n",
       "    <tr>\n",
       "      <td>26137</td>\n",
       "      <td>Murdery Christmas</td>\n",
       "      <td>2020-12-25</td>\n",
       "      <td>nan</td>\n",
       "    </tr>\n",
       "    <tr>\n",
       "      <td>24972</td>\n",
       "      <td>This Changes Everything</td>\n",
       "      <td>2019-06-28</td>\n",
       "      <td>nan</td>\n",
       "    </tr>\n",
       "    <tr>\n",
       "      <td>24345</td>\n",
       "      <td>Ophelia</td>\n",
       "      <td>2019-06-28</td>\n",
       "      <td>nan</td>\n",
       "    </tr>\n",
       "    <tr>\n",
       "      <td>24377</td>\n",
       "      <td>All Creatures Here Below</td>\n",
       "      <td>2019-05-17</td>\n",
       "      <td>nan</td>\n",
       "    </tr>\n",
       "    <tr>\n",
       "      <td>24083</td>\n",
       "      <td>We Have Always Lived in the Castle</td>\n",
       "      <td>2019-05-17</td>\n",
       "      <td>nan</td>\n",
       "    </tr>\n",
       "    <tr>\n",
       "      <td>...</td>\n",
       "      <td>...</td>\n",
       "      <td>...</td>\n",
       "      <td>...</td>\n",
       "    </tr>\n",
       "    <tr>\n",
       "      <td>11229</td>\n",
       "      <td>The Best Years of Our Lives</td>\n",
       "      <td>1946-12-25</td>\n",
       "      <td>2100000.00</td>\n",
       "    </tr>\n",
       "    <tr>\n",
       "      <td>26425</td>\n",
       "      <td>How Walt Disney Cartoons Are Made</td>\n",
       "      <td>1939-01-19</td>\n",
       "      <td>nan</td>\n",
       "    </tr>\n",
       "    <tr>\n",
       "      <td>3596</td>\n",
       "      <td>Le Bonheur</td>\n",
       "      <td>1936-02-27</td>\n",
       "      <td>nan</td>\n",
       "    </tr>\n",
       "    <tr>\n",
       "      <td>21831</td>\n",
       "      <td>The Vampire Bat</td>\n",
       "      <td>1933-01-21</td>\n",
       "      <td>nan</td>\n",
       "    </tr>\n",
       "    <tr>\n",
       "      <td>14384</td>\n",
       "      <td>All Quiet on the Western Front</td>\n",
       "      <td>1930-04-29</td>\n",
       "      <td>nan</td>\n",
       "    </tr>\n",
       "  </tbody>\n",
       "</table>\n",
       "<p>26597 rows × 3 columns</p>\n",
       "</div>"
      ],
      "text/plain": [
       "                           original_title release_date_x  production_budget\n",
       "26137                   Murdery Christmas     2020-12-25                nan\n",
       "24972             This Changes Everything     2019-06-28                nan\n",
       "24345                             Ophelia     2019-06-28                nan\n",
       "24377            All Creatures Here Below     2019-05-17                nan\n",
       "24083  We Have Always Lived in the Castle     2019-05-17                nan\n",
       "...                                   ...            ...                ...\n",
       "11229         The Best Years of Our Lives     1946-12-25         2100000.00\n",
       "26425   How Walt Disney Cartoons Are Made     1939-01-19                nan\n",
       "3596                           Le Bonheur     1936-02-27                nan\n",
       "21831                     The Vampire Bat     1933-01-21                nan\n",
       "14384      All Quiet on the Western Front     1930-04-29                nan\n",
       "\n",
       "[26597 rows x 3 columns]"
      ]
     },
     "execution_count": 128,
     "metadata": {},
     "output_type": "execute_result"
    }
   ],
   "source": [
    "#sort by production budget and reset index\n",
    "\n",
    "recentavgpcost = recentavgpcost.sort_values(by=['release_date_x'], ascending=False)\n",
    "\n",
    "recentavgpcost"
   ]
  },
  {
   "cell_type": "code",
   "execution_count": 129,
   "metadata": {
    "ExecuteTime": {
     "end_time": "2020-06-21T04:51:53.996235Z",
     "start_time": "2020-06-21T04:51:53.975252Z"
    }
   },
   "outputs": [
    {
     "data": {
      "text/html": [
       "<div>\n",
       "<style scoped>\n",
       "    .dataframe tbody tr th:only-of-type {\n",
       "        vertical-align: middle;\n",
       "    }\n",
       "\n",
       "    .dataframe tbody tr th {\n",
       "        vertical-align: top;\n",
       "    }\n",
       "\n",
       "    .dataframe thead th {\n",
       "        text-align: right;\n",
       "    }\n",
       "</style>\n",
       "<table border=\"1\" class=\"dataframe\">\n",
       "  <thead>\n",
       "    <tr style=\"text-align: right;\">\n",
       "      <th></th>\n",
       "      <th>original_title</th>\n",
       "      <th>release_date_x</th>\n",
       "      <th>production_budget</th>\n",
       "    </tr>\n",
       "  </thead>\n",
       "  <tbody>\n",
       "    <tr>\n",
       "      <td>24771</td>\n",
       "      <td>El Chicano</td>\n",
       "      <td>2019-05-03</td>\n",
       "      <td>8000000.00</td>\n",
       "    </tr>\n",
       "    <tr>\n",
       "      <td>24678</td>\n",
       "      <td>Braid</td>\n",
       "      <td>2019-02-01</td>\n",
       "      <td>1660000.00</td>\n",
       "    </tr>\n",
       "    <tr>\n",
       "      <td>20700</td>\n",
       "      <td>The Upside</td>\n",
       "      <td>2019-01-11</td>\n",
       "      <td>37500000.00</td>\n",
       "    </tr>\n",
       "    <tr>\n",
       "      <td>24001</td>\n",
       "      <td>Destroyer</td>\n",
       "      <td>2018-12-25</td>\n",
       "      <td>9000000.00</td>\n",
       "    </tr>\n",
       "    <tr>\n",
       "      <td>23990</td>\n",
       "      <td>Holmes &amp; Watson</td>\n",
       "      <td>2018-12-25</td>\n",
       "      <td>42000000.00</td>\n",
       "    </tr>\n",
       "    <tr>\n",
       "      <td>...</td>\n",
       "      <td>...</td>\n",
       "      <td>...</td>\n",
       "      <td>...</td>\n",
       "    </tr>\n",
       "    <tr>\n",
       "      <td>159</td>\n",
       "      <td>Carrie</td>\n",
       "      <td>1976-11-03</td>\n",
       "      <td>30000000.00</td>\n",
       "    </tr>\n",
       "    <tr>\n",
       "      <td>160</td>\n",
       "      <td>Carrie</td>\n",
       "      <td>1976-11-03</td>\n",
       "      <td>1800000.00</td>\n",
       "    </tr>\n",
       "    <tr>\n",
       "      <td>24379</td>\n",
       "      <td>Viskningar och rop</td>\n",
       "      <td>1972-12-21</td>\n",
       "      <td>400000.00</td>\n",
       "    </tr>\n",
       "    <tr>\n",
       "      <td>23950</td>\n",
       "      <td>2001: A Space Odyssey</td>\n",
       "      <td>1968-04-10</td>\n",
       "      <td>10500000.00</td>\n",
       "    </tr>\n",
       "    <tr>\n",
       "      <td>11229</td>\n",
       "      <td>The Best Years of Our Lives</td>\n",
       "      <td>1946-12-25</td>\n",
       "      <td>2100000.00</td>\n",
       "    </tr>\n",
       "  </tbody>\n",
       "</table>\n",
       "<p>2316 rows × 3 columns</p>\n",
       "</div>"
      ],
      "text/plain": [
       "                    original_title release_date_x  production_budget\n",
       "24771                   El Chicano     2019-05-03         8000000.00\n",
       "24678                        Braid     2019-02-01         1660000.00\n",
       "20700                   The Upside     2019-01-11        37500000.00\n",
       "24001                    Destroyer     2018-12-25         9000000.00\n",
       "23990              Holmes & Watson     2018-12-25        42000000.00\n",
       "...                            ...            ...                ...\n",
       "159                         Carrie     1976-11-03        30000000.00\n",
       "160                         Carrie     1976-11-03         1800000.00\n",
       "24379           Viskningar och rop     1972-12-21          400000.00\n",
       "23950        2001: A Space Odyssey     1968-04-10        10500000.00\n",
       "11229  The Best Years of Our Lives     1946-12-25         2100000.00\n",
       "\n",
       "[2316 rows x 3 columns]"
      ]
     },
     "execution_count": 129,
     "metadata": {},
     "output_type": "execute_result"
    }
   ],
   "source": [
    "#drop rows with missing production costs\n",
    "\n",
    "recentavgpcost = recentavgpcost.dropna(subset=['production_budget'])\n",
    "\n",
    "recentavgpcost"
   ]
  },
  {
   "cell_type": "code",
   "execution_count": 130,
   "metadata": {
    "ExecuteTime": {
     "end_time": "2020-06-21T04:52:12.595110Z",
     "start_time": "2020-06-21T04:52:12.574162Z"
    }
   },
   "outputs": [
    {
     "data": {
      "text/html": [
       "<div>\n",
       "<style scoped>\n",
       "    .dataframe tbody tr th:only-of-type {\n",
       "        vertical-align: middle;\n",
       "    }\n",
       "\n",
       "    .dataframe tbody tr th {\n",
       "        vertical-align: top;\n",
       "    }\n",
       "\n",
       "    .dataframe thead th {\n",
       "        text-align: right;\n",
       "    }\n",
       "</style>\n",
       "<table border=\"1\" class=\"dataframe\">\n",
       "  <thead>\n",
       "    <tr style=\"text-align: right;\">\n",
       "      <th></th>\n",
       "      <th>original_title</th>\n",
       "      <th>release_date_x</th>\n",
       "      <th>production_budget</th>\n",
       "    </tr>\n",
       "  </thead>\n",
       "  <tbody>\n",
       "    <tr>\n",
       "      <td>0</td>\n",
       "      <td>El Chicano</td>\n",
       "      <td>2019-05-03</td>\n",
       "      <td>8000000.00</td>\n",
       "    </tr>\n",
       "    <tr>\n",
       "      <td>1</td>\n",
       "      <td>Braid</td>\n",
       "      <td>2019-02-01</td>\n",
       "      <td>1660000.00</td>\n",
       "    </tr>\n",
       "    <tr>\n",
       "      <td>2</td>\n",
       "      <td>The Upside</td>\n",
       "      <td>2019-01-11</td>\n",
       "      <td>37500000.00</td>\n",
       "    </tr>\n",
       "    <tr>\n",
       "      <td>3</td>\n",
       "      <td>Destroyer</td>\n",
       "      <td>2018-12-25</td>\n",
       "      <td>9000000.00</td>\n",
       "    </tr>\n",
       "    <tr>\n",
       "      <td>4</td>\n",
       "      <td>Holmes &amp; Watson</td>\n",
       "      <td>2018-12-25</td>\n",
       "      <td>42000000.00</td>\n",
       "    </tr>\n",
       "    <tr>\n",
       "      <td>...</td>\n",
       "      <td>...</td>\n",
       "      <td>...</td>\n",
       "      <td>...</td>\n",
       "    </tr>\n",
       "    <tr>\n",
       "      <td>2311</td>\n",
       "      <td>Carrie</td>\n",
       "      <td>1976-11-03</td>\n",
       "      <td>30000000.00</td>\n",
       "    </tr>\n",
       "    <tr>\n",
       "      <td>2312</td>\n",
       "      <td>Carrie</td>\n",
       "      <td>1976-11-03</td>\n",
       "      <td>1800000.00</td>\n",
       "    </tr>\n",
       "    <tr>\n",
       "      <td>2313</td>\n",
       "      <td>Viskningar och rop</td>\n",
       "      <td>1972-12-21</td>\n",
       "      <td>400000.00</td>\n",
       "    </tr>\n",
       "    <tr>\n",
       "      <td>2314</td>\n",
       "      <td>2001: A Space Odyssey</td>\n",
       "      <td>1968-04-10</td>\n",
       "      <td>10500000.00</td>\n",
       "    </tr>\n",
       "    <tr>\n",
       "      <td>2315</td>\n",
       "      <td>The Best Years of Our Lives</td>\n",
       "      <td>1946-12-25</td>\n",
       "      <td>2100000.00</td>\n",
       "    </tr>\n",
       "  </tbody>\n",
       "</table>\n",
       "<p>2316 rows × 3 columns</p>\n",
       "</div>"
      ],
      "text/plain": [
       "                   original_title release_date_x  production_budget\n",
       "0                      El Chicano     2019-05-03         8000000.00\n",
       "1                           Braid     2019-02-01         1660000.00\n",
       "2                      The Upside     2019-01-11        37500000.00\n",
       "3                       Destroyer     2018-12-25         9000000.00\n",
       "4                 Holmes & Watson     2018-12-25        42000000.00\n",
       "...                           ...            ...                ...\n",
       "2311                       Carrie     1976-11-03        30000000.00\n",
       "2312                       Carrie     1976-11-03         1800000.00\n",
       "2313           Viskningar och rop     1972-12-21          400000.00\n",
       "2314        2001: A Space Odyssey     1968-04-10        10500000.00\n",
       "2315  The Best Years of Our Lives     1946-12-25         2100000.00\n",
       "\n",
       "[2316 rows x 3 columns]"
      ]
     },
     "execution_count": 130,
     "metadata": {},
     "output_type": "execute_result"
    }
   ],
   "source": [
    "#reset index of sorted dataframe to release date\n",
    "\n",
    "recentavgpcost = recentavgpcost.reset_index(drop=True)\n",
    "\n",
    "recentavgpcost"
   ]
  },
  {
   "cell_type": "code",
   "execution_count": 142,
   "metadata": {
    "ExecuteTime": {
     "end_time": "2020-06-21T04:55:09.896676Z",
     "start_time": "2020-06-21T04:55:09.878725Z"
    }
   },
   "outputs": [
    {
     "data": {
      "text/plain": [
       "0      2019-05-03\n",
       "1      2019-02-01\n",
       "2      2019-01-11\n",
       "3      2018-12-25\n",
       "4      2018-12-25\n",
       "          ...    \n",
       "995    2014-11-28\n",
       "996    2014-11-26\n",
       "997    2014-11-26\n",
       "998    2014-11-26\n",
       "999    2014-11-24\n",
       "Name: release_date_x, Length: 1000, dtype: object"
      ]
     },
     "execution_count": 142,
     "metadata": {},
     "output_type": "execute_result"
    }
   ],
   "source": [
    "recentavgpcost.loc[:999, 'release_date_x']"
   ]
  },
  {
   "cell_type": "code",
   "execution_count": 143,
   "metadata": {
    "ExecuteTime": {
     "end_time": "2020-06-21T04:56:09.488132Z",
     "start_time": "2020-06-21T04:56:09.472173Z"
    }
   },
   "outputs": [
    {
     "data": {
      "text/plain": [
       "0       8000000.00\n",
       "1       1660000.00\n",
       "2      37500000.00\n",
       "3       9000000.00\n",
       "4      42000000.00\n",
       "          ...     \n",
       "995     2000000.00\n",
       "996    40000000.00\n",
       "997    15000000.00\n",
       "998   132000000.00\n",
       "999     5900000.00\n",
       "Name: production_budget, Length: 1000, dtype: float64"
      ]
     },
     "execution_count": 143,
     "metadata": {},
     "output_type": "execute_result"
    }
   ],
   "source": [
    "#set new variable for 1000 most recently released movies\n",
    "\n",
    "recentpcost = recentavgpcost.loc[:999, 'production_budget']\n",
    "\n",
    "recentpcost"
   ]
  },
  {
   "cell_type": "code",
   "execution_count": 148,
   "metadata": {
    "ExecuteTime": {
     "end_time": "2020-06-21T05:00:10.111726Z",
     "start_time": "2020-06-21T05:00:10.089756Z"
    }
   },
   "outputs": [
    {
     "data": {
      "text/plain": [
       "count        1000.00\n",
       "mean     40336695.37\n",
       "std      53046090.40\n",
       "min         25000.00\n",
       "25%       6000000.00\n",
       "50%      20000000.00\n",
       "75%      50000000.00\n",
       "max     330600000.00\n",
       "Name: production_budget, dtype: float64"
      ]
     },
     "execution_count": 148,
     "metadata": {},
     "output_type": "execute_result"
    }
   ],
   "source": [
    "#call summary statistics of dataframe\n",
    "\n",
    "recentpcost.describe()"
   ]
  },
  {
   "cell_type": "code",
   "execution_count": 151,
   "metadata": {
    "ExecuteTime": {
     "end_time": "2020-06-21T05:10:10.275219Z",
     "start_time": "2020-06-21T05:10:10.265322Z"
    }
   },
   "outputs": [
    {
     "data": {
      "text/plain": [
       "20000000.0"
      ]
     },
     "execution_count": 151,
     "metadata": {},
     "output_type": "execute_result"
    }
   ],
   "source": [
    "#calculate median of dataframe\n",
    "\n",
    "recentpcost.median()"
   ]
  },
  {
   "cell_type": "code",
   "execution_count": 152,
   "metadata": {
    "ExecuteTime": {
     "end_time": "2020-06-21T05:10:27.866101Z",
     "start_time": "2020-06-21T05:10:27.851142Z"
    }
   },
   "outputs": [
    {
     "data": {
      "text/plain": [
       "0   10000000.00\n",
       "dtype: float64"
      ]
     },
     "execution_count": 152,
     "metadata": {},
     "output_type": "execute_result"
    }
   ],
   "source": [
    "#calculate mode of dataframe\n",
    "\n",
    "recentpcost.mode()"
   ]
  },
  {
   "cell_type": "markdown",
   "metadata": {
    "ExecuteTime": {
     "end_time": "2020-06-19T21:59:36.030592Z",
     "start_time": "2020-06-19T21:59:36.020635Z"
    }
   },
   "source": [
    "***Findings***: Average recent production costs since Nov 2014: <br>\n",
    "<ul><li> Mean - &#36; 40,336,695.37 </li>\n",
    "    <li> Median - &#36; 20,000,000 </li>\n",
    "    <li> Mode - &#36; 10,000,000 </li></ul>\n",
    "The production cost of a movie averaged &#36; 20,000,000. From the average movie costs to the highest movie cost is an increase of 1553%."
   ]
  },
  {
   "cell_type": "code",
   "execution_count": 157,
   "metadata": {
    "ExecuteTime": {
     "end_time": "2020-06-21T05:30:08.791331Z",
     "start_time": "2020-06-21T05:30:08.430270Z"
    }
   },
   "outputs": [
    {
     "data": {
      "image/png": "[encoded data removed]",
      "text/plain": [
       "<Figure size 432x288 with 1 Axes>"
      ]
     },
     "metadata": {},
     "output_type": "display_data"
    }
   ],
   "source": [
    "#using a seaborn distribution plot\n",
    "\n",
    "sns.set(color_codes=True) #seaborn color setting\n",
    "\n",
    "x = recentpcost #setting x variable\n",
    "\n",
    "sns.distplot(x);"
   ]
  },
  {
   "cell_type": "markdown",
   "metadata": {},
   "source": [
    "## Which 5 genres had the highest box office revenue?"
   ]
  },
  {
   "cell_type": "code",
   "execution_count": null,
   "metadata": {
    "ExecuteTime": {
     "end_time": "2020-06-21T00:51:24.623306Z",
     "start_time": "2020-06-21T00:51:18.631Z"
    }
   },
   "outputs": [],
   "source": [
    "code here: KAT"
   ]
  },
  {
   "cell_type": "markdown",
   "metadata": {},
   "source": [
    "***Findings***: In the Rotten Tomatoes dataset, Is there a common genre associated with highest box office revenue?"
   ]
  },
  {
   "cell_type": "markdown",
   "metadata": {},
   "source": [
    "## Data Visualization"
   ]
  },
  {
   "cell_type": "code",
   "execution_count": null,
   "metadata": {
    "ExecuteTime": {
     "end_time": "2020-06-21T00:51:24.624303Z",
     "start_time": "2020-06-21T00:51:18.637Z"
    }
   },
   "outputs": [],
   "source": [
    "code here"
   ]
  },
  {
   "cell_type": "markdown",
   "metadata": {},
   "source": [
    "***Findings***: write summary here"
   ]
  }
 ],
 "metadata": {
  "kernelspec": {
   "display_name": "Python [conda env:learn-env] *",
   "language": "python",
   "name": "conda-env-learn-env-py"
  },
  "language_info": {
   "codemirror_mode": {
    "name": "ipython",
    "version": 3
   },
   "file_extension": ".py",
   "mimetype": "text/x-python",
   "name": "python",
   "nbconvert_exporter": "python",
   "pygments_lexer": "ipython3",
   "version": "3.6.9"
  },
  "toc": {
   "base_numbering": 1,
   "nav_menu": {},
   "number_sections": true,
   "sideBar": true,
   "skip_h1_title": false,
   "title_cell": "Table of Contents",
   "title_sidebar": "Contents",
   "toc_cell": false,
   "toc_position": {},
   "toc_section_display": true,
   "toc_window_display": true
  },
  "varInspector": {
   "cols": {
    "lenName": 16,
    "lenType": 16,
    "lenVar": 40
   },
   "kernels_config": {
    "python": {
     "delete_cmd_postfix": "",
     "delete_cmd_prefix": "del ",
     "library": "var_list.py",
     "varRefreshCmd": "print(var_dic_list())"
    },
    "r": {
     "delete_cmd_postfix": ") ",
     "delete_cmd_prefix": "rm(",
     "library": "var_list.r",
     "varRefreshCmd": "cat(var_dic_list()) "
    }
   },
   "position": {
    "height": "416px",
    "left": "1070px",
    "right": "20px",
    "top": "118px",
    "width": "350px"
   },
   "types_to_exclude": [
    "module",
    "function",
    "builtin_function_or_method",
    "instance",
    "_Feature"
   ],
   "window_display": false
  }
 },
 "nbformat": 4,
 "nbformat_minor": 2
}
