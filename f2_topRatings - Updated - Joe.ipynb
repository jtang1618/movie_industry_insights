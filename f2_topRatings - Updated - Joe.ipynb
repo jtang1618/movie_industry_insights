{
 "cells": [
  {
   "cell_type": "markdown",
   "metadata": {},
   "source": [
    "# Ratings and Revenue"
   ]
  },
  {
   "cell_type": "markdown",
   "metadata": {},
   "source": [
    "Is there a noticeable relationship between ratings and the top film gross revenue?\n"
   ]
  },
  {
   "cell_type": "markdown",
   "metadata": {},
   "source": [
    "## import the data"
   ]
  },
  {
   "cell_type": "code",
   "execution_count": 1,
   "metadata": {
    "ExecuteTime": {
     "end_time": "2020-06-20T21:19:58.316244Z",
     "start_time": "2020-06-20T21:19:57.111856Z"
    }
   },
   "outputs": [],
   "source": [
    "#necessary imports\n",
    "\n",
    "import sqlite3\n",
    "import os\n",
    "import pandas as pd\n",
    "import numpy as np\n",
    "import matplotlib.pyplot as plt\n",
    "import seaborn as sns\n",
    "from glob import glob"
   ]
  },
  {
   "cell_type": "code",
   "execution_count": 2,
   "metadata": {
    "ExecuteTime": {
     "end_time": "2020-06-20T21:19:58.332198Z",
     "start_time": "2020-06-20T21:19:58.322224Z"
    }
   },
   "outputs": [],
   "source": [
    "#add pandas display options for number and column display\n",
    "\n",
    "pd.options.display.float_format = '{:.2f}'.format\n",
    "pd.set_option('display.max_columns', None)\n"
   ]
  },
  {
   "cell_type": "code",
   "execution_count": 3,
   "metadata": {
    "ExecuteTime": {
     "end_time": "2020-06-20T21:19:59.643802Z",
     "start_time": "2020-06-20T21:19:58.335190Z"
    }
   },
   "outputs": [],
   "source": [
    "#converts tsv files\n",
    "\n",
    "tsv_file = './zippedData/rt.movie_info.tsv.gz'\n",
    "convert = pd.read_table(tsv_file, delimiter='\\t')\n",
    "convert.to_csv('./zippedData/rt.movie_info.csv.gz')\n",
    "\n",
    "tsv_file_r = './zippedData/rt.reviews.tsv.gz'\n",
    "convert_r = pd.read_table(tsv_file_r, delimiter='\\t', encoding = 'unicode_escape')\n",
    "convert_r.to_csv('./zippedData/rt.reviews.csv.gz')"
   ]
  },
  {
   "cell_type": "code",
   "execution_count": 4,
   "metadata": {
    "ExecuteTime": {
     "end_time": "2020-06-20T21:19:59.659646Z",
     "start_time": "2020-06-20T21:19:59.644727Z"
    }
   },
   "outputs": [
    {
     "data": {
      "text/plain": [
       "['./zippedData\\\\bom.movie_gross.csv.gz',\n",
       " './zippedData\\\\imdb.name.basics.csv.gz',\n",
       " './zippedData\\\\imdb.title.akas.csv.gz',\n",
       " './zippedData\\\\imdb.title.basics.csv.gz',\n",
       " './zippedData\\\\imdb.title.crew.csv.gz',\n",
       " './zippedData\\\\imdb.title.principals.csv.gz',\n",
       " './zippedData\\\\rt.movie_info.csv.gz',\n",
       " './zippedData\\\\rt.reviews.csv.gz',\n",
       " './zippedData\\\\tmdb.movies.csv.gz',\n",
       " './zippedData\\\\tn.movie_budgets.csv.gz']"
      ]
     },
     "execution_count": 4,
     "metadata": {},
     "output_type": "execute_result"
    }
   ],
   "source": [
    "#importing data using glob\n",
    "\n",
    "datafiles = glob(\"./zippedData/*.csv.gz\")\n",
    "datafiles"
   ]
  },
  {
   "cell_type": "code",
   "execution_count": 5,
   "metadata": {
    "ExecuteTime": {
     "end_time": "2020-06-20T21:20:02.994538Z",
     "start_time": "2020-06-20T21:19:59.661640Z"
    }
   },
   "outputs": [],
   "source": [
    "datafiles_dict = {}\n",
    "for filename in datafiles:\n",
    "    filename_cleaned = os.path.basename(filename).replace(\".csv\", \"\").replace(\".gz\", \"\").replace(\".\", \"_\") # cleaning the filenames\n",
    "    filename_df = pd.read_csv(filename)\n",
    "    datafiles_dict[filename_cleaned] = filename_df"
   ]
  },
  {
   "cell_type": "code",
   "execution_count": 6,
   "metadata": {
    "ExecuteTime": {
     "end_time": "2020-06-20T21:20:03.009501Z",
     "start_time": "2020-06-20T21:20:02.998531Z"
    }
   },
   "outputs": [
    {
     "name": "stdout",
     "output_type": "stream",
     "text": [
      "dict_keys(['bom_movie_gross', 'imdb_name_basics', 'imdb_title_akas', 'imdb_title_basics', 'imdb_title_crew', 'imdb_title_principals', 'rt_movie_info', 'rt_reviews', 'tmdb_movies', 'tn_movie_budgets'])\n"
     ]
    }
   ],
   "source": [
    "print(datafiles_dict.keys())"
   ]
  },
  {
   "cell_type": "code",
   "execution_count": 7,
   "metadata": {
    "ExecuteTime": {
     "end_time": "2020-06-20T21:20:03.133205Z",
     "start_time": "2020-06-20T21:20:03.011496Z"
    }
   },
   "outputs": [
    {
     "data": {
      "text/html": [
       "<div>\n",
       "<style scoped>\n",
       "    .dataframe tbody tr th:only-of-type {\n",
       "        vertical-align: middle;\n",
       "    }\n",
       "\n",
       "    .dataframe tbody tr th {\n",
       "        vertical-align: top;\n",
       "    }\n",
       "\n",
       "    .dataframe thead th {\n",
       "        text-align: right;\n",
       "    }\n",
       "</style>\n",
       "<table border=\"1\" class=\"dataframe\">\n",
       "  <thead>\n",
       "    <tr style=\"text-align: right;\">\n",
       "      <th></th>\n",
       "      <th>Unnamed: 0</th>\n",
       "      <th>id</th>\n",
       "      <th>original_title</th>\n",
       "      <th>popularity</th>\n",
       "      <th>release_date_x</th>\n",
       "      <th>title</th>\n",
       "      <th>vote_average</th>\n",
       "      <th>vote_count</th>\n",
       "      <th>Fantasy</th>\n",
       "      <th>Drama</th>\n",
       "      <th>War</th>\n",
       "      <th>Mystery</th>\n",
       "      <th>Comedy</th>\n",
       "      <th>Romance</th>\n",
       "      <th>Family</th>\n",
       "      <th>Music</th>\n",
       "      <th>Documentary</th>\n",
       "      <th>Animation</th>\n",
       "      <th>Western</th>\n",
       "      <th>Action</th>\n",
       "      <th>Crime</th>\n",
       "      <th>Thriller</th>\n",
       "      <th>TV Movie</th>\n",
       "      <th>Adventure</th>\n",
       "      <th>History</th>\n",
       "      <th>Science Fiction</th>\n",
       "      <th>Horror</th>\n",
       "      <th>original_language</th>\n",
       "      <th>release_date_y</th>\n",
       "      <th>movie</th>\n",
       "      <th>production_budget</th>\n",
       "      <th>domestic_gross</th>\n",
       "      <th>worldwide_gross</th>\n",
       "      <th>domesticgross_v_production</th>\n",
       "      <th>total_net</th>\n",
       "    </tr>\n",
       "  </thead>\n",
       "  <tbody>\n",
       "    <tr>\n",
       "      <td>0</td>\n",
       "      <td>0</td>\n",
       "      <td>12444</td>\n",
       "      <td>Harry Potter and the Deathly Hallows: Part 1</td>\n",
       "      <td>33.53</td>\n",
       "      <td>2010-11-19</td>\n",
       "      <td>Harry Potter and the Deathly Hallows: Part 1</td>\n",
       "      <td>7.70</td>\n",
       "      <td>10788</td>\n",
       "      <td>1.00</td>\n",
       "      <td>0.00</td>\n",
       "      <td>0.00</td>\n",
       "      <td>0.00</td>\n",
       "      <td>0.00</td>\n",
       "      <td>0.00</td>\n",
       "      <td>1.00</td>\n",
       "      <td>0.00</td>\n",
       "      <td>0.00</td>\n",
       "      <td>0.00</td>\n",
       "      <td>0.00</td>\n",
       "      <td>0.00</td>\n",
       "      <td>0.00</td>\n",
       "      <td>0.00</td>\n",
       "      <td>0.00</td>\n",
       "      <td>1.00</td>\n",
       "      <td>0.00</td>\n",
       "      <td>0.00</td>\n",
       "      <td>0.00</td>\n",
       "      <td>English</td>\n",
       "      <td>NaN</td>\n",
       "      <td>NaN</td>\n",
       "      <td>nan</td>\n",
       "      <td>nan</td>\n",
       "      <td>nan</td>\n",
       "      <td>nan</td>\n",
       "      <td>nan</td>\n",
       "    </tr>\n",
       "    <tr>\n",
       "      <td>1</td>\n",
       "      <td>1</td>\n",
       "      <td>10191</td>\n",
       "      <td>How to Train Your Dragon</td>\n",
       "      <td>28.73</td>\n",
       "      <td>2010-03-26</td>\n",
       "      <td>How to Train Your Dragon</td>\n",
       "      <td>7.70</td>\n",
       "      <td>7610</td>\n",
       "      <td>1.00</td>\n",
       "      <td>0.00</td>\n",
       "      <td>0.00</td>\n",
       "      <td>0.00</td>\n",
       "      <td>0.00</td>\n",
       "      <td>0.00</td>\n",
       "      <td>1.00</td>\n",
       "      <td>0.00</td>\n",
       "      <td>0.00</td>\n",
       "      <td>1.00</td>\n",
       "      <td>0.00</td>\n",
       "      <td>0.00</td>\n",
       "      <td>0.00</td>\n",
       "      <td>0.00</td>\n",
       "      <td>0.00</td>\n",
       "      <td>1.00</td>\n",
       "      <td>0.00</td>\n",
       "      <td>0.00</td>\n",
       "      <td>0.00</td>\n",
       "      <td>English</td>\n",
       "      <td>Mar 26, 2010</td>\n",
       "      <td>How to Train Your Dragon</td>\n",
       "      <td>165000000.00</td>\n",
       "      <td>217581232.00</td>\n",
       "      <td>494870992.00</td>\n",
       "      <td>52581232.00</td>\n",
       "      <td>329870992.00</td>\n",
       "    </tr>\n",
       "    <tr>\n",
       "      <td>2</td>\n",
       "      <td>2</td>\n",
       "      <td>10138</td>\n",
       "      <td>Iron Man 2</td>\n",
       "      <td>28.52</td>\n",
       "      <td>2010-05-07</td>\n",
       "      <td>Iron Man 2</td>\n",
       "      <td>6.80</td>\n",
       "      <td>12368</td>\n",
       "      <td>0.00</td>\n",
       "      <td>0.00</td>\n",
       "      <td>0.00</td>\n",
       "      <td>0.00</td>\n",
       "      <td>0.00</td>\n",
       "      <td>0.00</td>\n",
       "      <td>0.00</td>\n",
       "      <td>0.00</td>\n",
       "      <td>0.00</td>\n",
       "      <td>0.00</td>\n",
       "      <td>0.00</td>\n",
       "      <td>1.00</td>\n",
       "      <td>0.00</td>\n",
       "      <td>0.00</td>\n",
       "      <td>0.00</td>\n",
       "      <td>1.00</td>\n",
       "      <td>0.00</td>\n",
       "      <td>1.00</td>\n",
       "      <td>0.00</td>\n",
       "      <td>English</td>\n",
       "      <td>May 7, 2010</td>\n",
       "      <td>Iron Man 2</td>\n",
       "      <td>170000000.00</td>\n",
       "      <td>312433331.00</td>\n",
       "      <td>621156389.00</td>\n",
       "      <td>142433331.00</td>\n",
       "      <td>451156389.00</td>\n",
       "    </tr>\n",
       "    <tr>\n",
       "      <td>3</td>\n",
       "      <td>3</td>\n",
       "      <td>862</td>\n",
       "      <td>Toy Story</td>\n",
       "      <td>28.00</td>\n",
       "      <td>1995-11-22</td>\n",
       "      <td>Toy Story</td>\n",
       "      <td>7.90</td>\n",
       "      <td>10174</td>\n",
       "      <td>0.00</td>\n",
       "      <td>0.00</td>\n",
       "      <td>0.00</td>\n",
       "      <td>0.00</td>\n",
       "      <td>1.00</td>\n",
       "      <td>0.00</td>\n",
       "      <td>1.00</td>\n",
       "      <td>0.00</td>\n",
       "      <td>0.00</td>\n",
       "      <td>1.00</td>\n",
       "      <td>0.00</td>\n",
       "      <td>0.00</td>\n",
       "      <td>0.00</td>\n",
       "      <td>0.00</td>\n",
       "      <td>0.00</td>\n",
       "      <td>0.00</td>\n",
       "      <td>0.00</td>\n",
       "      <td>0.00</td>\n",
       "      <td>0.00</td>\n",
       "      <td>English</td>\n",
       "      <td>Nov 22, 1995</td>\n",
       "      <td>Toy Story</td>\n",
       "      <td>30000000.00</td>\n",
       "      <td>191796233.00</td>\n",
       "      <td>364545516.00</td>\n",
       "      <td>161796233.00</td>\n",
       "      <td>334545516.00</td>\n",
       "    </tr>\n",
       "    <tr>\n",
       "      <td>4</td>\n",
       "      <td>4</td>\n",
       "      <td>27205</td>\n",
       "      <td>Inception</td>\n",
       "      <td>27.92</td>\n",
       "      <td>2010-07-16</td>\n",
       "      <td>Inception</td>\n",
       "      <td>8.30</td>\n",
       "      <td>22186</td>\n",
       "      <td>0.00</td>\n",
       "      <td>0.00</td>\n",
       "      <td>0.00</td>\n",
       "      <td>0.00</td>\n",
       "      <td>0.00</td>\n",
       "      <td>0.00</td>\n",
       "      <td>0.00</td>\n",
       "      <td>0.00</td>\n",
       "      <td>0.00</td>\n",
       "      <td>0.00</td>\n",
       "      <td>0.00</td>\n",
       "      <td>1.00</td>\n",
       "      <td>0.00</td>\n",
       "      <td>0.00</td>\n",
       "      <td>0.00</td>\n",
       "      <td>1.00</td>\n",
       "      <td>0.00</td>\n",
       "      <td>1.00</td>\n",
       "      <td>0.00</td>\n",
       "      <td>English</td>\n",
       "      <td>Jul 16, 2010</td>\n",
       "      <td>Inception</td>\n",
       "      <td>160000000.00</td>\n",
       "      <td>292576195.00</td>\n",
       "      <td>835524642.00</td>\n",
       "      <td>132576195.00</td>\n",
       "      <td>675524642.00</td>\n",
       "    </tr>\n",
       "  </tbody>\n",
       "</table>\n",
       "</div>"
      ],
      "text/plain": [
       "   Unnamed: 0     id                                original_title  \\\n",
       "0           0  12444  Harry Potter and the Deathly Hallows: Part 1   \n",
       "1           1  10191                      How to Train Your Dragon   \n",
       "2           2  10138                                    Iron Man 2   \n",
       "3           3    862                                     Toy Story   \n",
       "4           4  27205                                     Inception   \n",
       "\n",
       "   popularity release_date_x                                         title  \\\n",
       "0       33.53     2010-11-19  Harry Potter and the Deathly Hallows: Part 1   \n",
       "1       28.73     2010-03-26                      How to Train Your Dragon   \n",
       "2       28.52     2010-05-07                                    Iron Man 2   \n",
       "3       28.00     1995-11-22                                     Toy Story   \n",
       "4       27.92     2010-07-16                                     Inception   \n",
       "\n",
       "   vote_average  vote_count  Fantasy  Drama  War  Mystery  Comedy  Romance  \\\n",
       "0          7.70       10788     1.00   0.00 0.00     0.00    0.00     0.00   \n",
       "1          7.70        7610     1.00   0.00 0.00     0.00    0.00     0.00   \n",
       "2          6.80       12368     0.00   0.00 0.00     0.00    0.00     0.00   \n",
       "3          7.90       10174     0.00   0.00 0.00     0.00    1.00     0.00   \n",
       "4          8.30       22186     0.00   0.00 0.00     0.00    0.00     0.00   \n",
       "\n",
       "   Family  Music  Documentary  Animation  Western  Action  Crime  Thriller  \\\n",
       "0    1.00   0.00         0.00       0.00     0.00    0.00   0.00      0.00   \n",
       "1    1.00   0.00         0.00       1.00     0.00    0.00   0.00      0.00   \n",
       "2    0.00   0.00         0.00       0.00     0.00    1.00   0.00      0.00   \n",
       "3    1.00   0.00         0.00       1.00     0.00    0.00   0.00      0.00   \n",
       "4    0.00   0.00         0.00       0.00     0.00    1.00   0.00      0.00   \n",
       "\n",
       "   TV Movie  Adventure  History  Science Fiction  Horror original_language  \\\n",
       "0      0.00       1.00     0.00             0.00    0.00           English   \n",
       "1      0.00       1.00     0.00             0.00    0.00           English   \n",
       "2      0.00       1.00     0.00             1.00    0.00           English   \n",
       "3      0.00       0.00     0.00             0.00    0.00           English   \n",
       "4      0.00       1.00     0.00             1.00    0.00           English   \n",
       "\n",
       "  release_date_y                     movie  production_budget  domestic_gross  \\\n",
       "0            NaN                       NaN                nan             nan   \n",
       "1   Mar 26, 2010  How to Train Your Dragon       165000000.00    217581232.00   \n",
       "2    May 7, 2010                Iron Man 2       170000000.00    312433331.00   \n",
       "3   Nov 22, 1995                 Toy Story        30000000.00    191796233.00   \n",
       "4   Jul 16, 2010                 Inception       160000000.00    292576195.00   \n",
       "\n",
       "   worldwide_gross  domesticgross_v_production    total_net  \n",
       "0              nan                         nan          nan  \n",
       "1     494870992.00                 52581232.00 329870992.00  \n",
       "2     621156389.00                142433331.00 451156389.00  \n",
       "3     364545516.00                161796233.00 334545516.00  \n",
       "4     835524642.00                132576195.00 675524642.00  "
      ]
     },
     "execution_count": 7,
     "metadata": {},
     "output_type": "execute_result"
    }
   ],
   "source": [
    "#load in dataset in csv to dataframe\n",
    "\n",
    "tmdb_mglb_df = pd.read_csv('tmdb_mglb.csv')\n",
    "\n",
    "tmdb_mglb_df.head() #call first 5 rows"
   ]
  },
  {
   "cell_type": "code",
   "execution_count": 8,
   "metadata": {
    "ExecuteTime": {
     "end_time": "2020-06-20T21:20:03.148131Z",
     "start_time": "2020-06-20T21:20:03.135165Z"
    }
   },
   "outputs": [],
   "source": [
    "tmdb_mglb_df = tmdb_mglb_df.drop(['Unnamed: 0', 'movie', 'title'], axis=1) #drop columns"
   ]
  },
  {
   "cell_type": "markdown",
   "metadata": {},
   "source": [
    "## Ratings"
   ]
  },
  {
   "cell_type": "markdown",
   "metadata": {},
   "source": [
    "Review user-generated review/rating aka Audience Score\n",
    "\n",
    "### Of the films with the top 5 box office revenue, how were the ratings?"
   ]
  },
  {
   "cell_type": "code",
   "execution_count": 9,
   "metadata": {
    "ExecuteTime": {
     "end_time": "2020-06-20T21:20:03.241918Z",
     "start_time": "2020-06-20T21:20:03.150126Z"
    }
   },
   "outputs": [
    {
     "ename": "OperationalError",
     "evalue": "no such table: rt_reviews",
     "output_type": "error",
     "traceback": [
      "\u001b[1;31m---------------------------------------------------------------------------\u001b[0m",
      "\u001b[1;31mOperationalError\u001b[0m                          Traceback (most recent call last)",
      "\u001b[1;32m<ipython-input-9-50a71414b91b>\u001b[0m in \u001b[0;36m<module>\u001b[1;34m\u001b[0m\n\u001b[0;32m      7\u001b[0m \u001b[0mJOIN\u001b[0m \u001b[0mrt_movie_info\u001b[0m\u001b[1;33m\u001b[0m\u001b[1;33m\u001b[0m\u001b[0m\n\u001b[0;32m      8\u001b[0m \u001b[0mUSING\u001b[0m\u001b[1;33m(\u001b[0m\u001b[1;34m'pid'\u001b[0m\u001b[1;33m)\u001b[0m\u001b[1;33m\u001b[0m\u001b[1;33m\u001b[0m\u001b[0m\n\u001b[1;32m----> 9\u001b[1;33m ORDER BY box_office DESC;\"\"\")\n\u001b[0m\u001b[0;32m     10\u001b[0m \u001b[1;33m\u001b[0m\u001b[0m\n\u001b[0;32m     11\u001b[0m \u001b[0mpd\u001b[0m\u001b[1;33m.\u001b[0m\u001b[0mset_option\u001b[0m\u001b[1;33m(\u001b[0m\u001b[1;34m'display.max_columns'\u001b[0m\u001b[1;33m,\u001b[0m \u001b[1;32mNone\u001b[0m\u001b[1;33m)\u001b[0m\u001b[1;33m\u001b[0m\u001b[1;33m\u001b[0m\u001b[0m\n",
      "\u001b[1;31mOperationalError\u001b[0m: no such table: rt_reviews"
     ]
    }
   ],
   "source": [
    "conn = sqlite3.connect('movie.db') \n",
    "cur = conn.cursor()\n",
    "\n",
    "cur.execute(\"\"\" \n",
    "SELECT rating, box_office\n",
    "FROM rt_reviews\n",
    "JOIN rt_movie_info\n",
    "USING('pid')  \n",
    "ORDER BY box_office DESC;\"\"\")\n",
    "\n",
    "pd.set_option('display.max_columns', None)\n",
    "dft = pd.DataFrame(cur.fetchall())\n",
    "dft.columns = (x[0] for x in cur.description)\n",
    "#print(dft.shape)\n",
    "#print(dft.info())\n",
    "dft.head()"
   ]
  },
  {
   "cell_type": "markdown",
   "metadata": {
    "ExecuteTime": {
     "end_time": "2020-06-19T17:27:41.497493Z",
     "start_time": "2020-06-19T17:27:41.493396Z"
    }
   },
   "source": [
    "**Finding**: We can see that there is not a significant with the top 5 films having the highest box office revenue."
   ]
  },
  {
   "cell_type": "markdown",
   "metadata": {},
   "source": [
    "### Is there a common genre associated with top ratings?"
   ]
  },
  {
   "cell_type": "code",
   "execution_count": null,
   "metadata": {
    "ExecuteTime": {
     "end_time": "2020-06-20T21:20:03.250855Z",
     "start_time": "2020-06-20T21:19:57.147Z"
    },
    "scrolled": true
   },
   "outputs": [],
   "source": [
    "conn = sqlite3.connect('movie.db') \n",
    "cur = conn.cursor()\n",
    "\n",
    "cur.execute(\"\"\" \n",
    "SELECT rating, box_office, genre_action, genre_kids, genre_adventure, genre_animation, genre_classics, \n",
    "genre_comedy, genre_documentary, genre_drama, \n",
    "genre_horror, genre_international, genre_kids, \n",
    "genre_muscial, genre_mystery, genre_scifi, \n",
    "genre_spirituality, genre_sports, genre_romance,\n",
    "genre_television, genre_western\n",
    "FROM rt_reviews\n",
    "JOIN rt_movie_info\n",
    "USING('pid')  \n",
    "WHERE (rating == '4/4') OR (rating == 'A') OR (rating == '10') OR (rating == '5/5') \n",
    "ORDER BY box_office DESC;\"\"\")\n",
    "\n",
    "pd.set_option('display.max_columns', None)\n",
    "dft = pd.DataFrame(cur.fetchall())\n",
    "dft.columns = (x[0] for x in cur.description)\n",
    "#print(dft.shape)\n",
    "#print(dft.info())\n",
    "dft.head()"
   ]
  },
  {
   "cell_type": "markdown",
   "metadata": {},
   "source": [
    "**Finding**: Films with the highest ratings and highest box office revenue are primarily distributed within the action, adventure, comedy and drama genres."
   ]
  },
  {
   "cell_type": "markdown",
   "metadata": {},
   "source": [
    "### Popularity, Gross Profit and Net Revenue: are there any notable patterns?"
   ]
  },
  {
   "cell_type": "markdown",
   "metadata": {},
   "source": [
    "***Movie Popularity metric in TMDB calculated by:***<br>\n",
    "<ul><li>Number of votes for the day</li>\n",
    "    <li>Number of views for the day</li>\n",
    "    <li>Number of users who marked it as a \"favourite\" for the day</li>\n",
    "    <li>Number of users who added it to their \"watchlist\" for the day</li>\n",
    "    <li>Release date</li>\n",
    "    <li>Number of total votes</li>\n",
    "    <li>Previous days score</li>"
   ]
  },
  {
   "cell_type": "code",
   "execution_count": 10,
   "metadata": {
    "ExecuteTime": {
     "end_time": "2020-06-20T21:21:17.327793Z",
     "start_time": "2020-06-20T21:21:17.298898Z"
    },
    "scrolled": true
   },
   "outputs": [
    {
     "data": {
      "text/html": [
       "<div>\n",
       "<style scoped>\n",
       "    .dataframe tbody tr th:only-of-type {\n",
       "        vertical-align: middle;\n",
       "    }\n",
       "\n",
       "    .dataframe tbody tr th {\n",
       "        vertical-align: top;\n",
       "    }\n",
       "\n",
       "    .dataframe thead th {\n",
       "        text-align: right;\n",
       "    }\n",
       "</style>\n",
       "<table border=\"1\" class=\"dataframe\">\n",
       "  <thead>\n",
       "    <tr style=\"text-align: right;\">\n",
       "      <th></th>\n",
       "      <th>id</th>\n",
       "      <th>original_title</th>\n",
       "      <th>popularity</th>\n",
       "      <th>release_date_x</th>\n",
       "      <th>vote_average</th>\n",
       "      <th>vote_count</th>\n",
       "      <th>Fantasy</th>\n",
       "      <th>Drama</th>\n",
       "      <th>War</th>\n",
       "      <th>Mystery</th>\n",
       "      <th>Comedy</th>\n",
       "      <th>Romance</th>\n",
       "      <th>Family</th>\n",
       "      <th>Music</th>\n",
       "      <th>Documentary</th>\n",
       "      <th>Animation</th>\n",
       "      <th>Western</th>\n",
       "      <th>Action</th>\n",
       "      <th>Crime</th>\n",
       "      <th>Thriller</th>\n",
       "      <th>TV Movie</th>\n",
       "      <th>Adventure</th>\n",
       "      <th>History</th>\n",
       "      <th>Science Fiction</th>\n",
       "      <th>Horror</th>\n",
       "      <th>original_language</th>\n",
       "      <th>release_date_y</th>\n",
       "      <th>production_budget</th>\n",
       "      <th>domestic_gross</th>\n",
       "      <th>worldwide_gross</th>\n",
       "      <th>domesticgross_v_production</th>\n",
       "      <th>total_net</th>\n",
       "    </tr>\n",
       "  </thead>\n",
       "  <tbody>\n",
       "    <tr>\n",
       "      <td>0</td>\n",
       "      <td>12444</td>\n",
       "      <td>Harry Potter and the Deathly Hallows: Part 1</td>\n",
       "      <td>33.53</td>\n",
       "      <td>2010-11-19</td>\n",
       "      <td>7.70</td>\n",
       "      <td>10788</td>\n",
       "      <td>1.00</td>\n",
       "      <td>0.00</td>\n",
       "      <td>0.00</td>\n",
       "      <td>0.00</td>\n",
       "      <td>0.00</td>\n",
       "      <td>0.00</td>\n",
       "      <td>1.00</td>\n",
       "      <td>0.00</td>\n",
       "      <td>0.00</td>\n",
       "      <td>0.00</td>\n",
       "      <td>0.00</td>\n",
       "      <td>0.00</td>\n",
       "      <td>0.00</td>\n",
       "      <td>0.00</td>\n",
       "      <td>0.00</td>\n",
       "      <td>1.00</td>\n",
       "      <td>0.00</td>\n",
       "      <td>0.00</td>\n",
       "      <td>0.00</td>\n",
       "      <td>English</td>\n",
       "      <td>NaN</td>\n",
       "      <td>nan</td>\n",
       "      <td>nan</td>\n",
       "      <td>nan</td>\n",
       "      <td>nan</td>\n",
       "      <td>nan</td>\n",
       "    </tr>\n",
       "    <tr>\n",
       "      <td>1</td>\n",
       "      <td>10191</td>\n",
       "      <td>How to Train Your Dragon</td>\n",
       "      <td>28.73</td>\n",
       "      <td>2010-03-26</td>\n",
       "      <td>7.70</td>\n",
       "      <td>7610</td>\n",
       "      <td>1.00</td>\n",
       "      <td>0.00</td>\n",
       "      <td>0.00</td>\n",
       "      <td>0.00</td>\n",
       "      <td>0.00</td>\n",
       "      <td>0.00</td>\n",
       "      <td>1.00</td>\n",
       "      <td>0.00</td>\n",
       "      <td>0.00</td>\n",
       "      <td>1.00</td>\n",
       "      <td>0.00</td>\n",
       "      <td>0.00</td>\n",
       "      <td>0.00</td>\n",
       "      <td>0.00</td>\n",
       "      <td>0.00</td>\n",
       "      <td>1.00</td>\n",
       "      <td>0.00</td>\n",
       "      <td>0.00</td>\n",
       "      <td>0.00</td>\n",
       "      <td>English</td>\n",
       "      <td>Mar 26, 2010</td>\n",
       "      <td>165000000.00</td>\n",
       "      <td>217581232.00</td>\n",
       "      <td>494870992.00</td>\n",
       "      <td>52581232.00</td>\n",
       "      <td>329870992.00</td>\n",
       "    </tr>\n",
       "    <tr>\n",
       "      <td>2</td>\n",
       "      <td>10138</td>\n",
       "      <td>Iron Man 2</td>\n",
       "      <td>28.52</td>\n",
       "      <td>2010-05-07</td>\n",
       "      <td>6.80</td>\n",
       "      <td>12368</td>\n",
       "      <td>0.00</td>\n",
       "      <td>0.00</td>\n",
       "      <td>0.00</td>\n",
       "      <td>0.00</td>\n",
       "      <td>0.00</td>\n",
       "      <td>0.00</td>\n",
       "      <td>0.00</td>\n",
       "      <td>0.00</td>\n",
       "      <td>0.00</td>\n",
       "      <td>0.00</td>\n",
       "      <td>0.00</td>\n",
       "      <td>1.00</td>\n",
       "      <td>0.00</td>\n",
       "      <td>0.00</td>\n",
       "      <td>0.00</td>\n",
       "      <td>1.00</td>\n",
       "      <td>0.00</td>\n",
       "      <td>1.00</td>\n",
       "      <td>0.00</td>\n",
       "      <td>English</td>\n",
       "      <td>May 7, 2010</td>\n",
       "      <td>170000000.00</td>\n",
       "      <td>312433331.00</td>\n",
       "      <td>621156389.00</td>\n",
       "      <td>142433331.00</td>\n",
       "      <td>451156389.00</td>\n",
       "    </tr>\n",
       "    <tr>\n",
       "      <td>3</td>\n",
       "      <td>862</td>\n",
       "      <td>Toy Story</td>\n",
       "      <td>28.00</td>\n",
       "      <td>1995-11-22</td>\n",
       "      <td>7.90</td>\n",
       "      <td>10174</td>\n",
       "      <td>0.00</td>\n",
       "      <td>0.00</td>\n",
       "      <td>0.00</td>\n",
       "      <td>0.00</td>\n",
       "      <td>1.00</td>\n",
       "      <td>0.00</td>\n",
       "      <td>1.00</td>\n",
       "      <td>0.00</td>\n",
       "      <td>0.00</td>\n",
       "      <td>1.00</td>\n",
       "      <td>0.00</td>\n",
       "      <td>0.00</td>\n",
       "      <td>0.00</td>\n",
       "      <td>0.00</td>\n",
       "      <td>0.00</td>\n",
       "      <td>0.00</td>\n",
       "      <td>0.00</td>\n",
       "      <td>0.00</td>\n",
       "      <td>0.00</td>\n",
       "      <td>English</td>\n",
       "      <td>Nov 22, 1995</td>\n",
       "      <td>30000000.00</td>\n",
       "      <td>191796233.00</td>\n",
       "      <td>364545516.00</td>\n",
       "      <td>161796233.00</td>\n",
       "      <td>334545516.00</td>\n",
       "    </tr>\n",
       "    <tr>\n",
       "      <td>4</td>\n",
       "      <td>27205</td>\n",
       "      <td>Inception</td>\n",
       "      <td>27.92</td>\n",
       "      <td>2010-07-16</td>\n",
       "      <td>8.30</td>\n",
       "      <td>22186</td>\n",
       "      <td>0.00</td>\n",
       "      <td>0.00</td>\n",
       "      <td>0.00</td>\n",
       "      <td>0.00</td>\n",
       "      <td>0.00</td>\n",
       "      <td>0.00</td>\n",
       "      <td>0.00</td>\n",
       "      <td>0.00</td>\n",
       "      <td>0.00</td>\n",
       "      <td>0.00</td>\n",
       "      <td>0.00</td>\n",
       "      <td>1.00</td>\n",
       "      <td>0.00</td>\n",
       "      <td>0.00</td>\n",
       "      <td>0.00</td>\n",
       "      <td>1.00</td>\n",
       "      <td>0.00</td>\n",
       "      <td>1.00</td>\n",
       "      <td>0.00</td>\n",
       "      <td>English</td>\n",
       "      <td>Jul 16, 2010</td>\n",
       "      <td>160000000.00</td>\n",
       "      <td>292576195.00</td>\n",
       "      <td>835524642.00</td>\n",
       "      <td>132576195.00</td>\n",
       "      <td>675524642.00</td>\n",
       "    </tr>\n",
       "  </tbody>\n",
       "</table>\n",
       "</div>"
      ],
      "text/plain": [
       "      id                                original_title  popularity  \\\n",
       "0  12444  Harry Potter and the Deathly Hallows: Part 1       33.53   \n",
       "1  10191                      How to Train Your Dragon       28.73   \n",
       "2  10138                                    Iron Man 2       28.52   \n",
       "3    862                                     Toy Story       28.00   \n",
       "4  27205                                     Inception       27.92   \n",
       "\n",
       "  release_date_x  vote_average  vote_count  Fantasy  Drama  War  Mystery  \\\n",
       "0     2010-11-19          7.70       10788     1.00   0.00 0.00     0.00   \n",
       "1     2010-03-26          7.70        7610     1.00   0.00 0.00     0.00   \n",
       "2     2010-05-07          6.80       12368     0.00   0.00 0.00     0.00   \n",
       "3     1995-11-22          7.90       10174     0.00   0.00 0.00     0.00   \n",
       "4     2010-07-16          8.30       22186     0.00   0.00 0.00     0.00   \n",
       "\n",
       "   Comedy  Romance  Family  Music  Documentary  Animation  Western  Action  \\\n",
       "0    0.00     0.00    1.00   0.00         0.00       0.00     0.00    0.00   \n",
       "1    0.00     0.00    1.00   0.00         0.00       1.00     0.00    0.00   \n",
       "2    0.00     0.00    0.00   0.00         0.00       0.00     0.00    1.00   \n",
       "3    1.00     0.00    1.00   0.00         0.00       1.00     0.00    0.00   \n",
       "4    0.00     0.00    0.00   0.00         0.00       0.00     0.00    1.00   \n",
       "\n",
       "   Crime  Thriller  TV Movie  Adventure  History  Science Fiction  Horror  \\\n",
       "0   0.00      0.00      0.00       1.00     0.00             0.00    0.00   \n",
       "1   0.00      0.00      0.00       1.00     0.00             0.00    0.00   \n",
       "2   0.00      0.00      0.00       1.00     0.00             1.00    0.00   \n",
       "3   0.00      0.00      0.00       0.00     0.00             0.00    0.00   \n",
       "4   0.00      0.00      0.00       1.00     0.00             1.00    0.00   \n",
       "\n",
       "  original_language release_date_y  production_budget  domestic_gross  \\\n",
       "0           English            NaN                nan             nan   \n",
       "1           English   Mar 26, 2010       165000000.00    217581232.00   \n",
       "2           English    May 7, 2010       170000000.00    312433331.00   \n",
       "3           English   Nov 22, 1995        30000000.00    191796233.00   \n",
       "4           English   Jul 16, 2010       160000000.00    292576195.00   \n",
       "\n",
       "   worldwide_gross  domesticgross_v_production    total_net  \n",
       "0              nan                         nan          nan  \n",
       "1     494870992.00                 52581232.00 329870992.00  \n",
       "2     621156389.00                142433331.00 451156389.00  \n",
       "3     364545516.00                161796233.00 334545516.00  \n",
       "4     835524642.00                132576195.00 675524642.00  "
      ]
     },
     "execution_count": 10,
     "metadata": {},
     "output_type": "execute_result"
    }
   ],
   "source": [
    "tmdb_mglb_df.head()"
   ]
  },
  {
   "cell_type": "code",
   "execution_count": 11,
   "metadata": {
    "ExecuteTime": {
     "end_time": "2020-06-20T21:21:18.750609Z",
     "start_time": "2020-06-20T21:21:18.712710Z"
    }
   },
   "outputs": [
    {
     "data": {
      "text/html": [
       "<div>\n",
       "<style scoped>\n",
       "    .dataframe tbody tr th:only-of-type {\n",
       "        vertical-align: middle;\n",
       "    }\n",
       "\n",
       "    .dataframe tbody tr th {\n",
       "        vertical-align: top;\n",
       "    }\n",
       "\n",
       "    .dataframe thead th {\n",
       "        text-align: right;\n",
       "    }\n",
       "</style>\n",
       "<table border=\"1\" class=\"dataframe\">\n",
       "  <thead>\n",
       "    <tr style=\"text-align: right;\">\n",
       "      <th></th>\n",
       "      <th>id</th>\n",
       "      <th>original_title</th>\n",
       "      <th>popularity</th>\n",
       "      <th>release_date_x</th>\n",
       "      <th>vote_average</th>\n",
       "      <th>vote_count</th>\n",
       "      <th>Fantasy</th>\n",
       "      <th>Drama</th>\n",
       "      <th>War</th>\n",
       "      <th>Mystery</th>\n",
       "      <th>Comedy</th>\n",
       "      <th>Romance</th>\n",
       "      <th>Family</th>\n",
       "      <th>Music</th>\n",
       "      <th>Documentary</th>\n",
       "      <th>Animation</th>\n",
       "      <th>Western</th>\n",
       "      <th>Action</th>\n",
       "      <th>Crime</th>\n",
       "      <th>Thriller</th>\n",
       "      <th>TV Movie</th>\n",
       "      <th>Adventure</th>\n",
       "      <th>History</th>\n",
       "      <th>Science Fiction</th>\n",
       "      <th>Horror</th>\n",
       "      <th>original_language</th>\n",
       "      <th>release_date_y</th>\n",
       "      <th>production_budget</th>\n",
       "      <th>domestic_gross</th>\n",
       "      <th>worldwide_gross</th>\n",
       "      <th>domesticgross_v_production</th>\n",
       "      <th>total_net</th>\n",
       "    </tr>\n",
       "  </thead>\n",
       "  <tbody>\n",
       "    <tr>\n",
       "      <td>23887</td>\n",
       "      <td>299536</td>\n",
       "      <td>Avengers: Infinity War</td>\n",
       "      <td>80.77</td>\n",
       "      <td>2018-04-27</td>\n",
       "      <td>8.30</td>\n",
       "      <td>13948</td>\n",
       "      <td>1.00</td>\n",
       "      <td>0.00</td>\n",
       "      <td>0.00</td>\n",
       "      <td>0.00</td>\n",
       "      <td>0.00</td>\n",
       "      <td>0.00</td>\n",
       "      <td>0.00</td>\n",
       "      <td>0.00</td>\n",
       "      <td>0.00</td>\n",
       "      <td>0.00</td>\n",
       "      <td>0.00</td>\n",
       "      <td>1.00</td>\n",
       "      <td>0.00</td>\n",
       "      <td>0.00</td>\n",
       "      <td>0.00</td>\n",
       "      <td>1.00</td>\n",
       "      <td>0.00</td>\n",
       "      <td>0.00</td>\n",
       "      <td>0.00</td>\n",
       "      <td>English</td>\n",
       "      <td>Apr 27, 2018</td>\n",
       "      <td>300000000.00</td>\n",
       "      <td>678815482.00</td>\n",
       "      <td>2048134200.00</td>\n",
       "      <td>378815482.00</td>\n",
       "      <td>1748134200.00</td>\n",
       "    </tr>\n",
       "    <tr>\n",
       "      <td>11050</td>\n",
       "      <td>245891</td>\n",
       "      <td>John Wick</td>\n",
       "      <td>78.12</td>\n",
       "      <td>2014-10-24</td>\n",
       "      <td>7.20</td>\n",
       "      <td>10081</td>\n",
       "      <td>0.00</td>\n",
       "      <td>0.00</td>\n",
       "      <td>0.00</td>\n",
       "      <td>0.00</td>\n",
       "      <td>0.00</td>\n",
       "      <td>0.00</td>\n",
       "      <td>0.00</td>\n",
       "      <td>0.00</td>\n",
       "      <td>0.00</td>\n",
       "      <td>0.00</td>\n",
       "      <td>0.00</td>\n",
       "      <td>1.00</td>\n",
       "      <td>0.00</td>\n",
       "      <td>1.00</td>\n",
       "      <td>0.00</td>\n",
       "      <td>0.00</td>\n",
       "      <td>0.00</td>\n",
       "      <td>0.00</td>\n",
       "      <td>0.00</td>\n",
       "      <td>English</td>\n",
       "      <td>Oct 24, 2014</td>\n",
       "      <td>30000000.00</td>\n",
       "      <td>43037835.00</td>\n",
       "      <td>76235001.00</td>\n",
       "      <td>13037835.00</td>\n",
       "      <td>46235001.00</td>\n",
       "    </tr>\n",
       "    <tr>\n",
       "      <td>23888</td>\n",
       "      <td>324857</td>\n",
       "      <td>Spider-Man: Into the Spider-Verse</td>\n",
       "      <td>60.53</td>\n",
       "      <td>2018-12-14</td>\n",
       "      <td>8.40</td>\n",
       "      <td>4048</td>\n",
       "      <td>0.00</td>\n",
       "      <td>0.00</td>\n",
       "      <td>0.00</td>\n",
       "      <td>0.00</td>\n",
       "      <td>1.00</td>\n",
       "      <td>0.00</td>\n",
       "      <td>0.00</td>\n",
       "      <td>0.00</td>\n",
       "      <td>0.00</td>\n",
       "      <td>1.00</td>\n",
       "      <td>0.00</td>\n",
       "      <td>1.00</td>\n",
       "      <td>0.00</td>\n",
       "      <td>0.00</td>\n",
       "      <td>0.00</td>\n",
       "      <td>1.00</td>\n",
       "      <td>0.00</td>\n",
       "      <td>1.00</td>\n",
       "      <td>0.00</td>\n",
       "      <td>English</td>\n",
       "      <td>NaN</td>\n",
       "      <td>nan</td>\n",
       "      <td>nan</td>\n",
       "      <td>nan</td>\n",
       "      <td>nan</td>\n",
       "      <td>nan</td>\n",
       "    </tr>\n",
       "    <tr>\n",
       "      <td>11051</td>\n",
       "      <td>122917</td>\n",
       "      <td>The Hobbit: The Battle of the Five Armies</td>\n",
       "      <td>53.78</td>\n",
       "      <td>2014-12-17</td>\n",
       "      <td>7.30</td>\n",
       "      <td>8392</td>\n",
       "      <td>1.00</td>\n",
       "      <td>0.00</td>\n",
       "      <td>0.00</td>\n",
       "      <td>0.00</td>\n",
       "      <td>0.00</td>\n",
       "      <td>0.00</td>\n",
       "      <td>0.00</td>\n",
       "      <td>0.00</td>\n",
       "      <td>0.00</td>\n",
       "      <td>0.00</td>\n",
       "      <td>0.00</td>\n",
       "      <td>1.00</td>\n",
       "      <td>0.00</td>\n",
       "      <td>0.00</td>\n",
       "      <td>0.00</td>\n",
       "      <td>1.00</td>\n",
       "      <td>0.00</td>\n",
       "      <td>0.00</td>\n",
       "      <td>0.00</td>\n",
       "      <td>English</td>\n",
       "      <td>Dec 17, 2014</td>\n",
       "      <td>250000000.00</td>\n",
       "      <td>255119788.00</td>\n",
       "      <td>945577621.00</td>\n",
       "      <td>5119788.00</td>\n",
       "      <td>695577621.00</td>\n",
       "    </tr>\n",
       "    <tr>\n",
       "      <td>5196</td>\n",
       "      <td>24428</td>\n",
       "      <td>The Avengers</td>\n",
       "      <td>50.29</td>\n",
       "      <td>2012-05-04</td>\n",
       "      <td>7.60</td>\n",
       "      <td>19673</td>\n",
       "      <td>0.00</td>\n",
       "      <td>0.00</td>\n",
       "      <td>0.00</td>\n",
       "      <td>0.00</td>\n",
       "      <td>0.00</td>\n",
       "      <td>0.00</td>\n",
       "      <td>0.00</td>\n",
       "      <td>0.00</td>\n",
       "      <td>0.00</td>\n",
       "      <td>0.00</td>\n",
       "      <td>0.00</td>\n",
       "      <td>1.00</td>\n",
       "      <td>0.00</td>\n",
       "      <td>0.00</td>\n",
       "      <td>0.00</td>\n",
       "      <td>1.00</td>\n",
       "      <td>0.00</td>\n",
       "      <td>1.00</td>\n",
       "      <td>0.00</td>\n",
       "      <td>English</td>\n",
       "      <td>May 4, 2012</td>\n",
       "      <td>225000000.00</td>\n",
       "      <td>623279547.00</td>\n",
       "      <td>1517935897.00</td>\n",
       "      <td>398279547.00</td>\n",
       "      <td>1292935897.00</td>\n",
       "    </tr>\n",
       "  </tbody>\n",
       "</table>\n",
       "</div>"
      ],
      "text/plain": [
       "           id                             original_title  popularity  \\\n",
       "23887  299536                     Avengers: Infinity War       80.77   \n",
       "11050  245891                                  John Wick       78.12   \n",
       "23888  324857          Spider-Man: Into the Spider-Verse       60.53   \n",
       "11051  122917  The Hobbit: The Battle of the Five Armies       53.78   \n",
       "5196    24428                               The Avengers       50.29   \n",
       "\n",
       "      release_date_x  vote_average  vote_count  Fantasy  Drama  War  Mystery  \\\n",
       "23887     2018-04-27          8.30       13948     1.00   0.00 0.00     0.00   \n",
       "11050     2014-10-24          7.20       10081     0.00   0.00 0.00     0.00   \n",
       "23888     2018-12-14          8.40        4048     0.00   0.00 0.00     0.00   \n",
       "11051     2014-12-17          7.30        8392     1.00   0.00 0.00     0.00   \n",
       "5196      2012-05-04          7.60       19673     0.00   0.00 0.00     0.00   \n",
       "\n",
       "       Comedy  Romance  Family  Music  Documentary  Animation  Western  \\\n",
       "23887    0.00     0.00    0.00   0.00         0.00       0.00     0.00   \n",
       "11050    0.00     0.00    0.00   0.00         0.00       0.00     0.00   \n",
       "23888    1.00     0.00    0.00   0.00         0.00       1.00     0.00   \n",
       "11051    0.00     0.00    0.00   0.00         0.00       0.00     0.00   \n",
       "5196     0.00     0.00    0.00   0.00         0.00       0.00     0.00   \n",
       "\n",
       "       Action  Crime  Thriller  TV Movie  Adventure  History  Science Fiction  \\\n",
       "23887    1.00   0.00      0.00      0.00       1.00     0.00             0.00   \n",
       "11050    1.00   0.00      1.00      0.00       0.00     0.00             0.00   \n",
       "23888    1.00   0.00      0.00      0.00       1.00     0.00             1.00   \n",
       "11051    1.00   0.00      0.00      0.00       1.00     0.00             0.00   \n",
       "5196     1.00   0.00      0.00      0.00       1.00     0.00             1.00   \n",
       "\n",
       "       Horror original_language release_date_y  production_budget  \\\n",
       "23887    0.00           English   Apr 27, 2018       300000000.00   \n",
       "11050    0.00           English   Oct 24, 2014        30000000.00   \n",
       "23888    0.00           English            NaN                nan   \n",
       "11051    0.00           English   Dec 17, 2014       250000000.00   \n",
       "5196     0.00           English    May 4, 2012       225000000.00   \n",
       "\n",
       "       domestic_gross  worldwide_gross  domesticgross_v_production  \\\n",
       "23887    678815482.00    2048134200.00                378815482.00   \n",
       "11050     43037835.00      76235001.00                 13037835.00   \n",
       "23888             nan              nan                         nan   \n",
       "11051    255119788.00     945577621.00                  5119788.00   \n",
       "5196     623279547.00    1517935897.00                398279547.00   \n",
       "\n",
       "          total_net  \n",
       "23887 1748134200.00  \n",
       "11050   46235001.00  \n",
       "23888           nan  \n",
       "11051  695577621.00  \n",
       "5196  1292935897.00  "
      ]
     },
     "execution_count": 11,
     "metadata": {},
     "output_type": "execute_result"
    }
   ],
   "source": [
    "#sort by popularity\n",
    "\n",
    "popularity = tmdb_mglb_df.sort_values(by=['popularity'], ascending=False)\n",
    "\n",
    "popularity.head()"
   ]
  },
  {
   "cell_type": "code",
   "execution_count": 12,
   "metadata": {
    "ExecuteTime": {
     "end_time": "2020-06-20T21:21:21.920015Z",
     "start_time": "2020-06-20T21:21:21.891058Z"
    }
   },
   "outputs": [],
   "source": [
    "#remove rows with empty values\n",
    "\n",
    "popularity = popularity.dropna() "
   ]
  },
  {
   "cell_type": "code",
   "execution_count": 13,
   "metadata": {
    "ExecuteTime": {
     "end_time": "2020-06-20T21:21:24.171447Z",
     "start_time": "2020-06-20T21:21:24.155445Z"
    }
   },
   "outputs": [],
   "source": [
    "#set new dataframe of top 25 most popular movies\n",
    "\n",
    "popularity25 = popularity[:25]"
   ]
  },
  {
   "cell_type": "code",
   "execution_count": 15,
   "metadata": {
    "ExecuteTime": {
     "end_time": "2020-06-20T21:21:30.536355Z",
     "start_time": "2020-06-20T21:21:30.517405Z"
    }
   },
   "outputs": [
    {
     "data": {
      "text/plain": [
       "<bound method DataFrame.info of            id                               original_title  popularity  \\\n",
       "23887  299536                       Avengers: Infinity War       80.77   \n",
       "11050  245891                                    John Wick       78.12   \n",
       "11051  122917    The Hobbit: The Battle of the Five Armies       53.78   \n",
       "5196    24428                                 The Avengers       50.29   \n",
       "5197    24428                                 The Avengers       50.29   \n",
       "11052  118340                      Guardians of the Galaxy       49.61   \n",
       "20683  335984                            Blade Runner 2049       48.57   \n",
       "23889  335984                            Blade Runner 2049       48.57   \n",
       "23890  338952  Fantastic Beasts: The Crimes of Grindelwald       48.51   \n",
       "20684  315635                       Spider-Man: Homecoming       46.77   \n",
       "20686  263115                                        Logan       45.00   \n",
       "23892  363088                         Ant-Man and the Wasp       44.73   \n",
       "14211   99861                      Avengers: Age of Ultron       44.38   \n",
       "23893  284054                                Black Panther       44.14   \n",
       "23894  335983                                        Venom       44.01   \n",
       "23895  335983                                        Venom       44.01   \n",
       "20687  284053                               Thor: Ragnarok       43.45   \n",
       "23896  284053                               Thor: Ragnarok       43.45   \n",
       "23897  424783                                    Bumblebee       43.08   \n",
       "11053  127585                   X-Men: Days of Future Past       41.87   \n",
       "23898  428078                               Mortal Engines       40.09   \n",
       "23899  375588                                   Robin Hood       39.98   \n",
       "23900  375588                                   Robin Hood       39.98   \n",
       "17435  246655                            X-Men: Apocalypse       39.29   \n",
       "17436  271110                   Captain America: Civil War       39.14   \n",
       "\n",
       "      release_date_x  vote_average  vote_count  Fantasy  Drama  War  Mystery  \\\n",
       "23887     2018-04-27          8.30       13948     1.00   0.00 0.00     0.00   \n",
       "11050     2014-10-24          7.20       10081     0.00   0.00 0.00     0.00   \n",
       "11051     2014-12-17          7.30        8392     1.00   0.00 0.00     0.00   \n",
       "5196      2012-05-04          7.60       19673     0.00   0.00 0.00     0.00   \n",
       "5197      2012-05-04          7.60       19673     0.00   0.00 0.00     0.00   \n",
       "11052     2014-08-01          7.90       17958     0.00   0.00 0.00     0.00   \n",
       "20683     2017-10-06          7.40        6679     0.00   0.00 0.00     0.00   \n",
       "23889     2017-10-06          7.40        6679     0.00   0.00 0.00     0.00   \n",
       "23890     2018-11-16          6.90        4870     0.00   0.00 0.00     0.00   \n",
       "20684     2017-07-07          7.40       11585     0.00   1.00 0.00     0.00   \n",
       "20686     2017-03-03          7.80       12330     0.00   1.00 0.00     0.00   \n",
       "23892     2018-07-06          7.00        6290     0.00   0.00 0.00     0.00   \n",
       "14211     2015-05-01          7.30       13457     0.00   0.00 0.00     0.00   \n",
       "23893     2018-02-16          7.40       12365     1.00   0.00 0.00     0.00   \n",
       "23894     2018-10-05          6.60        6206     0.00   0.00 0.00     0.00   \n",
       "23895     2018-10-05          6.60        6206     0.00   0.00 0.00     0.00   \n",
       "20687     2017-11-03          7.50       11380     1.00   0.00 0.00     0.00   \n",
       "23896     2017-11-03          7.50       11380     1.00   0.00 0.00     0.00   \n",
       "23897     2018-12-21          6.50        2425     0.00   0.00 0.00     0.00   \n",
       "11053     2014-05-23          7.50       10062     1.00   0.00 0.00     0.00   \n",
       "23898     2018-12-14          6.00        1751     1.00   0.00 0.00     0.00   \n",
       "23899     2018-11-21          5.80        1194     0.00   0.00 0.00     0.00   \n",
       "23900     2018-11-21          5.80        1194     0.00   0.00 0.00     0.00   \n",
       "17435     2016-05-27          6.50        8348     1.00   0.00 0.00     0.00   \n",
       "17436     2016-05-06          7.40       14000     0.00   0.00 0.00     0.00   \n",
       "\n",
       "       Comedy  Romance  Family  Music  Documentary  Animation  Western  \\\n",
       "23887    0.00     0.00    0.00   0.00         0.00       0.00     0.00   \n",
       "11050    0.00     0.00    0.00   0.00         0.00       0.00     0.00   \n",
       "11051    0.00     0.00    0.00   0.00         0.00       0.00     0.00   \n",
       "5196     0.00     0.00    0.00   0.00         0.00       0.00     0.00   \n",
       "5197     0.00     0.00    0.00   0.00         0.00       0.00     0.00   \n",
       "11052    0.00     0.00    0.00   0.00         0.00       0.00     0.00   \n",
       "20683    0.00     0.00    0.00   0.00         0.00       0.00     0.00   \n",
       "23889    0.00     0.00    0.00   0.00         0.00       0.00     0.00   \n",
       "23890    0.00     0.00    0.00   0.00         0.00       0.00     0.00   \n",
       "20684    0.00     0.00    0.00   0.00         0.00       0.00     0.00   \n",
       "20686    0.00     0.00    0.00   0.00         0.00       0.00     0.00   \n",
       "23892    1.00     0.00    0.00   0.00         0.00       0.00     0.00   \n",
       "14211    0.00     0.00    0.00   0.00         0.00       0.00     0.00   \n",
       "23893    0.00     0.00    0.00   0.00         0.00       0.00     0.00   \n",
       "23894    0.00     0.00    0.00   0.00         0.00       0.00     0.00   \n",
       "23895    0.00     0.00    0.00   0.00         0.00       0.00     0.00   \n",
       "20687    1.00     0.00    0.00   0.00         0.00       0.00     0.00   \n",
       "23896    1.00     0.00    0.00   0.00         0.00       0.00     0.00   \n",
       "23897    0.00     0.00    0.00   0.00         0.00       0.00     0.00   \n",
       "11053    0.00     0.00    0.00   0.00         0.00       0.00     0.00   \n",
       "23898    0.00     0.00    0.00   0.00         0.00       0.00     0.00   \n",
       "23899    0.00     0.00    0.00   0.00         0.00       0.00     0.00   \n",
       "23900    0.00     0.00    0.00   0.00         0.00       0.00     0.00   \n",
       "17435    0.00     0.00    0.00   0.00         0.00       0.00     0.00   \n",
       "17436    0.00     0.00    0.00   0.00         0.00       0.00     0.00   \n",
       "\n",
       "       Action  Crime  Thriller  TV Movie  Adventure  History  Science Fiction  \\\n",
       "23887    1.00   0.00      0.00      0.00       1.00     0.00             0.00   \n",
       "11050    1.00   0.00      1.00      0.00       0.00     0.00             0.00   \n",
       "11051    1.00   0.00      0.00      0.00       1.00     0.00             0.00   \n",
       "5196     1.00   0.00      0.00      0.00       1.00     0.00             1.00   \n",
       "5197     1.00   0.00      0.00      0.00       1.00     0.00             1.00   \n",
       "11052    1.00   0.00      0.00      0.00       1.00     0.00             1.00   \n",
       "20683    1.00   0.00      1.00      0.00       0.00     0.00             1.00   \n",
       "23889    1.00   0.00      1.00      0.00       0.00     0.00             1.00   \n",
       "23890    0.00   0.00      0.00      0.00       1.00     0.00             0.00   \n",
       "20684    1.00   0.00      0.00      0.00       1.00     0.00             1.00   \n",
       "20686    1.00   0.00      0.00      0.00       0.00     0.00             1.00   \n",
       "23892    1.00   0.00      0.00      0.00       1.00     0.00             1.00   \n",
       "14211    1.00   0.00      0.00      0.00       1.00     0.00             1.00   \n",
       "23893    1.00   0.00      0.00      0.00       1.00     0.00             1.00   \n",
       "23894    1.00   0.00      0.00      0.00       0.00     0.00             1.00   \n",
       "23895    1.00   0.00      0.00      0.00       0.00     0.00             1.00   \n",
       "20687    1.00   0.00      0.00      0.00       1.00     0.00             0.00   \n",
       "23896    1.00   0.00      0.00      0.00       1.00     0.00             0.00   \n",
       "23897    1.00   0.00      0.00      0.00       1.00     0.00             1.00   \n",
       "11053    1.00   0.00      0.00      0.00       1.00     0.00             1.00   \n",
       "23898    0.00   0.00      0.00      0.00       1.00     0.00             0.00   \n",
       "23899    1.00   0.00      1.00      0.00       1.00     0.00             0.00   \n",
       "23900    1.00   0.00      1.00      0.00       1.00     0.00             0.00   \n",
       "17435    1.00   0.00      0.00      0.00       1.00     0.00             1.00   \n",
       "17436    1.00   0.00      0.00      0.00       1.00     0.00             1.00   \n",
       "\n",
       "       Horror original_language release_date_y  production_budget  \\\n",
       "23887    0.00           English   Apr 27, 2018       300000000.00   \n",
       "11050    0.00           English   Oct 24, 2014        30000000.00   \n",
       "11051    0.00           English   Dec 17, 2014       250000000.00   \n",
       "5196     0.00           English    May 4, 2012       225000000.00   \n",
       "5197     0.00           English   Aug 14, 1998        60000000.00   \n",
       "11052    0.00           English    Aug 1, 2014       170000000.00   \n",
       "20683    0.00           English    Oct 6, 2017       185000000.00   \n",
       "23889    0.00           English    Oct 6, 2017       185000000.00   \n",
       "23890    0.00           English   Nov 16, 2018       200000000.00   \n",
       "20684    0.00           English    Jul 7, 2017       175000000.00   \n",
       "20686    0.00           English    Mar 3, 2017       127000000.00   \n",
       "23892    0.00           English    Jul 6, 2018       130000000.00   \n",
       "14211    0.00           English    May 1, 2015       330600000.00   \n",
       "23893    0.00           English   Feb 16, 2018       200000000.00   \n",
       "23894    0.00           English    Oct 5, 2018       116000000.00   \n",
       "23895    0.00           English   Sep 16, 2005        25000000.00   \n",
       "20687    0.00           English    Nov 3, 2017       180000000.00   \n",
       "23896    0.00           English    Nov 3, 2017       180000000.00   \n",
       "23897    0.00           English   Dec 21, 2018       102000000.00   \n",
       "11053    0.00           English   May 23, 2014       200000000.00   \n",
       "23898    0.00           English   Dec 14, 2018       100000000.00   \n",
       "23899    0.00           English   May 14, 2010       210000000.00   \n",
       "23900    0.00           English   Nov 21, 2018        99000000.00   \n",
       "17435    0.00           English   May 27, 2016       178000000.00   \n",
       "17436    0.00           English    May 6, 2016       250000000.00   \n",
       "\n",
       "       domestic_gross  worldwide_gross  domesticgross_v_production  \\\n",
       "23887    678815482.00    2048134200.00                378815482.00   \n",
       "11050     43037835.00      76235001.00                 13037835.00   \n",
       "11051    255119788.00     945577621.00                  5119788.00   \n",
       "5196     623279547.00    1517935897.00                398279547.00   \n",
       "5197      23385416.00      48585416.00                -36614584.00   \n",
       "11052    333172112.00     770867516.00                163172112.00   \n",
       "20683     92054159.00     259357408.00                -92945841.00   \n",
       "23889     92054159.00     259357408.00                -92945841.00   \n",
       "23890    159555901.00     652220086.00                -40444099.00   \n",
       "20684    334201140.00     880166350.00                159201140.00   \n",
       "20686    226277068.00     615461394.00                 99277068.00   \n",
       "23892    216648740.00     623144660.00                 86648740.00   \n",
       "14211    459005868.00    1403013963.00                128405868.00   \n",
       "23893    700059566.00    1348258224.00                500059566.00   \n",
       "23894    213511408.00     853628605.00                 97511408.00   \n",
       "23895       881745.00        881745.00                -24118255.00   \n",
       "20687    315058289.00     846980024.00                135058289.00   \n",
       "23896    315058289.00     846980024.00                135058289.00   \n",
       "23897    127195589.00     465195589.00                 25195589.00   \n",
       "11053    233921534.00     747862775.00                 33921534.00   \n",
       "23898     15951040.00      85287417.00                -84048960.00   \n",
       "23899    105487148.00     322459006.00               -104512852.00   \n",
       "23900     30824628.00      84747441.00                -68175372.00   \n",
       "17435    155442489.00     542537546.00                -22557511.00   \n",
       "17436    408084349.00    1140069413.00                158084349.00   \n",
       "\n",
       "          total_net  \n",
       "23887 1748134200.00  \n",
       "11050   46235001.00  \n",
       "11051  695577621.00  \n",
       "5196  1292935897.00  \n",
       "5197   -11414584.00  \n",
       "11052  600867516.00  \n",
       "20683   74357408.00  \n",
       "23889   74357408.00  \n",
       "23890  452220086.00  \n",
       "20684  705166350.00  \n",
       "20686  488461394.00  \n",
       "23892  493144660.00  \n",
       "14211 1072413963.00  \n",
       "23893 1148258224.00  \n",
       "23894  737628605.00  \n",
       "23895  -24118255.00  \n",
       "20687  666980024.00  \n",
       "23896  666980024.00  \n",
       "23897  363195589.00  \n",
       "11053  547862775.00  \n",
       "23898  -14712583.00  \n",
       "23899  112459006.00  \n",
       "23900  -14252559.00  \n",
       "17435  364537546.00  \n",
       "17436  890069413.00  >"
      ]
     },
     "execution_count": 15,
     "metadata": {},
     "output_type": "execute_result"
    }
   ],
   "source": [
    "popularity25.info"
   ]
  },
  {
   "cell_type": "markdown",
   "metadata": {},
   "source": [
    "Plotting Popularity"
   ]
  },
  {
   "cell_type": "code",
   "execution_count": 20,
   "metadata": {
    "ExecuteTime": {
     "end_time": "2020-06-20T21:24:39.958666Z",
     "start_time": "2020-06-20T21:24:39.951679Z"
    }
   },
   "outputs": [],
   "source": [
    "#setting plot variables \n",
    "mov = popularity25.loc[:, 'original_title']\n",
    "pop = popularity25.loc[:, 'popularity']\n",
    "gross = popularity25.loc[:, 'worldwide_gross']\n",
    "net = popularity25.loc[:, 'total_net']"
   ]
  },
  {
   "cell_type": "code",
   "execution_count": 40,
   "metadata": {
    "ExecuteTime": {
     "end_time": "2020-06-20T21:36:08.184740Z",
     "start_time": "2020-06-20T21:36:07.982261Z"
    }
   },
   "outputs": [
    {
     "data": {
      "image/png": "[encoded data removed]",
      "text/plain": [
       "<Figure size 432x288 with 1 Axes>"
      ]
     },
     "metadata": {
      "needs_background": "light"
     },
     "output_type": "display_data"
    }
   ],
   "source": [
    "#plot movie vs. popularity rating\n",
    "\n",
    "%matplotlib inline\n",
    "plt.barh(movx, pop)\n",
    "plt.show()"
   ]
  },
  {
   "cell_type": "code",
   "execution_count": 59,
   "metadata": {
    "ExecuteTime": {
     "end_time": "2020-06-20T21:56:22.476143Z",
     "start_time": "2020-06-20T21:56:22.462145Z"
    }
   },
   "outputs": [
    {
     "data": {
      "text/plain": [
       "44.383"
      ]
     },
     "execution_count": 59,
     "metadata": {},
     "output_type": "execute_result"
    }
   ],
   "source": [
    "#calculate median of top 25 popularity score\n",
    "\n",
    "popularity25.loc[:, 'popularity'].median()"
   ]
  },
  {
   "cell_type": "code",
   "execution_count": 57,
   "metadata": {
    "ExecuteTime": {
     "end_time": "2020-06-20T21:50:24.622902Z",
     "start_time": "2020-06-20T21:50:24.471334Z"
    }
   },
   "outputs": [
    {
     "data": {
      "image/png": "[encoded data removed]",
      "text/plain": [
       "<Figure size 432x288 with 1 Axes>"
      ]
     },
     "metadata": {
      "needs_background": "light"
     },
     "output_type": "display_data"
    }
   ],
   "source": [
    "#popularity vs. gross\n",
    "\n",
    "plt.bar(pop, gross)\n",
    "plt.show()"
   ]
  },
  {
   "cell_type": "code",
   "execution_count": 60,
   "metadata": {
    "ExecuteTime": {
     "end_time": "2020-06-20T21:57:04.028853Z",
     "start_time": "2020-06-20T21:57:04.020855Z"
    }
   },
   "outputs": [
    {
     "data": {
      "text/plain": [
       "652220086.0"
      ]
     },
     "execution_count": 60,
     "metadata": {},
     "output_type": "execute_result"
    }
   ],
   "source": [
    "#calculate median of gross\n",
    "\n",
    "popularity25.loc[:, 'worldwide_gross'].median()"
   ]
  },
  {
   "cell_type": "code",
   "execution_count": 58,
   "metadata": {
    "ExecuteTime": {
     "end_time": "2020-06-20T21:51:07.035146Z",
     "start_time": "2020-06-20T21:51:06.877366Z"
    }
   },
   "outputs": [
    {
     "data": {
      "image/png": "[encoded data removed]",
      "text/plain": [
       "<Figure size 432x288 with 1 Axes>"
      ]
     },
     "metadata": {
      "needs_background": "light"
     },
     "output_type": "display_data"
    }
   ],
   "source": [
    "#popularity vs. net\n",
    "\n",
    "plt.bar(pop, net)\n",
    "plt.show()"
   ]
  },
  {
   "cell_type": "code",
   "execution_count": 61,
   "metadata": {
    "ExecuteTime": {
     "end_time": "2020-06-20T21:57:24.969016Z",
     "start_time": "2020-06-20T21:57:24.949071Z"
    }
   },
   "outputs": [
    {
     "data": {
      "text/plain": [
       "493144660.0"
      ]
     },
     "execution_count": 61,
     "metadata": {},
     "output_type": "execute_result"
    }
   ],
   "source": [
    "popularity25.loc[:, 'total_net'].median()"
   ]
  },
  {
   "cell_type": "markdown",
   "metadata": {},
   "source": [
    "**Finding**: Of the Top 25 movies with the highest popularity rating, an average rating of 44.383 correlated to a gross revenue of $652,220,086 and net profits of $493,144,660, respectively.\n",
    "    "
   ]
  },
  {
   "cell_type": "markdown",
   "metadata": {},
   "source": [
    "## Data Visualizations "
   ]
  },
  {
   "cell_type": "markdown",
   "metadata": {},
   "source": [
    "line graph of what gross profit looks like considering popularity. (popularity is the Y axis and dollars is the X axis)"
   ]
  },
  {
   "cell_type": "code",
   "execution_count": null,
   "metadata": {
    "ExecuteTime": {
     "end_time": "2020-06-20T20:26:01.825917Z",
     "start_time": "2020-06-20T20:25:55.897Z"
    }
   },
   "outputs": [],
   "source": []
  },
  {
   "cell_type": "code",
   "execution_count": null,
   "metadata": {},
   "outputs": [],
   "source": []
  }
 ],
 "metadata": {
  "kernelspec": {
   "display_name": "Python [conda env:learn-env] *",
   "language": "python",
   "name": "conda-env-learn-env-py"
  },
  "language_info": {
   "codemirror_mode": {
    "name": "ipython",
    "version": 3
   },
   "file_extension": ".py",
   "mimetype": "text/x-python",
   "name": "python",
   "nbconvert_exporter": "python",
   "pygments_lexer": "ipython3",
   "version": "3.6.9"
  },
  "toc": {
   "base_numbering": 1,
   "nav_menu": {},
   "number_sections": true,
   "sideBar": true,
   "skip_h1_title": false,
   "title_cell": "Table of Contents",
   "title_sidebar": "Contents",
   "toc_cell": false,
   "toc_position": {
    "height": "calc(100% - 180px)",
    "left": "10px",
    "top": "150px",
    "width": "342px"
   },
   "toc_section_display": true,
   "toc_window_display": true
  },
  "varInspector": {
   "cols": {
    "lenName": 16,
    "lenType": 16,
    "lenVar": 40
   },
   "kernels_config": {
    "python": {
     "delete_cmd_postfix": "",
     "delete_cmd_prefix": "del ",
     "library": "var_list.py",
     "varRefreshCmd": "print(var_dic_list())"
    },
    "r": {
     "delete_cmd_postfix": ") ",
     "delete_cmd_prefix": "rm(",
     "library": "var_list.r",
     "varRefreshCmd": "cat(var_dic_list()) "
    }
   },
   "position": {
    "height": "416px",
    "left": "1070px",
    "right": "20px",
    "top": "118px",
    "width": "350px"
   },
   "types_to_exclude": [
    "module",
    "function",
    "builtin_function_or_method",
    "instance",
    "_Feature"
   ],
   "window_display": false
  }
 },
 "nbformat": 4,
 "nbformat_minor": 2
}
