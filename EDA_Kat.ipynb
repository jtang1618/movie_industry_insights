{
 "cells": [
  {
   "cell_type": "markdown",
   "metadata": {},
   "source": [
    "# Exploratory Data Analysis — Kat Hanner \n",
    "### — updated: 6:05pm EDT on June 16, 2020"
   ]
  },
  {
   "cell_type": "markdown",
   "metadata": {},
   "source": [
    "## Initial data discovery"
   ]
  },
  {
   "cell_type": "code",
   "execution_count": 1,
   "metadata": {
    "ExecuteTime": {
     "end_time": "2020-06-17T14:52:43.070647Z",
     "start_time": "2020-06-17T14:52:42.697840Z"
    }
   },
   "outputs": [],
   "source": [
    "import numpy as np\n",
    "import pandas as pd\n",
    "import matplotlib.pyplot as plt\n",
    "%matplotlib inline\n",
    "import os\n",
    "import sqlite3"
   ]
  },
  {
   "cell_type": "code",
   "execution_count": 2,
   "metadata": {
    "ExecuteTime": {
     "end_time": "2020-06-17T14:52:44.438854Z",
     "start_time": "2020-06-17T14:52:44.408620Z"
    },
    "scrolled": true
   },
   "outputs": [
    {
     "name": "stdout",
     "output_type": "stream",
     "text": [
      "BOM Movie Gross Shape:  (3387, 5)\n",
      "<class 'pandas.core.frame.DataFrame'>\n",
      "RangeIndex: 3387 entries, 0 to 3386\n",
      "Data columns (total 5 columns):\n",
      " #   Column          Non-Null Count  Dtype  \n",
      "---  ------          --------------  -----  \n",
      " 0   title           3387 non-null   object \n",
      " 1   studio          3382 non-null   object \n",
      " 2   domestic_gross  3359 non-null   float64\n",
      " 3   foreign_gross   2037 non-null   object \n",
      " 4   year            3387 non-null   int64  \n",
      "dtypes: float64(1), int64(1), object(3)\n",
      "memory usage: 132.4+ KB\n",
      "BOM Movie Gross Info:  None\n"
     ]
    },
    {
     "data": {
      "text/html": [
       "<div>\n",
       "<style scoped>\n",
       "    .dataframe tbody tr th:only-of-type {\n",
       "        vertical-align: middle;\n",
       "    }\n",
       "\n",
       "    .dataframe tbody tr th {\n",
       "        vertical-align: top;\n",
       "    }\n",
       "\n",
       "    .dataframe thead th {\n",
       "        text-align: right;\n",
       "    }\n",
       "</style>\n",
       "<table border=\"1\" class=\"dataframe\">\n",
       "  <thead>\n",
       "    <tr style=\"text-align: right;\">\n",
       "      <th></th>\n",
       "      <th>title</th>\n",
       "      <th>studio</th>\n",
       "      <th>domestic_gross</th>\n",
       "      <th>foreign_gross</th>\n",
       "      <th>year</th>\n",
       "    </tr>\n",
       "  </thead>\n",
       "  <tbody>\n",
       "    <tr>\n",
       "      <th>0</th>\n",
       "      <td>Toy Story 3</td>\n",
       "      <td>BV</td>\n",
       "      <td>415000000.0</td>\n",
       "      <td>652000000</td>\n",
       "      <td>2010</td>\n",
       "    </tr>\n",
       "    <tr>\n",
       "      <th>1</th>\n",
       "      <td>Alice in Wonderland (2010)</td>\n",
       "      <td>BV</td>\n",
       "      <td>334200000.0</td>\n",
       "      <td>691300000</td>\n",
       "      <td>2010</td>\n",
       "    </tr>\n",
       "    <tr>\n",
       "      <th>2</th>\n",
       "      <td>Harry Potter and the Deathly Hallows Part 1</td>\n",
       "      <td>WB</td>\n",
       "      <td>296000000.0</td>\n",
       "      <td>664300000</td>\n",
       "      <td>2010</td>\n",
       "    </tr>\n",
       "    <tr>\n",
       "      <th>3</th>\n",
       "      <td>Inception</td>\n",
       "      <td>WB</td>\n",
       "      <td>292600000.0</td>\n",
       "      <td>535700000</td>\n",
       "      <td>2010</td>\n",
       "    </tr>\n",
       "    <tr>\n",
       "      <th>4</th>\n",
       "      <td>Shrek Forever After</td>\n",
       "      <td>P/DW</td>\n",
       "      <td>238700000.0</td>\n",
       "      <td>513900000</td>\n",
       "      <td>2010</td>\n",
       "    </tr>\n",
       "  </tbody>\n",
       "</table>\n",
       "</div>"
      ],
      "text/plain": [
       "                                         title studio  domestic_gross  \\\n",
       "0                                  Toy Story 3     BV     415000000.0   \n",
       "1                   Alice in Wonderland (2010)     BV     334200000.0   \n",
       "2  Harry Potter and the Deathly Hallows Part 1     WB     296000000.0   \n",
       "3                                    Inception     WB     292600000.0   \n",
       "4                          Shrek Forever After   P/DW     238700000.0   \n",
       "\n",
       "  foreign_gross  year  \n",
       "0     652000000  2010  \n",
       "1     691300000  2010  \n",
       "2     664300000  2010  \n",
       "3     535700000  2010  \n",
       "4     513900000  2010  "
      ]
     },
     "execution_count": 2,
     "metadata": {},
     "output_type": "execute_result"
    }
   ],
   "source": [
    "df_bomGross = pd.read_csv('zippedData/bom.movie_gross.csv.gz')\n",
    "print('BOM Movie Gross Shape: ', df_bomGross.shape)\n",
    "print('BOM Movie Gross Info: ', df_bomGross.info())\n",
    "df_bomGross.head()"
   ]
  },
  {
   "cell_type": "code",
   "execution_count": 3,
   "metadata": {
    "ExecuteTime": {
     "end_time": "2020-06-17T14:52:48.493062Z",
     "start_time": "2020-06-17T14:52:48.307760Z"
    },
    "scrolled": true
   },
   "outputs": [
    {
     "name": "stdout",
     "output_type": "stream",
     "text": [
      "<class 'pandas.core.frame.DataFrame'>\n",
      "RangeIndex: 1560 entries, 0 to 1559\n",
      "Data columns (total 13 columns):\n",
      " #   Column        Non-Null Count  Dtype \n",
      "---  ------        --------------  ----- \n",
      " 0   Unnamed: 0    1560 non-null   int64 \n",
      " 1   id            1560 non-null   int64 \n",
      " 2   synopsis      1498 non-null   object\n",
      " 3   rating        1557 non-null   object\n",
      " 4   genre         1552 non-null   object\n",
      " 5   director      1361 non-null   object\n",
      " 6   writer        1111 non-null   object\n",
      " 7   theater_date  1201 non-null   object\n",
      " 8   dvd_date      1201 non-null   object\n",
      " 9   currency      340 non-null    object\n",
      " 10  box_office    340 non-null    object\n",
      " 11  runtime       1530 non-null   object\n",
      " 12  studio        494 non-null    object\n",
      "dtypes: int64(2), object(11)\n",
      "memory usage: 158.6+ KB\n"
     ]
    }
   ],
   "source": [
    "#convert tsv to csv\n",
    "\n",
    "tsv_file = './zippedData/rt.movie_info.tsv.gz'\n",
    "convert = pd.read_table(tsv_file, delimiter='\\t')\n",
    "convert.to_csv('./zippedData/rt.movie_info.csv.gz')\n",
    "newdf = pd.read_csv('./zippedData/rt.movie_info.csv.gz')\n",
    "newdf.info()\n",
    "\n",
    "#coding a loop: try later\n",
    "# for file in datafiles:\n",
    "    # d_tsv[file] = pd.read_csv(file, sep='\\t')"
   ]
  },
  {
   "cell_type": "code",
   "execution_count": 4,
   "metadata": {
    "ExecuteTime": {
     "end_time": "2020-06-17T14:52:53.057044Z",
     "start_time": "2020-06-17T14:52:51.845137Z"
    }
   },
   "outputs": [
    {
     "name": "stdout",
     "output_type": "stream",
     "text": [
      "<class 'pandas.core.frame.DataFrame'>\n",
      "RangeIndex: 54432 entries, 0 to 54431\n",
      "Data columns (total 9 columns):\n",
      " #   Column      Non-Null Count  Dtype \n",
      "---  ------      --------------  ----- \n",
      " 0   Unnamed: 0  54432 non-null  int64 \n",
      " 1   id          54432 non-null  int64 \n",
      " 2   review      48869 non-null  object\n",
      " 3   rating      40915 non-null  object\n",
      " 4   fresh       54432 non-null  object\n",
      " 5   critic      51710 non-null  object\n",
      " 6   top_critic  54432 non-null  int64 \n",
      " 7   publisher   54123 non-null  object\n",
      " 8   date        54432 non-null  object\n",
      "dtypes: int64(3), object(6)\n",
      "memory usage: 3.7+ MB\n"
     ]
    }
   ],
   "source": [
    "tsv_file_r = './zippedData/rt.reviews.tsv.gz'\n",
    "convert_r = pd.read_table(tsv_file_r, delimiter='\\t', encoding = 'unicode_escape')\n",
    "convert_r.to_csv('./zippedData/rt.reviews.csv.gz')\n",
    "newdf_r = pd.read_csv('./zippedData/rt.reviews.csv.gz')\n",
    "newdf_r.info()"
   ]
  },
  {
   "cell_type": "code",
   "execution_count": 5,
   "metadata": {
    "ExecuteTime": {
     "end_time": "2020-06-17T14:52:55.242801Z",
     "start_time": "2020-06-17T14:52:55.238012Z"
    }
   },
   "outputs": [
    {
     "data": {
      "text/plain": [
       "['./zippedData/rt.reviews.csv.gz',\n",
       " './zippedData/imdb.title.crew.csv.gz',\n",
       " './zippedData/rt.movie_info.csv.gz',\n",
       " './zippedData/tmdb.movies.csv.gz',\n",
       " './zippedData/imdb.title.akas.csv.gz',\n",
       " './zippedData/imdb.name.basics.csv.gz',\n",
       " './zippedData/imdb.title.basics.csv.gz',\n",
       " './zippedData/tn.movie_budgets.csv.gz',\n",
       " './zippedData/bom.movie_gross.csv.gz',\n",
       " './zippedData/imdb.title.principals.csv.gz']"
      ]
     },
     "execution_count": 5,
     "metadata": {},
     "output_type": "execute_result"
    }
   ],
   "source": [
    "from glob import glob #finds all pathnames\n",
    "datafiles = glob('./zippedData/*.csv.gz')\n",
    "datafiles"
   ]
  },
  {
   "cell_type": "code",
   "execution_count": 6,
   "metadata": {
    "ExecuteTime": {
     "end_time": "2020-06-17T14:53:07.501094Z",
     "start_time": "2020-06-17T14:53:07.497108Z"
    }
   },
   "outputs": [
    {
     "data": {
      "text/plain": [
       "['./zippedData/rt.reviews.tsv.gz', './zippedData/rt.movie_info.tsv.gz']"
      ]
     },
     "execution_count": 6,
     "metadata": {},
     "output_type": "execute_result"
    }
   ],
   "source": [
    "datafiles_tsv = glob('./zippedData/*.tsv.gz')\n",
    "datafiles_tsv"
   ]
  },
  {
   "cell_type": "code",
   "execution_count": 7,
   "metadata": {
    "ExecuteTime": {
     "end_time": "2020-06-17T14:53:10.374854Z",
     "start_time": "2020-06-17T14:53:10.372127Z"
    }
   },
   "outputs": [],
   "source": [
    "type(datafiles)\n",
    "d = {} #creates dictionary \n",
    "## d_tsv = {} #tried to create dictionary for tsv files; preference for just converting all files to the same file type"
   ]
  },
  {
   "cell_type": "code",
   "execution_count": 8,
   "metadata": {
    "ExecuteTime": {
     "end_time": "2020-06-17T14:53:15.516570Z",
     "start_time": "2020-06-17T14:53:11.819749Z"
    }
   },
   "outputs": [],
   "source": [
    "for file in datafiles:\n",
    "    d[file] = pd.read_csv(file)\n",
    "    ## d_tsv[file] = pd.read_table(file, delimiter='\\t') #tried to loop through tsv dictionary; fail"
   ]
  },
  {
   "cell_type": "code",
   "execution_count": 9,
   "metadata": {
    "ExecuteTime": {
     "end_time": "2020-06-17T14:53:15.682949Z",
     "start_time": "2020-06-17T14:53:15.679797Z"
    },
    "scrolled": true
   },
   "outputs": [
    {
     "data": {
      "text/plain": [
       "dict_keys(['./zippedData/rt.reviews.csv.gz', './zippedData/imdb.title.crew.csv.gz', './zippedData/rt.movie_info.csv.gz', './zippedData/tmdb.movies.csv.gz', './zippedData/imdb.title.akas.csv.gz', './zippedData/imdb.name.basics.csv.gz', './zippedData/imdb.title.basics.csv.gz', './zippedData/tn.movie_budgets.csv.gz', './zippedData/bom.movie_gross.csv.gz', './zippedData/imdb.title.principals.csv.gz'])"
      ]
     },
     "execution_count": 9,
     "metadata": {},
     "output_type": "execute_result"
    }
   ],
   "source": [
    "d.keys()\n",
    "## d_tsv.keys() #d_tsv dictionary failed"
   ]
  },
  {
   "cell_type": "code",
   "execution_count": 10,
   "metadata": {
    "ExecuteTime": {
     "end_time": "2020-06-17T14:53:18.665837Z",
     "start_time": "2020-06-17T14:53:18.661740Z"
    }
   },
   "outputs": [
    {
     "data": {
      "text/plain": [
       "list"
      ]
     },
     "execution_count": 10,
     "metadata": {},
     "output_type": "execute_result"
    }
   ],
   "source": [
    "type(datafiles)"
   ]
  },
  {
   "cell_type": "code",
   "execution_count": 11,
   "metadata": {
    "ExecuteTime": {
     "end_time": "2020-06-17T14:53:25.639338Z",
     "start_time": "2020-06-17T14:53:22.163423Z"
    }
   },
   "outputs": [],
   "source": [
    "datafiles_dict = {}\n",
    "for filename in datafiles:\n",
    "    filename_cleaned = os.path.basename(filename).replace(\".csv\", \"\").replace(\".gz\", \"\").replace(\".\", \"_\") # cleaning the filenames\n",
    "    filename_df = pd.read_csv(filename)\n",
    "    datafiles_dict[filename_cleaned] = filename_df"
   ]
  },
  {
   "cell_type": "code",
   "execution_count": 12,
   "metadata": {
    "ExecuteTime": {
     "end_time": "2020-06-17T14:53:27.111217Z",
     "start_time": "2020-06-17T14:53:27.107213Z"
    }
   },
   "outputs": [
    {
     "data": {
      "text/plain": [
       "dict_keys(['rt_reviews', 'imdb_title_crew', 'rt_movie_info', 'tmdb_movies', 'imdb_title_akas', 'imdb_name_basics', 'imdb_title_basics', 'tn_movie_budgets', 'bom_movie_gross', 'imdb_title_principals'])"
      ]
     },
     "execution_count": 12,
     "metadata": {},
     "output_type": "execute_result"
    }
   ],
   "source": [
    "datafiles_dict.keys()"
   ]
  },
  {
   "cell_type": "code",
   "execution_count": 13,
   "metadata": {
    "ExecuteTime": {
     "end_time": "2020-06-17T14:53:29.547281Z",
     "start_time": "2020-06-17T14:53:29.543562Z"
    },
    "scrolled": true
   },
   "outputs": [
    {
     "name": "stdout",
     "output_type": "stream",
     "text": [
      "Index(['tconst', 'directors', 'writers'], dtype='object')\n"
     ]
    }
   ],
   "source": [
    "print(datafiles_dict['imdb_title_crew'].keys())\n",
    "#datafiles_dict['imdb_title_crew'].info()"
   ]
  },
  {
   "cell_type": "code",
   "execution_count": 14,
   "metadata": {
    "ExecuteTime": {
     "end_time": "2020-06-17T14:53:33.202647Z",
     "start_time": "2020-06-17T14:53:33.199523Z"
    }
   },
   "outputs": [],
   "source": [
    "conn = sqlite3.connect(\"movies_db.sqlite\")"
   ]
  },
  {
   "cell_type": "code",
   "execution_count": 15,
   "metadata": {
    "ExecuteTime": {
     "end_time": "2020-06-17T14:53:34.689996Z",
     "start_time": "2020-06-17T14:53:34.686213Z"
    }
   },
   "outputs": [],
   "source": [
    "def create_sql_table_from_df(df, name, conn):\n",
    "    try:\n",
    "        df.to_sql(name, conn)\n",
    "        print(f\"Created table {name}\")\n",
    "    \n",
    "    except Exception as e:\n",
    "        print(f\"could not make table {name}\")\n",
    "        print(e)"
   ]
  },
  {
   "cell_type": "code",
   "execution_count": 16,
   "metadata": {
    "ExecuteTime": {
     "end_time": "2020-06-17T14:53:50.589908Z",
     "start_time": "2020-06-17T14:53:40.744447Z"
    }
   },
   "outputs": [
    {
     "name": "stderr",
     "output_type": "stream",
     "text": [
      "/Users/kathanner/anaconda3/lib/python3.7/site-packages/pandas/core/generic.py:2663: UserWarning: The spaces in these column names will not be changed. In pandas versions < 0.14, spaces were converted to underscores.\n",
      "  method=method,\n"
     ]
    },
    {
     "name": "stdout",
     "output_type": "stream",
     "text": [
      "Created table rt_reviews\n",
      "Created table imdb_title_crew\n",
      "Created table rt_movie_info\n",
      "Created table tmdb_movies\n",
      "Created table imdb_title_akas\n",
      "Created table imdb_name_basics\n",
      "Created table imdb_title_basics\n",
      "Created table tn_movie_budgets\n",
      "Created table bom_movie_gross\n",
      "Created table imdb_title_principals\n"
     ]
    }
   ],
   "source": [
    "for name, table in datafiles_dict.items():\n",
    "    create_sql_table_from_df(table, name, conn)"
   ]
  },
  {
   "cell_type": "code",
   "execution_count": 17,
   "metadata": {
    "ExecuteTime": {
     "end_time": "2020-06-17T14:54:08.421224Z",
     "start_time": "2020-06-17T14:54:08.416876Z"
    },
    "scrolled": true
   },
   "outputs": [
    {
     "data": {
      "text/plain": [
       "[('rt_reviews',),\n",
       " ('imdb_title_crew',),\n",
       " ('rt_movie_info',),\n",
       " ('tmdb_movies',),\n",
       " ('imdb_title_akas',),\n",
       " ('imdb_name_basics',),\n",
       " ('imdb_title_basics',),\n",
       " ('tn_movie_budgets',),\n",
       " ('bom_movie_gross',),\n",
       " ('imdb_title_principals',)]"
      ]
     },
     "execution_count": 17,
     "metadata": {},
     "output_type": "execute_result"
    }
   ],
   "source": [
    "conn.execute(\"select name from sqlite_master where type='table';\").fetchall()"
   ]
  },
  {
   "cell_type": "code",
   "execution_count": 18,
   "metadata": {
    "ExecuteTime": {
     "end_time": "2020-06-17T14:54:12.869359Z",
     "start_time": "2020-06-17T14:54:12.460090Z"
    }
   },
   "outputs": [
    {
     "name": "stdout",
     "output_type": "stream",
     "text": [
      "===============New DF===============\n",
      "rt_reviews\n",
      "<class 'pandas.core.frame.DataFrame'>\n",
      "RangeIndex: 54432 entries, 0 to 54431\n",
      "Data columns (total 9 columns):\n",
      " #   Column      Non-Null Count  Dtype \n",
      "---  ------      --------------  ----- \n",
      " 0   Unnamed: 0  54432 non-null  int64 \n",
      " 1   id          54432 non-null  int64 \n",
      " 2   review      48869 non-null  object\n",
      " 3   rating      40915 non-null  object\n",
      " 4   fresh       54432 non-null  object\n",
      " 5   critic      51710 non-null  object\n",
      " 6   top_critic  54432 non-null  int64 \n",
      " 7   publisher   54123 non-null  object\n",
      " 8   date        54432 non-null  object\n",
      "dtypes: int64(3), object(6)\n",
      "memory usage: 3.7+ MB\n",
      "None\n",
      "================End DF===============\n",
      "===============New DF===============\n",
      "imdb_title_crew\n",
      "<class 'pandas.core.frame.DataFrame'>\n",
      "RangeIndex: 146144 entries, 0 to 146143\n",
      "Data columns (total 3 columns):\n",
      " #   Column     Non-Null Count   Dtype \n",
      "---  ------     --------------   ----- \n",
      " 0   tconst     146144 non-null  object\n",
      " 1   directors  140417 non-null  object\n",
      " 2   writers    110261 non-null  object\n",
      "dtypes: object(3)\n",
      "memory usage: 3.3+ MB\n",
      "None\n",
      "================End DF===============\n",
      "===============New DF===============\n",
      "rt_movie_info\n",
      "<class 'pandas.core.frame.DataFrame'>\n",
      "RangeIndex: 1560 entries, 0 to 1559\n",
      "Data columns (total 13 columns):\n",
      " #   Column        Non-Null Count  Dtype \n",
      "---  ------        --------------  ----- \n",
      " 0   Unnamed: 0    1560 non-null   int64 \n",
      " 1   id            1560 non-null   int64 \n",
      " 2   synopsis      1498 non-null   object\n",
      " 3   rating        1557 non-null   object\n",
      " 4   genre         1552 non-null   object\n",
      " 5   director      1361 non-null   object\n",
      " 6   writer        1111 non-null   object\n",
      " 7   theater_date  1201 non-null   object\n",
      " 8   dvd_date      1201 non-null   object\n",
      " 9   currency      340 non-null    object\n",
      " 10  box_office    340 non-null    object\n",
      " 11  runtime       1530 non-null   object\n",
      " 12  studio        494 non-null    object\n",
      "dtypes: int64(2), object(11)\n",
      "memory usage: 158.6+ KB\n",
      "None\n",
      "================End DF===============\n",
      "===============New DF===============\n",
      "tmdb_movies\n",
      "<class 'pandas.core.frame.DataFrame'>\n",
      "RangeIndex: 26517 entries, 0 to 26516\n",
      "Data columns (total 10 columns):\n",
      " #   Column             Non-Null Count  Dtype  \n",
      "---  ------             --------------  -----  \n",
      " 0   Unnamed: 0         26517 non-null  int64  \n",
      " 1   genre_ids          26517 non-null  object \n",
      " 2   id                 26517 non-null  int64  \n",
      " 3   original_language  26517 non-null  object \n",
      " 4   original_title     26517 non-null  object \n",
      " 5   popularity         26517 non-null  float64\n",
      " 6   release_date       26517 non-null  object \n",
      " 7   title              26517 non-null  object \n",
      " 8   vote_average       26517 non-null  float64\n",
      " 9   vote_count         26517 non-null  int64  \n",
      "dtypes: float64(2), int64(3), object(5)\n",
      "memory usage: 2.0+ MB\n",
      "None\n",
      "================End DF===============\n",
      "===============New DF===============\n",
      "imdb_title_akas\n",
      "<class 'pandas.core.frame.DataFrame'>\n",
      "RangeIndex: 331703 entries, 0 to 331702\n",
      "Data columns (total 8 columns):\n",
      " #   Column             Non-Null Count   Dtype  \n",
      "---  ------             --------------   -----  \n",
      " 0   title_id           331703 non-null  object \n",
      " 1   ordering           331703 non-null  int64  \n",
      " 2   title              331703 non-null  object \n",
      " 3   region             278410 non-null  object \n",
      " 4   language           41715 non-null   object \n",
      " 5   types              168447 non-null  object \n",
      " 6   attributes         14925 non-null   object \n",
      " 7   is_original_title  331678 non-null  float64\n",
      "dtypes: float64(1), int64(1), object(6)\n",
      "memory usage: 20.2+ MB\n",
      "None\n",
      "================End DF===============\n",
      "===============New DF===============\n",
      "imdb_name_basics\n",
      "<class 'pandas.core.frame.DataFrame'>\n",
      "RangeIndex: 606648 entries, 0 to 606647\n",
      "Data columns (total 6 columns):\n",
      " #   Column              Non-Null Count   Dtype  \n",
      "---  ------              --------------   -----  \n",
      " 0   nconst              606648 non-null  object \n",
      " 1   primary_name        606648 non-null  object \n",
      " 2   birth_year          82736 non-null   float64\n",
      " 3   death_year          6783 non-null    float64\n",
      " 4   primary_profession  555308 non-null  object \n",
      " 5   known_for_titles    576444 non-null  object \n",
      "dtypes: float64(2), object(4)\n",
      "memory usage: 27.8+ MB\n",
      "None\n",
      "================End DF===============\n",
      "===============New DF===============\n",
      "imdb_title_basics\n",
      "<class 'pandas.core.frame.DataFrame'>\n",
      "RangeIndex: 146144 entries, 0 to 146143\n",
      "Data columns (total 6 columns):\n",
      " #   Column           Non-Null Count   Dtype  \n",
      "---  ------           --------------   -----  \n",
      " 0   tconst           146144 non-null  object \n",
      " 1   primary_title    146144 non-null  object \n",
      " 2   original_title   146123 non-null  object \n",
      " 3   start_year       146144 non-null  int64  \n",
      " 4   runtime_minutes  114405 non-null  float64\n",
      " 5   genres           140736 non-null  object \n",
      "dtypes: float64(1), int64(1), object(4)\n",
      "memory usage: 6.7+ MB\n",
      "None\n",
      "================End DF===============\n",
      "===============New DF===============\n",
      "tn_movie_budgets\n",
      "<class 'pandas.core.frame.DataFrame'>\n",
      "RangeIndex: 5782 entries, 0 to 5781\n",
      "Data columns (total 6 columns):\n",
      " #   Column             Non-Null Count  Dtype \n",
      "---  ------             --------------  ----- \n",
      " 0   id                 5782 non-null   int64 \n",
      " 1   release_date       5782 non-null   object\n",
      " 2   movie              5782 non-null   object\n",
      " 3   production_budget  5782 non-null   object\n",
      " 4   domestic_gross     5782 non-null   object\n",
      " 5   worldwide_gross    5782 non-null   object\n",
      "dtypes: int64(1), object(5)\n",
      "memory usage: 271.2+ KB\n",
      "None\n",
      "================End DF===============\n",
      "===============New DF===============\n",
      "bom_movie_gross\n",
      "<class 'pandas.core.frame.DataFrame'>\n",
      "RangeIndex: 3387 entries, 0 to 3386\n",
      "Data columns (total 5 columns):\n",
      " #   Column          Non-Null Count  Dtype  \n",
      "---  ------          --------------  -----  \n",
      " 0   title           3387 non-null   object \n",
      " 1   studio          3382 non-null   object \n",
      " 2   domestic_gross  3359 non-null   float64\n",
      " 3   foreign_gross   2037 non-null   object \n",
      " 4   year            3387 non-null   int64  \n",
      "dtypes: float64(1), int64(1), object(3)\n",
      "memory usage: 132.4+ KB\n",
      "None\n",
      "================End DF===============\n",
      "===============New DF===============\n",
      "imdb_title_principals\n",
      "<class 'pandas.core.frame.DataFrame'>\n",
      "RangeIndex: 1028186 entries, 0 to 1028185\n",
      "Data columns (total 6 columns):\n",
      " #   Column      Non-Null Count    Dtype \n",
      "---  ------      --------------    ----- \n",
      " 0   tconst      1028186 non-null  object\n",
      " 1   ordering    1028186 non-null  int64 \n",
      " 2   nconst      1028186 non-null  object\n",
      " 3   category    1028186 non-null  object\n",
      " 4   job         177684 non-null   object\n",
      " 5   characters  393360 non-null   object\n",
      "dtypes: int64(1), object(5)\n",
      "memory usage: 47.1+ MB\n",
      "None\n",
      "================End DF===============\n"
     ]
    }
   ],
   "source": [
    "for item in datafiles_dict.items():\n",
    "        print(\"===============New DF===============\")\n",
    "        print(item[0])\n",
    "        print(item[1].info())\n",
    "        print(\"================End DF===============\")"
   ]
  },
  {
   "cell_type": "code",
   "execution_count": 19,
   "metadata": {
    "ExecuteTime": {
     "end_time": "2020-06-17T14:54:17.731316Z",
     "start_time": "2020-06-17T14:54:17.728673Z"
    }
   },
   "outputs": [],
   "source": [
    "cur = conn.cursor()"
   ]
  },
  {
   "cell_type": "code",
   "execution_count": 20,
   "metadata": {
    "ExecuteTime": {
     "end_time": "2020-06-17T14:54:19.647212Z",
     "start_time": "2020-06-17T14:54:19.623298Z"
    }
   },
   "outputs": [
    {
     "data": {
      "text/html": [
       "<div>\n",
       "<style scoped>\n",
       "    .dataframe tbody tr th:only-of-type {\n",
       "        vertical-align: middle;\n",
       "    }\n",
       "\n",
       "    .dataframe tbody tr th {\n",
       "        vertical-align: top;\n",
       "    }\n",
       "\n",
       "    .dataframe thead th {\n",
       "        text-align: right;\n",
       "    }\n",
       "</style>\n",
       "<table border=\"1\" class=\"dataframe\">\n",
       "  <thead>\n",
       "    <tr style=\"text-align: right;\">\n",
       "      <th></th>\n",
       "      <th>index</th>\n",
       "      <th>title</th>\n",
       "      <th>studio</th>\n",
       "      <th>domestic_gross</th>\n",
       "      <th>foreign_gross</th>\n",
       "      <th>year</th>\n",
       "    </tr>\n",
       "  </thead>\n",
       "  <tbody>\n",
       "    <tr>\n",
       "      <th>0</th>\n",
       "      <td>0</td>\n",
       "      <td>Toy Story 3</td>\n",
       "      <td>BV</td>\n",
       "      <td>415000000.0</td>\n",
       "      <td>652000000</td>\n",
       "      <td>2010</td>\n",
       "    </tr>\n",
       "    <tr>\n",
       "      <th>1</th>\n",
       "      <td>1</td>\n",
       "      <td>Alice in Wonderland (2010)</td>\n",
       "      <td>BV</td>\n",
       "      <td>334200000.0</td>\n",
       "      <td>691300000</td>\n",
       "      <td>2010</td>\n",
       "    </tr>\n",
       "    <tr>\n",
       "      <th>2</th>\n",
       "      <td>2</td>\n",
       "      <td>Harry Potter and the Deathly Hallows Part 1</td>\n",
       "      <td>WB</td>\n",
       "      <td>296000000.0</td>\n",
       "      <td>664300000</td>\n",
       "      <td>2010</td>\n",
       "    </tr>\n",
       "    <tr>\n",
       "      <th>3</th>\n",
       "      <td>3</td>\n",
       "      <td>Inception</td>\n",
       "      <td>WB</td>\n",
       "      <td>292600000.0</td>\n",
       "      <td>535700000</td>\n",
       "      <td>2010</td>\n",
       "    </tr>\n",
       "    <tr>\n",
       "      <th>4</th>\n",
       "      <td>4</td>\n",
       "      <td>Shrek Forever After</td>\n",
       "      <td>P/DW</td>\n",
       "      <td>238700000.0</td>\n",
       "      <td>513900000</td>\n",
       "      <td>2010</td>\n",
       "    </tr>\n",
       "    <tr>\n",
       "      <th>...</th>\n",
       "      <td>...</td>\n",
       "      <td>...</td>\n",
       "      <td>...</td>\n",
       "      <td>...</td>\n",
       "      <td>...</td>\n",
       "      <td>...</td>\n",
       "    </tr>\n",
       "    <tr>\n",
       "      <th>3382</th>\n",
       "      <td>3382</td>\n",
       "      <td>The Quake</td>\n",
       "      <td>Magn.</td>\n",
       "      <td>6200.0</td>\n",
       "      <td>None</td>\n",
       "      <td>2018</td>\n",
       "    </tr>\n",
       "    <tr>\n",
       "      <th>3383</th>\n",
       "      <td>3383</td>\n",
       "      <td>Edward II (2018 re-release)</td>\n",
       "      <td>FM</td>\n",
       "      <td>4800.0</td>\n",
       "      <td>None</td>\n",
       "      <td>2018</td>\n",
       "    </tr>\n",
       "    <tr>\n",
       "      <th>3384</th>\n",
       "      <td>3384</td>\n",
       "      <td>El Pacto</td>\n",
       "      <td>Sony</td>\n",
       "      <td>2500.0</td>\n",
       "      <td>None</td>\n",
       "      <td>2018</td>\n",
       "    </tr>\n",
       "    <tr>\n",
       "      <th>3385</th>\n",
       "      <td>3385</td>\n",
       "      <td>The Swan</td>\n",
       "      <td>Synergetic</td>\n",
       "      <td>2400.0</td>\n",
       "      <td>None</td>\n",
       "      <td>2018</td>\n",
       "    </tr>\n",
       "    <tr>\n",
       "      <th>3386</th>\n",
       "      <td>3386</td>\n",
       "      <td>An Actor Prepares</td>\n",
       "      <td>Grav.</td>\n",
       "      <td>1700.0</td>\n",
       "      <td>None</td>\n",
       "      <td>2018</td>\n",
       "    </tr>\n",
       "  </tbody>\n",
       "</table>\n",
       "<p>3387 rows × 6 columns</p>\n",
       "</div>"
      ],
      "text/plain": [
       "      index                                        title      studio  \\\n",
       "0         0                                  Toy Story 3          BV   \n",
       "1         1                   Alice in Wonderland (2010)          BV   \n",
       "2         2  Harry Potter and the Deathly Hallows Part 1          WB   \n",
       "3         3                                    Inception          WB   \n",
       "4         4                          Shrek Forever After        P/DW   \n",
       "...     ...                                          ...         ...   \n",
       "3382   3382                                    The Quake       Magn.   \n",
       "3383   3383                  Edward II (2018 re-release)          FM   \n",
       "3384   3384                                     El Pacto        Sony   \n",
       "3385   3385                                     The Swan  Synergetic   \n",
       "3386   3386                            An Actor Prepares       Grav.   \n",
       "\n",
       "      domestic_gross foreign_gross  year  \n",
       "0        415000000.0     652000000  2010  \n",
       "1        334200000.0     691300000  2010  \n",
       "2        296000000.0     664300000  2010  \n",
       "3        292600000.0     535700000  2010  \n",
       "4        238700000.0     513900000  2010  \n",
       "...              ...           ...   ...  \n",
       "3382          6200.0          None  2018  \n",
       "3383          4800.0          None  2018  \n",
       "3384          2500.0          None  2018  \n",
       "3385          2400.0          None  2018  \n",
       "3386          1700.0          None  2018  \n",
       "\n",
       "[3387 rows x 6 columns]"
      ]
     },
     "execution_count": 20,
     "metadata": {},
     "output_type": "execute_result"
    }
   ],
   "source": [
    "cur.execute(\"\"\"\n",
    "SELECT *\n",
    "FROM bom_movie_gross\n",
    "; \"\"\")\n",
    "df = pd.DataFrame(cur.fetchall())\n",
    "df.columns = [x[0] for x in cur.description]\n",
    "df"
   ]
  },
  {
   "cell_type": "markdown",
   "metadata": {
    "ExecuteTime": {
     "end_time": "2020-06-16T22:04:24.080592Z",
     "start_time": "2020-06-16T22:04:24.078287Z"
    }
   },
   "source": [
    "### plots still outstanding"
   ]
  },
  {
   "cell_type": "markdown",
   "metadata": {},
   "source": [
    "#### -----"
   ]
  },
  {
   "cell_type": "markdown",
   "metadata": {},
   "source": [
    "## Findings/Questions recommendations for the team to consider\n",
    "\n",
    "Finding: Genres that yield highest net profit\n",
    "* Genres by year\n",
    "    * Review net loss\n",
    "    * Review net gain\n",
    "* Genres by runtime\n",
    "    * Review net loss\n",
    "    * Review net gain\n",
    "\n",
    "Finding: How do top ratings and reviews affect profit / Popular vote\n",
    "* Rating by audience\n",
    "    * Review professional critique \n",
    "    * Review user-generated review/rating aka Audience Score\n",
    "\n",
    "Finding: A director’s impact on the bottom line\n",
    "* Do these match? Director’s involved in\n",
    "    * Highest net profit films\n",
    "    * Top-rated film\n",
    "        * Review known_for_titles\n",
    "* If no pattern is established, does the director consistently influence either\n",
    "    * Highest net profit films\n",
    "    * Top-rated film\n",
    "\n",
    "Future Finding: Cross-platform integration based on character recognition \n",
    "* Compare ratings and profit\n",
    "    * Review characters and known_for_titles\n",
    "    * Add data for cross-platform offering based on\n",
    "        * Top-rated films\n",
    "        * Highest net profit films\n",
    "\n",
    "Conclusion: recommend genres to produce based on ratings and suggest approach to hiring directors"
   ]
  }
 ],
 "metadata": {
  "kernelspec": {
   "display_name": "learn-env",
   "language": "python",
   "name": "learn-env"
  },
  "language_info": {
   "codemirror_mode": {
    "name": "ipython",
    "version": 3
   },
   "file_extension": ".py",
   "mimetype": "text/x-python",
   "name": "python",
   "nbconvert_exporter": "python",
   "pygments_lexer": "ipython3",
   "version": "3.7.6"
  },
  "toc": {
   "base_numbering": 1,
   "nav_menu": {},
   "number_sections": true,
   "sideBar": true,
   "skip_h1_title": false,
   "title_cell": "Table of Contents",
   "title_sidebar": "Contents",
   "toc_cell": false,
   "toc_position": {},
   "toc_section_display": true,
   "toc_window_display": false
  },
  "varInspector": {
   "cols": {
    "lenName": 16,
    "lenType": 16,
    "lenVar": 40
   },
   "kernels_config": {
    "python": {
     "delete_cmd_postfix": "",
     "delete_cmd_prefix": "del ",
     "library": "var_list.py",
     "varRefreshCmd": "print(var_dic_list())"
    },
    "r": {
     "delete_cmd_postfix": ") ",
     "delete_cmd_prefix": "rm(",
     "library": "var_list.r",
     "varRefreshCmd": "cat(var_dic_list()) "
    }
   },
   "types_to_exclude": [
    "module",
    "function",
    "builtin_function_or_method",
    "instance",
    "_Feature"
   ],
   "window_display": false
  }
 },
 "nbformat": 4,
 "nbformat_minor": 4
}
