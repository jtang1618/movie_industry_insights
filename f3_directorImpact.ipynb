{
 "cells": [
  {
   "cell_type": "markdown",
   "metadata": {},
   "source": [
    "# A Director's impact on the bottom line"
   ]
  },
  {
   "cell_type": "markdown",
   "metadata": {},
   "source": [
    "We primarily concerned with identifying any trends in the data regarding directors and top performing films. Key data points considered are film ratings, IMDB general film details and net revenue.\n",
    "\n",
    "note: to create the movie.db locally, run the notebook SQLiteDatabase.ipynb"
   ]
  },
  {
   "cell_type": "code",
   "execution_count": 2,
   "metadata": {
    "ExecuteTime": {
     "end_time": "2020-06-21T06:31:38.703122Z",
     "start_time": "2020-06-21T06:31:38.053565Z"
    }
   },
   "outputs": [],
   "source": [
    "#necessary imports\n",
    "import sqlite3\n",
    "import os\n",
    "import pandas as pd\n",
    "import numpy as np\n",
    "import matplotlib.pyplot as plt\n",
    "%matplotlib inline\n",
    "import seaborn as sns\n",
    "from glob import glob\n",
    "\n",
    "#remove column truncation \n",
    "pd.set_option('display.max_columns', None)"
   ]
  },
  {
   "cell_type": "markdown",
   "metadata": {},
   "source": [
    "## Correlations between films with the highest net revenue, ratings and directors"
   ]
  },
  {
   "cell_type": "markdown",
   "metadata": {},
   "source": [
    "### What are the highest net revenue films?"
   ]
  },
  {
   "cell_type": "code",
   "execution_count": 3,
   "metadata": {
    "ExecuteTime": {
     "end_time": "2020-06-21T06:31:40.499060Z",
     "start_time": "2020-06-21T06:31:40.477366Z"
    },
    "scrolled": true
   },
   "outputs": [
    {
     "data": {
      "text/html": [
       "<div>\n",
       "<style scoped>\n",
       "    .dataframe tbody tr th:only-of-type {\n",
       "        vertical-align: middle;\n",
       "    }\n",
       "\n",
       "    .dataframe tbody tr th {\n",
       "        vertical-align: top;\n",
       "    }\n",
       "\n",
       "    .dataframe thead th {\n",
       "        text-align: right;\n",
       "    }\n",
       "</style>\n",
       "<table border=\"1\" class=\"dataframe\">\n",
       "  <thead>\n",
       "    <tr style=\"text-align: right;\">\n",
       "      <th></th>\n",
       "      <th>release_year</th>\n",
       "      <th>netRevenue_$</th>\n",
       "      <th>film_title</th>\n",
       "    </tr>\n",
       "  </thead>\n",
       "  <tbody>\n",
       "    <tr>\n",
       "      <th>0</th>\n",
       "      <td>2009</td>\n",
       "      <td>2351345279</td>\n",
       "      <td>Avatar</td>\n",
       "    </tr>\n",
       "    <tr>\n",
       "      <th>1</th>\n",
       "      <td>1997</td>\n",
       "      <td>2008208395</td>\n",
       "      <td>Titanic</td>\n",
       "    </tr>\n",
       "    <tr>\n",
       "      <th>2</th>\n",
       "      <td>2018</td>\n",
       "      <td>1748134200</td>\n",
       "      <td>Avengers: Infinity War</td>\n",
       "    </tr>\n",
       "    <tr>\n",
       "      <th>3</th>\n",
       "      <td>2015</td>\n",
       "      <td>1747311220</td>\n",
       "      <td>Star Wars: Episode VII - The Force Awakens</td>\n",
       "    </tr>\n",
       "    <tr>\n",
       "      <th>4</th>\n",
       "      <td>2017</td>\n",
       "      <td>1687630838</td>\n",
       "      <td>Beauty and the Beast</td>\n",
       "    </tr>\n",
       "  </tbody>\n",
       "</table>\n",
       "</div>"
      ],
      "text/plain": [
       "  release_year  netRevenue_$                                  film_title\n",
       "0         2009    2351345279                                      Avatar\n",
       "1         1997    2008208395                                     Titanic\n",
       "2         2018    1748134200                      Avengers: Infinity War\n",
       "3         2015    1747311220  Star Wars: Episode VII - The Force Awakens\n",
       "4         2017    1687630838                        Beauty and the Beast"
      ]
     },
     "execution_count": 3,
     "metadata": {},
     "output_type": "execute_result"
    }
   ],
   "source": [
    "conn = sqlite3.connect('movie.db') \n",
    "cur = conn.cursor()\n",
    "\n",
    "cur.execute(\"\"\" \n",
    "SELECT \n",
    "  t.year as release_year, SUM(t.worldwide_gross-t.production_budget) as netRevenue_$,\n",
    "  t.movie as film_title\n",
    "FROM tn_movie_budgets t \n",
    "GROUP BY t.movie\n",
    "ORDER BY netRevenue_$ DESC\n",
    "LIMIT 5\n",
    ";\n",
    "\"\"\")\n",
    "\n",
    "dft = pd.DataFrame(cur.fetchall())\n",
    "dft.columns = (x[0] for x in cur.description)\n",
    "#print(dft.shape)\n",
    "#print(dft.info())\n",
    "\n",
    "dft"
   ]
  },
  {
   "cell_type": "markdown",
   "metadata": {},
   "source": [
    "The top 5 net revenue films are:\n",
    "\n",
    "1. Avatar\n",
    "\n",
    "2. Titanic\n",
    "\n",
    "3. Avengers: Infinity War\n",
    "\n",
    "4. Star Wars Ep. VII: The Force Awakens\n",
    "\n",
    "5. Beauty and the Beast"
   ]
  },
  {
   "cell_type": "markdown",
   "metadata": {},
   "source": [
    "#### Of the highest net revenue films, who are the directors?"
   ]
  },
  {
   "cell_type": "code",
   "execution_count": 5,
   "metadata": {
    "ExecuteTime": {
     "end_time": "2020-06-21T06:31:51.922431Z",
     "start_time": "2020-06-21T06:31:51.216284Z"
    },
    "scrolled": false
   },
   "outputs": [
    {
     "data": {
      "text/html": [
       "<div>\n",
       "<style scoped>\n",
       "    .dataframe tbody tr th:only-of-type {\n",
       "        vertical-align: middle;\n",
       "    }\n",
       "\n",
       "    .dataframe tbody tr th {\n",
       "        vertical-align: top;\n",
       "    }\n",
       "\n",
       "    .dataframe thead th {\n",
       "        text-align: right;\n",
       "    }\n",
       "</style>\n",
       "<table border=\"1\" class=\"dataframe\">\n",
       "  <thead>\n",
       "    <tr style=\"text-align: right;\">\n",
       "      <th></th>\n",
       "      <th>movieID</th>\n",
       "      <th>knownFor_movieID</th>\n",
       "      <th>movie_title</th>\n",
       "      <th>Director</th>\n",
       "      <th>primary_profession</th>\n",
       "      <th>birth_year</th>\n",
       "    </tr>\n",
       "  </thead>\n",
       "  <tbody>\n",
       "    <tr>\n",
       "      <th>0</th>\n",
       "      <td>tt1775309</td>\n",
       "      <td>tt1594549,tt1775309,tt1602612</td>\n",
       "      <td>Avatar</td>\n",
       "      <td>Atsushi Wada</td>\n",
       "      <td>director</td>\n",
       "      <td>NaN</td>\n",
       "    </tr>\n",
       "    <tr>\n",
       "      <th>1</th>\n",
       "      <td>tt2771200</td>\n",
       "      <td>tt0362269,tt0443489,tt0120684,tt0299658</td>\n",
       "      <td>Beauty and the Beast</td>\n",
       "      <td>Bill Condon</td>\n",
       "      <td>director,writer,producer</td>\n",
       "      <td>1955.0</td>\n",
       "    </tr>\n",
       "    <tr>\n",
       "      <th>2</th>\n",
       "      <td>tt2488496</td>\n",
       "      <td>tt0411008,tt0796366,tt1650062,tt2488496</td>\n",
       "      <td>Star Wars: Episode VII - The Force Awakens</td>\n",
       "      <td>J.J. Abrams</td>\n",
       "      <td>producer,writer,music_department</td>\n",
       "      <td>1966.0</td>\n",
       "    </tr>\n",
       "    <tr>\n",
       "      <th>3</th>\n",
       "      <td>tt8852130</td>\n",
       "      <td>tt8852130</td>\n",
       "      <td>Titanic</td>\n",
       "      <td>Ravi Punj</td>\n",
       "      <td>director,writer,producer</td>\n",
       "      <td>NaN</td>\n",
       "    </tr>\n",
       "    <tr>\n",
       "      <th>4</th>\n",
       "      <td>tt4154756</td>\n",
       "      <td>tt1843866,tt4154756,tt3498820,tt4154796</td>\n",
       "      <td>Avengers: Infinity War</td>\n",
       "      <td>Anthony Russo</td>\n",
       "      <td>producer,director,writer</td>\n",
       "      <td>1970.0</td>\n",
       "    </tr>\n",
       "    <tr>\n",
       "      <th>5</th>\n",
       "      <td>tt4154756</td>\n",
       "      <td>tt4154756,tt4154796,tt1843866,tt3498820</td>\n",
       "      <td>Avengers: Infinity War</td>\n",
       "      <td>Joe Russo</td>\n",
       "      <td>producer,director,writer</td>\n",
       "      <td>1971.0</td>\n",
       "    </tr>\n",
       "    <tr>\n",
       "      <th>6</th>\n",
       "      <td>tt2495766</td>\n",
       "      <td>tt3381008,tt3171832,tt3495026,tt2495766</td>\n",
       "      <td>Titanic</td>\n",
       "      <td>Pete Meads</td>\n",
       "      <td>actor,camera_department,miscellaneous</td>\n",
       "      <td>NaN</td>\n",
       "    </tr>\n",
       "    <tr>\n",
       "      <th>7</th>\n",
       "      <td>tt2495766</td>\n",
       "      <td>tt2495766</td>\n",
       "      <td>Titanic</td>\n",
       "      <td>Kevin Lincoln</td>\n",
       "      <td>director,actor,writer</td>\n",
       "      <td>NaN</td>\n",
       "    </tr>\n",
       "  </tbody>\n",
       "</table>\n",
       "</div>"
      ],
      "text/plain": [
       "     movieID                         knownFor_movieID  \\\n",
       "0  tt1775309            tt1594549,tt1775309,tt1602612   \n",
       "1  tt2771200  tt0362269,tt0443489,tt0120684,tt0299658   \n",
       "2  tt2488496  tt0411008,tt0796366,tt1650062,tt2488496   \n",
       "3  tt8852130                                tt8852130   \n",
       "4  tt4154756  tt1843866,tt4154756,tt3498820,tt4154796   \n",
       "5  tt4154756  tt4154756,tt4154796,tt1843866,tt3498820   \n",
       "6  tt2495766  tt3381008,tt3171832,tt3495026,tt2495766   \n",
       "7  tt2495766                                tt2495766   \n",
       "\n",
       "                                  movie_title       Director  \\\n",
       "0                                      Avatar   Atsushi Wada   \n",
       "1                        Beauty and the Beast    Bill Condon   \n",
       "2  Star Wars: Episode VII - The Force Awakens    J.J. Abrams   \n",
       "3                                     Titanic      Ravi Punj   \n",
       "4                      Avengers: Infinity War  Anthony Russo   \n",
       "5                      Avengers: Infinity War      Joe Russo   \n",
       "6                                     Titanic     Pete Meads   \n",
       "7                                     Titanic  Kevin Lincoln   \n",
       "\n",
       "                      primary_profession  birth_year  \n",
       "0                               director         NaN  \n",
       "1               director,writer,producer      1955.0  \n",
       "2       producer,writer,music_department      1966.0  \n",
       "3               director,writer,producer         NaN  \n",
       "4               producer,director,writer      1970.0  \n",
       "5               producer,director,writer      1971.0  \n",
       "6  actor,camera_department,miscellaneous         NaN  \n",
       "7                  director,actor,writer         NaN  "
      ]
     },
     "execution_count": 5,
     "metadata": {},
     "output_type": "execute_result"
    }
   ],
   "source": [
    "conn = sqlite3.connect('movie.db') \n",
    "cur = conn.cursor()\n",
    "\n",
    "cur.execute(\"\"\" \n",
    "SELECT c.tconst as movieID, nm.known_for_titles as knownFor_movieID, \n",
    "i.primary_title as movie_title, nm.primary_name as Director, \n",
    "nm.primary_profession, nm.birth_year\n",
    "FROM imdb_title_crew c\n",
    "LEFT JOIN imdb_title_basics i\n",
    "ON c.tconst = i.tconst\n",
    "LEFT JOIN tn_movie_budgets t \n",
    "ON i.primary_title = t.movie\n",
    "LEFT JOIN imdb_name_basics nm\n",
    "ON c.directors = nm.nconst OR c.director1 = nm.nconst OR \n",
    "c.director2 = nm.nconst\n",
    "WHERE (i.primary_title == 'Beauty and the Beast') & (i.tconst == 'tt2771200') \n",
    "& (t.year like '%17%') OR (i.primary_title == 'Avatar') OR \n",
    "(i.primary_title == 'Titanic') OR (i.primary_title like '%Infinity War%') & \n",
    "(i.primary_title like '%Avengers%') OR (i.primary_title like '%Star War%') & \n",
    "(i.primary_title like '%Ep%') & (i.primary_title like '%Force Awakens%')\n",
    "ORDER BY c.director1,c.director2,c.director3,c.director4\n",
    ";\n",
    "\"\"\")\n",
    "\n",
    "dft = pd.DataFrame(cur.fetchall())\n",
    "dft.columns = (x[0] for x in cur.description)\n",
    "#print(dft.shape)\n",
    "#print(dft.info())\n",
    "\n",
    "dft"
   ]
  },
  {
   "cell_type": "markdown",
   "metadata": {},
   "source": [
    "***Findings***: The directors are:\n",
    "* Atsushi Wada, 'Avatar'\n",
    "* Anthony Russo and Joe Russo, 'Avengers: Infinity War'\n",
    "* Bill Condon, 'Beauty and the Beast'\n",
    "* J.J. Abrams, 'Star Wars: Episode VII - The Force Awakens'\n",
    "* Ravi Punj, Pete Meads and Kevin Lincoln, 'Titanic'\n"
   ]
  },
  {
   "cell_type": "markdown",
   "metadata": {},
   "source": [
    "#### Are these directors well known for their work on these films?"
   ]
  },
  {
   "cell_type": "markdown",
   "metadata": {},
   "source": [
    "***Findings***: Nearly all the directors are well known for their work on the top net revenue films. By reviewing whether the movieID is contained in the list of knownFor_movieID, we can see that 'Beauty and the Beast' is the outlier. Bill Condon is well known for other films but not for his work on this particular film."
   ]
  },
  {
   "cell_type": "markdown",
   "metadata": {},
   "source": [
    "### What are the top flims as rated by viewers?"
   ]
  },
  {
   "cell_type": "code",
   "execution_count": 10,
   "metadata": {
    "ExecuteTime": {
     "end_time": "2020-06-21T06:36:00.708645Z",
     "start_time": "2020-06-21T06:36:00.691941Z"
    },
    "scrolled": true
   },
   "outputs": [
    {
     "data": {
      "text/html": [
       "<div>\n",
       "<style scoped>\n",
       "    .dataframe tbody tr th:only-of-type {\n",
       "        vertical-align: middle;\n",
       "    }\n",
       "\n",
       "    .dataframe tbody tr th {\n",
       "        vertical-align: top;\n",
       "    }\n",
       "\n",
       "    .dataframe thead th {\n",
       "        text-align: right;\n",
       "    }\n",
       "</style>\n",
       "<table border=\"1\" class=\"dataframe\">\n",
       "  <thead>\n",
       "    <tr style=\"text-align: right;\">\n",
       "      <th></th>\n",
       "      <th>title</th>\n",
       "      <th>viewer_Ratings</th>\n",
       "    </tr>\n",
       "  </thead>\n",
       "  <tbody>\n",
       "    <tr>\n",
       "      <th>0</th>\n",
       "      <td>Inception</td>\n",
       "      <td>8.3</td>\n",
       "    </tr>\n",
       "    <tr>\n",
       "      <th>1</th>\n",
       "      <td>Avengers: Infinity War</td>\n",
       "      <td>8.3</td>\n",
       "    </tr>\n",
       "    <tr>\n",
       "      <th>2</th>\n",
       "      <td>The Lion King</td>\n",
       "      <td>8.2</td>\n",
       "    </tr>\n",
       "    <tr>\n",
       "      <th>3</th>\n",
       "      <td>Interstellar</td>\n",
       "      <td>8.2</td>\n",
       "    </tr>\n",
       "    <tr>\n",
       "      <th>4</th>\n",
       "      <td>Shutter Island</td>\n",
       "      <td>8.1</td>\n",
       "    </tr>\n",
       "  </tbody>\n",
       "</table>\n",
       "</div>"
      ],
      "text/plain": [
       "                    title  viewer_Ratings\n",
       "0               Inception             8.3\n",
       "1  Avengers: Infinity War             8.3\n",
       "2           The Lion King             8.2\n",
       "3            Interstellar             8.2\n",
       "4          Shutter Island             8.1"
      ]
     },
     "execution_count": 10,
     "metadata": {},
     "output_type": "execute_result"
    }
   ],
   "source": [
    "conn = sqlite3.connect('movie.db') \n",
    "cur = conn.cursor()\n",
    "\n",
    "cur.execute(\"\"\" \n",
    "SELECT title, vote_average as viewer_Ratings\n",
    "FROM tmdb_movies\n",
    "WHERE vote_count >= '10000'\n",
    "ORDER BY vote_average DESC;\"\"\")\n",
    "\n",
    "pd.set_option('display.max_columns', None)\n",
    "dft = pd.DataFrame(cur.fetchall())\n",
    "dft.columns = (x[0] for x in cur.description)\n",
    "#print(dft.shape)\n",
    "#print(dft.info())\n",
    "dft.head()"
   ]
  },
  {
   "cell_type": "markdown",
   "metadata": {},
   "source": [
    "***Findings***: We can see that the top 5 user-rated films from TheMovieDB.org are:\n",
    "1. Inception\n",
    "\n",
    "2. Avengers: Infinity Wars\n",
    "\n",
    "3. The Lion King\n",
    "\n",
    "4. Interstellar\n",
    "\n",
    "5. Shutter Island\n",
    "\n",
    "Of these top user-rated films, the only film that is also in the top 5 films for net revenue is 'Avengers: Infinity Wars'."
   ]
  },
  {
   "cell_type": "markdown",
   "metadata": {},
   "source": [
    "#### Of the top-rated films, who are the directors?"
   ]
  },
  {
   "cell_type": "code",
   "execution_count": 11,
   "metadata": {
    "ExecuteTime": {
     "end_time": "2020-06-21T06:36:13.875539Z",
     "start_time": "2020-06-21T06:36:13.234684Z"
    }
   },
   "outputs": [
    {
     "data": {
      "text/html": [
       "<div>\n",
       "<style scoped>\n",
       "    .dataframe tbody tr th:only-of-type {\n",
       "        vertical-align: middle;\n",
       "    }\n",
       "\n",
       "    .dataframe tbody tr th {\n",
       "        vertical-align: top;\n",
       "    }\n",
       "\n",
       "    .dataframe thead th {\n",
       "        text-align: right;\n",
       "    }\n",
       "</style>\n",
       "<table border=\"1\" class=\"dataframe\">\n",
       "  <thead>\n",
       "    <tr style=\"text-align: right;\">\n",
       "      <th></th>\n",
       "      <th>movie_title</th>\n",
       "      <th>viewer_Ratings</th>\n",
       "      <th>Director</th>\n",
       "      <th>primary_profession</th>\n",
       "      <th>birth_year</th>\n",
       "    </tr>\n",
       "  </thead>\n",
       "  <tbody>\n",
       "    <tr>\n",
       "      <th>0</th>\n",
       "      <td>Inception</td>\n",
       "      <td>8.3</td>\n",
       "      <td>Christopher Nolan</td>\n",
       "      <td>writer,producer,director</td>\n",
       "      <td>1970</td>\n",
       "    </tr>\n",
       "    <tr>\n",
       "      <th>1</th>\n",
       "      <td>Avengers: Infinity War</td>\n",
       "      <td>8.3</td>\n",
       "      <td>Anthony Russo</td>\n",
       "      <td>producer,director,writer</td>\n",
       "      <td>1970</td>\n",
       "    </tr>\n",
       "    <tr>\n",
       "      <th>2</th>\n",
       "      <td>Avengers: Infinity War</td>\n",
       "      <td>8.3</td>\n",
       "      <td>Joe Russo</td>\n",
       "      <td>producer,director,writer</td>\n",
       "      <td>1971</td>\n",
       "    </tr>\n",
       "    <tr>\n",
       "      <th>3</th>\n",
       "      <td>The Lion King</td>\n",
       "      <td>8.2</td>\n",
       "      <td>Jon Favreau</td>\n",
       "      <td>producer,actor,miscellaneous</td>\n",
       "      <td>1966</td>\n",
       "    </tr>\n",
       "    <tr>\n",
       "      <th>4</th>\n",
       "      <td>Interstellar</td>\n",
       "      <td>8.2</td>\n",
       "      <td>Christopher Nolan</td>\n",
       "      <td>writer,producer,director</td>\n",
       "      <td>1970</td>\n",
       "    </tr>\n",
       "    <tr>\n",
       "      <th>5</th>\n",
       "      <td>Shutter Island</td>\n",
       "      <td>8.1</td>\n",
       "      <td>Martin Scorsese</td>\n",
       "      <td>producer,director,actor</td>\n",
       "      <td>1942</td>\n",
       "    </tr>\n",
       "  </tbody>\n",
       "</table>\n",
       "</div>"
      ],
      "text/plain": [
       "              movie_title  viewer_Ratings           Director  \\\n",
       "0               Inception             8.3  Christopher Nolan   \n",
       "1  Avengers: Infinity War             8.3      Anthony Russo   \n",
       "2  Avengers: Infinity War             8.3          Joe Russo   \n",
       "3           The Lion King             8.2        Jon Favreau   \n",
       "4            Interstellar             8.2  Christopher Nolan   \n",
       "5          Shutter Island             8.1    Martin Scorsese   \n",
       "\n",
       "             primary_profession  birth_year  \n",
       "0      writer,producer,director        1970  \n",
       "1      producer,director,writer        1970  \n",
       "2      producer,director,writer        1971  \n",
       "3  producer,actor,miscellaneous        1966  \n",
       "4      writer,producer,director        1970  \n",
       "5       producer,director,actor        1942  "
      ]
     },
     "execution_count": 11,
     "metadata": {},
     "output_type": "execute_result"
    }
   ],
   "source": [
    "conn = sqlite3.connect('movie.db') \n",
    "cur = conn.cursor()\n",
    "\n",
    "cur.execute(\"\"\" \n",
    "SELECT t.title as movie_title, t.vote_average as viewer_Ratings, nm.primary_name as Director, \n",
    "nm.primary_profession, nm.birth_year\n",
    "FROM tmdb_movies t\n",
    "LEFT JOIN imdb_title_basics b\n",
    "ON t.title = b.primary_title\n",
    "LEFT JOIN imdb_title_crew c\n",
    "USING (tconst)\n",
    "LEFT JOIN imdb_name_basics nm\n",
    "ON c.directors = nm.nconst OR c.director1 = nm.nconst OR \n",
    "c.director2 = nm.nconst\n",
    "WHERE t.vote_count >= '10000'\n",
    "ORDER BY vote_average DESC\n",
    "LIMIT 6;\"\"\")\n",
    "\n",
    "pd.set_option('display.max_columns', None)\n",
    "dft = pd.DataFrame(cur.fetchall())\n",
    "dft.columns = (x[0] for x in cur.description)\n",
    "#print(dft.shape)\n",
    "#print(dft.info())\n",
    "dft"
   ]
  },
  {
   "cell_type": "markdown",
   "metadata": {},
   "source": [
    "#### Are these directors well known for their work on these films?"
   ]
  },
  {
   "cell_type": "code",
   "execution_count": 8,
   "metadata": {
    "ExecuteTime": {
     "end_time": "2020-06-21T06:32:49.555707Z",
     "start_time": "2020-06-21T06:32:49.009409Z"
    },
    "scrolled": true
   },
   "outputs": [
    {
     "data": {
      "text/html": [
       "<div>\n",
       "<style scoped>\n",
       "    .dataframe tbody tr th:only-of-type {\n",
       "        vertical-align: middle;\n",
       "    }\n",
       "\n",
       "    .dataframe tbody tr th {\n",
       "        vertical-align: top;\n",
       "    }\n",
       "\n",
       "    .dataframe thead th {\n",
       "        text-align: right;\n",
       "    }\n",
       "</style>\n",
       "<table border=\"1\" class=\"dataframe\">\n",
       "  <thead>\n",
       "    <tr style=\"text-align: right;\">\n",
       "      <th></th>\n",
       "      <th>movieID</th>\n",
       "      <th>knownFor_movieID</th>\n",
       "      <th>movie_title</th>\n",
       "      <th>Director</th>\n",
       "      <th>primary_profession</th>\n",
       "      <th>birth_year</th>\n",
       "    </tr>\n",
       "  </thead>\n",
       "  <tbody>\n",
       "    <tr>\n",
       "      <th>0</th>\n",
       "      <td>tt1375666</td>\n",
       "      <td>tt0482571,tt1375666,tt5013056,tt0154506</td>\n",
       "      <td>Inception</td>\n",
       "      <td>Christopher Nolan</td>\n",
       "      <td>writer,producer,director</td>\n",
       "      <td>1970</td>\n",
       "    </tr>\n",
       "    <tr>\n",
       "      <th>1</th>\n",
       "      <td>tt0816692</td>\n",
       "      <td>tt0482571,tt1375666,tt5013056,tt0154506</td>\n",
       "      <td>Interstellar</td>\n",
       "      <td>Christopher Nolan</td>\n",
       "      <td>writer,producer,director</td>\n",
       "      <td>1970</td>\n",
       "    </tr>\n",
       "    <tr>\n",
       "      <th>2</th>\n",
       "      <td>tt6105098</td>\n",
       "      <td>tt0117802,tt2883512,tt4154796,tt0371746</td>\n",
       "      <td>The Lion King</td>\n",
       "      <td>Jon Favreau</td>\n",
       "      <td>producer,actor,miscellaneous</td>\n",
       "      <td>1966</td>\n",
       "    </tr>\n",
       "    <tr>\n",
       "      <th>3</th>\n",
       "      <td>tt1130884</td>\n",
       "      <td>tt0490215,tt0075314,tt0099685,tt0070379</td>\n",
       "      <td>Shutter Island</td>\n",
       "      <td>Martin Scorsese</td>\n",
       "      <td>producer,director,actor</td>\n",
       "      <td>1942</td>\n",
       "    </tr>\n",
       "    <tr>\n",
       "      <th>4</th>\n",
       "      <td>tt4154756</td>\n",
       "      <td>tt1843866,tt4154756,tt3498820,tt4154796</td>\n",
       "      <td>Avengers: Infinity War</td>\n",
       "      <td>Anthony Russo</td>\n",
       "      <td>producer,director,writer</td>\n",
       "      <td>1970</td>\n",
       "    </tr>\n",
       "    <tr>\n",
       "      <th>5</th>\n",
       "      <td>tt4154756</td>\n",
       "      <td>tt4154756,tt4154796,tt1843866,tt3498820</td>\n",
       "      <td>Avengers: Infinity War</td>\n",
       "      <td>Joe Russo</td>\n",
       "      <td>producer,director,writer</td>\n",
       "      <td>1971</td>\n",
       "    </tr>\n",
       "  </tbody>\n",
       "</table>\n",
       "</div>"
      ],
      "text/plain": [
       "     movieID                         knownFor_movieID             movie_title  \\\n",
       "0  tt1375666  tt0482571,tt1375666,tt5013056,tt0154506               Inception   \n",
       "1  tt0816692  tt0482571,tt1375666,tt5013056,tt0154506            Interstellar   \n",
       "2  tt6105098  tt0117802,tt2883512,tt4154796,tt0371746           The Lion King   \n",
       "3  tt1130884  tt0490215,tt0075314,tt0099685,tt0070379          Shutter Island   \n",
       "4  tt4154756  tt1843866,tt4154756,tt3498820,tt4154796  Avengers: Infinity War   \n",
       "5  tt4154756  tt4154756,tt4154796,tt1843866,tt3498820  Avengers: Infinity War   \n",
       "\n",
       "            Director            primary_profession  birth_year  \n",
       "0  Christopher Nolan      writer,producer,director        1970  \n",
       "1  Christopher Nolan      writer,producer,director        1970  \n",
       "2        Jon Favreau  producer,actor,miscellaneous        1966  \n",
       "3    Martin Scorsese       producer,director,actor        1942  \n",
       "4      Anthony Russo      producer,director,writer        1970  \n",
       "5          Joe Russo      producer,director,writer        1971  "
      ]
     },
     "execution_count": 8,
     "metadata": {},
     "output_type": "execute_result"
    }
   ],
   "source": [
    "conn = sqlite3.connect('movie.db') \n",
    "cur = conn.cursor()\n",
    "\n",
    "cur.execute(\"\"\" \n",
    "SELECT c.tconst as movieID, nm.known_for_titles as knownFor_movieID, \n",
    "b.primary_title as movie_title, nm.primary_name as Director, \n",
    "nm.primary_profession, nm.birth_year\n",
    "FROM imdb_title_crew c\n",
    "LEFT JOIN imdb_title_basics b\n",
    "ON c.tconst = b.tconst\n",
    "LEFT JOIN tn_movie_budgets t \n",
    "ON b.primary_title = t.movie\n",
    "LEFT JOIN imdb_name_basics nm\n",
    "ON c.directors = nm.nconst OR c.director1 = nm.nconst OR \n",
    "c.director2 = nm.nconst\n",
    "WHERE (b.primary_title == 'Inception') OR (b.primary_title == 'The Lion King') OR \n",
    "(b.primary_title == 'Interstellar') OR (b.primary_title like '%Infinity War%') \n",
    "& (b.primary_title like '%Avengers%') OR (b.primary_title == 'Shutter Island')\n",
    "ORDER BY c.director1,c.director2,c.director3,c.director4\n",
    ";\n",
    "\"\"\")\n",
    "\n",
    "dft = pd.DataFrame(cur.fetchall())\n",
    "dft.columns = (x[0] for x in cur.description)\n",
    "#print(dft.shape)\n",
    "#print(dft.info())\n",
    "\n",
    "dft"
   ]
  },
  {
   "cell_type": "markdown",
   "metadata": {},
   "source": [
    "***Findings***: Only two movie titles have directors who are are well known for their work on these top user-rated films:\n",
    "1. Avengers: Infinity War\n",
    "\n",
    "2. Inception"
   ]
  },
  {
   "cell_type": "code",
   "execution_count": 9,
   "metadata": {
    "ExecuteTime": {
     "end_time": "2020-06-21T06:33:26.264223Z",
     "start_time": "2020-06-21T06:33:26.250721Z"
    }
   },
   "outputs": [
    {
     "data": {
      "text/html": [
       "<div>\n",
       "<style scoped>\n",
       "    .dataframe tbody tr th:only-of-type {\n",
       "        vertical-align: middle;\n",
       "    }\n",
       "\n",
       "    .dataframe tbody tr th {\n",
       "        vertical-align: top;\n",
       "    }\n",
       "\n",
       "    .dataframe thead th {\n",
       "        text-align: right;\n",
       "    }\n",
       "</style>\n",
       "<table border=\"1\" class=\"dataframe\">\n",
       "  <thead>\n",
       "    <tr style=\"text-align: right;\">\n",
       "      <th></th>\n",
       "      <th>release_year</th>\n",
       "      <th>netRevenue_$</th>\n",
       "      <th>productCost_$</th>\n",
       "      <th>film_title</th>\n",
       "    </tr>\n",
       "  </thead>\n",
       "  <tbody>\n",
       "    <tr>\n",
       "      <th>0</th>\n",
       "      <td>2010</td>\n",
       "      <td>675524642</td>\n",
       "      <td>160000000</td>\n",
       "      <td>Inception</td>\n",
       "    </tr>\n",
       "    <tr>\n",
       "      <th>1</th>\n",
       "      <td>2014</td>\n",
       "      <td>501379375</td>\n",
       "      <td>165000000</td>\n",
       "      <td>Interstellar</td>\n",
       "    </tr>\n",
       "  </tbody>\n",
       "</table>\n",
       "</div>"
      ],
      "text/plain": [
       "  release_year  netRevenue_$  productCost_$    film_title\n",
       "0         2010     675524642      160000000     Inception\n",
       "1         2014     501379375      165000000  Interstellar"
      ]
     },
     "execution_count": 9,
     "metadata": {},
     "output_type": "execute_result"
    }
   ],
   "source": [
    "conn = sqlite3.connect('movie.db') \n",
    "cur = conn.cursor()\n",
    "\n",
    "cur.execute(\"\"\" \n",
    "SELECT \n",
    "  t.year as release_year, SUM(t.worldwide_gross-t.production_budget) as netRevenue_$, \n",
    "  t.production_budget as productCost_$, t.movie as film_title\n",
    "FROM tn_movie_budgets t \n",
    "WHERE (t.movie == 'Interstellar') OR (t.movie == 'Inception')\n",
    "GROUP BY t.movie\n",
    "ORDER BY netRevenue_$ DESC\n",
    "LIMIT 5\n",
    ";\n",
    "\"\"\")\n",
    "\n",
    "dft = pd.DataFrame(cur.fetchall())\n",
    "dft.columns = (x[0] for x in cur.description)\n",
    "#print(dft.shape)\n",
    "#print(dft.info())\n",
    "\n",
    "dft"
   ]
  },
  {
   "cell_type": "markdown",
   "metadata": {},
   "source": [
    "***Additional Findings***: Interestingly, the director for 'Inception', Christopher Nolan, also directed another top user-rated film 'Interstellar' but this film is not a top net revenue film. 'Interstellar' had nearly the same production cost as 'Inception' but trailed in net revenue by \\\\$17.4M."
   ]
  },
  {
   "cell_type": "markdown",
   "metadata": {
    "ExecuteTime": {
     "end_time": "2020-06-21T01:30:12.795211Z",
     "start_time": "2020-06-21T01:30:12.792682Z"
    }
   },
   "source": [
    "## Data Visualizations"
   ]
  },
  {
   "cell_type": "code",
   "execution_count": null,
   "metadata": {},
   "outputs": [],
   "source": []
  }
 ],
 "metadata": {
  "kernelspec": {
   "display_name": "learn-env",
   "language": "python",
   "name": "learn-env"
  },
  "language_info": {
   "codemirror_mode": {
    "name": "ipython",
    "version": 3
   },
   "file_extension": ".py",
   "mimetype": "text/x-python",
   "name": "python",
   "nbconvert_exporter": "python",
   "pygments_lexer": "ipython3",
   "version": "3.7.6"
  },
  "toc": {
   "base_numbering": 1,
   "nav_menu": {},
   "number_sections": true,
   "sideBar": true,
   "skip_h1_title": false,
   "title_cell": "Table of Contents",
   "title_sidebar": "Contents",
   "toc_cell": false,
   "toc_position": {},
   "toc_section_display": true,
   "toc_window_display": false
  },
  "varInspector": {
   "cols": {
    "lenName": 16,
    "lenType": 16,
    "lenVar": 40
   },
   "kernels_config": {
    "python": {
     "delete_cmd_postfix": "",
     "delete_cmd_prefix": "del ",
     "library": "var_list.py",
     "varRefreshCmd": "print(var_dic_list())"
    },
    "r": {
     "delete_cmd_postfix": ") ",
     "delete_cmd_prefix": "rm(",
     "library": "var_list.r",
     "varRefreshCmd": "cat(var_dic_list()) "
    }
   },
   "types_to_exclude": [
    "module",
    "function",
    "builtin_function_or_method",
    "instance",
    "_Feature"
   ],
   "window_display": false
  }
 },
 "nbformat": 4,
 "nbformat_minor": 4
}
