{
 "cells": [
  {
   "cell_type": "markdown",
   "metadata": {},
   "source": [
    "# Genres that yield highest net profit"
   ]
  },
  {
   "cell_type": "markdown",
   "metadata": {},
   "source": [
    "brief description"
   ]
  },
  {
   "cell_type": "markdown",
   "metadata": {},
   "source": [
    "## import the data"
   ]
  },
  {
   "cell_type": "code",
   "execution_count": 91,
   "metadata": {
    "ExecuteTime": {
     "end_time": "2020-06-19T21:27:51.437991Z",
     "start_time": "2020-06-19T21:27:51.431937Z"
    }
   },
   "outputs": [],
   "source": [
    "#necessary imports\n",
    "\n",
    "import sqlite3\n",
    "import os\n",
    "import pandas as pd\n",
    "import numpy as np\n",
    "import matplotlib.pyplot as plt\n",
    "%matplotlib inline\n",
    "import seaborn as sns\n",
    "from glob import glob"
   ]
  },
  {
   "cell_type": "code",
   "execution_count": 74,
   "metadata": {
    "ExecuteTime": {
     "end_time": "2020-06-19T21:05:01.382363Z",
     "start_time": "2020-06-19T21:05:00.162663Z"
    }
   },
   "outputs": [],
   "source": [
    "#converts tsv files\n",
    "\n",
    "tsv_file = './zippedData/rt.movie_info.tsv.gz'\n",
    "convert = pd.read_table(tsv_file, delimiter='\\t')\n",
    "convert.to_csv('./zippedData/rt.movie_info.csv.gz')\n",
    "\n",
    "tsv_file_r = './zippedData/rt.reviews.tsv.gz'\n",
    "convert_r = pd.read_table(tsv_file_r, delimiter='\\t', encoding = 'unicode_escape')\n",
    "convert_r.to_csv('./zippedData/rt.reviews.csv.gz')"
   ]
  },
  {
   "cell_type": "code",
   "execution_count": 75,
   "metadata": {
    "ExecuteTime": {
     "end_time": "2020-06-19T21:05:01.627115Z",
     "start_time": "2020-06-19T21:05:01.623273Z"
    }
   },
   "outputs": [
    {
     "data": {
      "text/plain": [
       "['./zippedData/rt.reviews.csv.gz',\n",
       " './zippedData/imdb.title.crew.csv.gz',\n",
       " './zippedData/rt.movie_info.csv.gz',\n",
       " './zippedData/tmdb.movies.csv.gz',\n",
       " './zippedData/imdb.title.akas.csv.gz',\n",
       " './zippedData/imdb.name.basics.csv.gz',\n",
       " './zippedData/imdb.title.basics.csv.gz',\n",
       " './zippedData/tn.movie_budgets.csv.gz',\n",
       " './zippedData/bom.movie_gross.csv.gz',\n",
       " './zippedData/imdb.title.principals.csv.gz']"
      ]
     },
     "execution_count": 75,
     "metadata": {},
     "output_type": "execute_result"
    }
   ],
   "source": [
    "#importing data using glob\n",
    "\n",
    "datafiles = glob(\"./zippedData/*.csv.gz\")\n",
    "datafiles"
   ]
  },
  {
   "cell_type": "code",
   "execution_count": 76,
   "metadata": {
    "ExecuteTime": {
     "end_time": "2020-06-19T21:05:08.093907Z",
     "start_time": "2020-06-19T21:05:03.954696Z"
    }
   },
   "outputs": [],
   "source": [
    "datafiles_dict = {}\n",
    "for filename in datafiles:\n",
    "    filename_cleaned = os.path.basename(filename).replace(\".csv\", \"\").replace(\".gz\", \"\").replace(\".\", \"_\") # cleaning the filenames\n",
    "    filename_df = pd.read_csv(filename)\n",
    "    datafiles_dict[filename_cleaned] = filename_df"
   ]
  },
  {
   "cell_type": "code",
   "execution_count": 77,
   "metadata": {
    "ExecuteTime": {
     "end_time": "2020-06-19T21:05:08.335819Z",
     "start_time": "2020-06-19T21:05:08.332795Z"
    },
    "scrolled": false
   },
   "outputs": [
    {
     "name": "stdout",
     "output_type": "stream",
     "text": [
      "dict_keys(['rt_reviews', 'imdb_title_crew', 'rt_movie_info', 'tmdb_movies', 'imdb_title_akas', 'imdb_name_basics', 'imdb_title_basics', 'tn_movie_budgets', 'bom_movie_gross', 'imdb_title_principals'])\n"
     ]
    }
   ],
   "source": [
    "print(datafiles_dict.keys())"
   ]
  },
  {
   "cell_type": "markdown",
   "metadata": {},
   "source": [
    "## Overall, what are the top 5 grossing films?"
   ]
  },
  {
   "cell_type": "code",
   "execution_count": 80,
   "metadata": {
    "ExecuteTime": {
     "end_time": "2020-06-19T21:06:00.861272Z",
     "start_time": "2020-06-19T21:06:00.857499Z"
    }
   },
   "outputs": [
    {
     "ename": "SyntaxError",
     "evalue": "invalid syntax (<ipython-input-80-8762240503a6>, line 1)",
     "output_type": "error",
     "traceback": [
      "\u001b[0;36m  File \u001b[0;32m\"<ipython-input-80-8762240503a6>\"\u001b[0;36m, line \u001b[0;32m1\u001b[0m\n\u001b[0;31m    code here JOE\u001b[0m\n\u001b[0m            ^\u001b[0m\n\u001b[0;31mSyntaxError\u001b[0m\u001b[0;31m:\u001b[0m invalid syntax\n"
     ]
    }
   ],
   "source": [
    "code here JOE"
   ]
  },
  {
   "cell_type": "markdown",
   "metadata": {},
   "source": [
    "***Findings***: write summary here"
   ]
  },
  {
   "cell_type": "markdown",
   "metadata": {},
   "source": [
    "### If available, what are the genres of those top 5 grossing films? "
   ]
  },
  {
   "cell_type": "code",
   "execution_count": 81,
   "metadata": {
    "ExecuteTime": {
     "end_time": "2020-06-19T21:07:23.170122Z",
     "start_time": "2020-06-19T21:07:23.040721Z"
    }
   },
   "outputs": [
    {
     "data": {
      "text/html": [
       "<div>\n",
       "<style scoped>\n",
       "    .dataframe tbody tr th:only-of-type {\n",
       "        vertical-align: middle;\n",
       "    }\n",
       "\n",
       "    .dataframe tbody tr th {\n",
       "        vertical-align: top;\n",
       "    }\n",
       "\n",
       "    .dataframe thead th {\n",
       "        text-align: right;\n",
       "    }\n",
       "</style>\n",
       "<table border=\"1\" class=\"dataframe\">\n",
       "  <thead>\n",
       "    <tr style=\"text-align: right;\">\n",
       "      <th></th>\n",
       "      <th>Movie</th>\n",
       "      <th>runtime_minutes</th>\n",
       "      <th>genre_action</th>\n",
       "      <th>genre_adult</th>\n",
       "      <th>genre_adventure</th>\n",
       "      <th>genre_animation</th>\n",
       "      <th>genre_biography</th>\n",
       "      <th>genre_comedy</th>\n",
       "      <th>genre_crime</th>\n",
       "      <th>genre_documentary</th>\n",
       "      <th>genre_drama</th>\n",
       "      <th>genre_family</th>\n",
       "      <th>genre_fantasy</th>\n",
       "      <th>genre_gameshow</th>\n",
       "      <th>genre_history</th>\n",
       "      <th>genre_horror</th>\n",
       "      <th>genre_music</th>\n",
       "      <th>genre_musical</th>\n",
       "      <th>genre_mystery</th>\n",
       "      <th>genre_news</th>\n",
       "      <th>genre_realitytv</th>\n",
       "      <th>genre_romance</th>\n",
       "      <th>genre_scifi</th>\n",
       "      <th>genre_short</th>\n",
       "      <th>genre_sport</th>\n",
       "      <th>genre_talkshow</th>\n",
       "      <th>genre_thriller</th>\n",
       "      <th>genre_war</th>\n",
       "      <th>genre_western</th>\n",
       "    </tr>\n",
       "  </thead>\n",
       "  <tbody>\n",
       "    <tr>\n",
       "      <th>0</th>\n",
       "      <td>Avatar</td>\n",
       "      <td>93.0</td>\n",
       "      <td>0</td>\n",
       "      <td>0</td>\n",
       "      <td>0</td>\n",
       "      <td>0</td>\n",
       "      <td>0</td>\n",
       "      <td>0</td>\n",
       "      <td>0</td>\n",
       "      <td>0</td>\n",
       "      <td>0</td>\n",
       "      <td>0</td>\n",
       "      <td>0</td>\n",
       "      <td>0</td>\n",
       "      <td>0</td>\n",
       "      <td>1</td>\n",
       "      <td>0</td>\n",
       "      <td>0</td>\n",
       "      <td>0</td>\n",
       "      <td>0</td>\n",
       "      <td>0</td>\n",
       "      <td>0</td>\n",
       "      <td>0</td>\n",
       "      <td>0</td>\n",
       "      <td>0</td>\n",
       "      <td>0</td>\n",
       "      <td>0</td>\n",
       "      <td>0</td>\n",
       "      <td>0</td>\n",
       "    </tr>\n",
       "    <tr>\n",
       "      <th>1</th>\n",
       "      <td>Avengers: Infinity War</td>\n",
       "      <td>149.0</td>\n",
       "      <td>1</td>\n",
       "      <td>0</td>\n",
       "      <td>1</td>\n",
       "      <td>0</td>\n",
       "      <td>0</td>\n",
       "      <td>0</td>\n",
       "      <td>0</td>\n",
       "      <td>0</td>\n",
       "      <td>0</td>\n",
       "      <td>0</td>\n",
       "      <td>0</td>\n",
       "      <td>0</td>\n",
       "      <td>0</td>\n",
       "      <td>0</td>\n",
       "      <td>0</td>\n",
       "      <td>0</td>\n",
       "      <td>0</td>\n",
       "      <td>0</td>\n",
       "      <td>0</td>\n",
       "      <td>0</td>\n",
       "      <td>1</td>\n",
       "      <td>0</td>\n",
       "      <td>0</td>\n",
       "      <td>0</td>\n",
       "      <td>0</td>\n",
       "      <td>0</td>\n",
       "      <td>0</td>\n",
       "    </tr>\n",
       "    <tr>\n",
       "      <th>2</th>\n",
       "      <td>Black Panther</td>\n",
       "      <td>134.0</td>\n",
       "      <td>1</td>\n",
       "      <td>0</td>\n",
       "      <td>1</td>\n",
       "      <td>0</td>\n",
       "      <td>0</td>\n",
       "      <td>0</td>\n",
       "      <td>0</td>\n",
       "      <td>0</td>\n",
       "      <td>0</td>\n",
       "      <td>0</td>\n",
       "      <td>0</td>\n",
       "      <td>0</td>\n",
       "      <td>0</td>\n",
       "      <td>0</td>\n",
       "      <td>0</td>\n",
       "      <td>0</td>\n",
       "      <td>0</td>\n",
       "      <td>0</td>\n",
       "      <td>0</td>\n",
       "      <td>0</td>\n",
       "      <td>1</td>\n",
       "      <td>0</td>\n",
       "      <td>0</td>\n",
       "      <td>0</td>\n",
       "      <td>0</td>\n",
       "      <td>0</td>\n",
       "      <td>0</td>\n",
       "    </tr>\n",
       "    <tr>\n",
       "      <th>3</th>\n",
       "      <td>Star Wars: Episode VII - The Force Awakens</td>\n",
       "      <td>136.0</td>\n",
       "      <td>1</td>\n",
       "      <td>0</td>\n",
       "      <td>1</td>\n",
       "      <td>0</td>\n",
       "      <td>0</td>\n",
       "      <td>0</td>\n",
       "      <td>0</td>\n",
       "      <td>0</td>\n",
       "      <td>0</td>\n",
       "      <td>0</td>\n",
       "      <td>1</td>\n",
       "      <td>0</td>\n",
       "      <td>0</td>\n",
       "      <td>0</td>\n",
       "      <td>0</td>\n",
       "      <td>0</td>\n",
       "      <td>0</td>\n",
       "      <td>0</td>\n",
       "      <td>0</td>\n",
       "      <td>0</td>\n",
       "      <td>0</td>\n",
       "      <td>0</td>\n",
       "      <td>0</td>\n",
       "      <td>0</td>\n",
       "      <td>0</td>\n",
       "      <td>0</td>\n",
       "      <td>0</td>\n",
       "    </tr>\n",
       "    <tr>\n",
       "      <th>4</th>\n",
       "      <td>Titanic</td>\n",
       "      <td>115.0</td>\n",
       "      <td>0</td>\n",
       "      <td>0</td>\n",
       "      <td>0</td>\n",
       "      <td>0</td>\n",
       "      <td>0</td>\n",
       "      <td>0</td>\n",
       "      <td>0</td>\n",
       "      <td>0</td>\n",
       "      <td>0</td>\n",
       "      <td>1</td>\n",
       "      <td>0</td>\n",
       "      <td>0</td>\n",
       "      <td>0</td>\n",
       "      <td>0</td>\n",
       "      <td>0</td>\n",
       "      <td>0</td>\n",
       "      <td>0</td>\n",
       "      <td>0</td>\n",
       "      <td>0</td>\n",
       "      <td>0</td>\n",
       "      <td>0</td>\n",
       "      <td>0</td>\n",
       "      <td>0</td>\n",
       "      <td>0</td>\n",
       "      <td>0</td>\n",
       "      <td>0</td>\n",
       "      <td>0</td>\n",
       "    </tr>\n",
       "  </tbody>\n",
       "</table>\n",
       "</div>"
      ],
      "text/plain": [
       "                                        Movie  runtime_minutes genre_action  \\\n",
       "0                                      Avatar             93.0            0   \n",
       "1                      Avengers: Infinity War            149.0            1   \n",
       "2                               Black Panther            134.0            1   \n",
       "3  Star Wars: Episode VII - The Force Awakens            136.0            1   \n",
       "4                                     Titanic            115.0            0   \n",
       "\n",
       "  genre_adult genre_adventure genre_animation genre_biography genre_comedy  \\\n",
       "0           0               0               0               0            0   \n",
       "1           0               1               0               0            0   \n",
       "2           0               1               0               0            0   \n",
       "3           0               1               0               0            0   \n",
       "4           0               0               0               0            0   \n",
       "\n",
       "  genre_crime genre_documentary genre_drama genre_family genre_fantasy  \\\n",
       "0           0                 0           0            0             0   \n",
       "1           0                 0           0            0             0   \n",
       "2           0                 0           0            0             0   \n",
       "3           0                 0           0            0             1   \n",
       "4           0                 0           0            1             0   \n",
       "\n",
       "  genre_gameshow genre_history genre_horror genre_music genre_musical  \\\n",
       "0              0             0            1           0             0   \n",
       "1              0             0            0           0             0   \n",
       "2              0             0            0           0             0   \n",
       "3              0             0            0           0             0   \n",
       "4              0             0            0           0             0   \n",
       "\n",
       "  genre_mystery genre_news genre_realitytv genre_romance genre_scifi  \\\n",
       "0             0          0               0             0           0   \n",
       "1             0          0               0             0           1   \n",
       "2             0          0               0             0           1   \n",
       "3             0          0               0             0           0   \n",
       "4             0          0               0             0           0   \n",
       "\n",
       "  genre_short genre_sport genre_talkshow genre_thriller genre_war  \\\n",
       "0           0           0              0              0         0   \n",
       "1           0           0              0              0         0   \n",
       "2           0           0              0              0         0   \n",
       "3           0           0              0              0         0   \n",
       "4           0           0              0              0         0   \n",
       "\n",
       "  genre_western  \n",
       "0             0  \n",
       "1             0  \n",
       "2             0  \n",
       "3             0  \n",
       "4             0  "
      ]
     },
     "execution_count": 81,
     "metadata": {},
     "output_type": "execute_result"
    }
   ],
   "source": [
    "conn = sqlite3.connect('movie.db') \n",
    "cur = conn.cursor()\n",
    "\n",
    "cur.execute(\"\"\" \n",
    "SELECT primary_title as Movie, runtime_minutes, genre_action, genre_adult,\n",
    "genre_adventure, genre_animation, genre_biography, genre_comedy, \n",
    "genre_crime, genre_documentary, genre_drama, genre_family, genre_fantasy, \n",
    "genre_gameshow, genre_history, genre_horror, genre_music, genre_musical, \n",
    "genre_mystery, genre_news, genre_realitytv, genre_romance, genre_scifi, \n",
    "genre_short, genre_sport, genre_talkshow, genre_thriller, genre_war, genre_western\n",
    "FROM imdb_title_basics\n",
    "WHERE (primary_title like '%Star Wars%') & (primary_title like '%Force Awakens%') \n",
    "& (runtime_minutes IS NOT NULL) OR (primary_title == 'Avatar') OR \n",
    "(primary_title == 'Black Panther') OR (primary_title like '%Infinity War%') & \n",
    "(primary_title like '%Avengers%') OR (primary_title == 'Titanic')\n",
    "ORDER BY primary_title\n",
    ";\n",
    "\"\"\")\n",
    "\n",
    "pd.set_option('display.max_columns', None)\n",
    "dft = pd.DataFrame(cur.fetchall())\n",
    "dft.columns = (x[0] for x in cur.description)\n",
    "#print(dft.shape)\n",
    "#print(dft.info())\n",
    "\n",
    "dft.head()"
   ]
  },
  {
   "cell_type": "markdown",
   "metadata": {},
   "source": [
    "***Findings***: Leveraged the [imdb_title_basics] dataset to find the titles from top 5 grossing films and noted identified genres for each film. The genres include action, adventure, fantasy, horror, sci-fi and family"
   ]
  },
  {
   "cell_type": "markdown",
   "metadata": {},
   "source": [
    "## Top 5 grossing films by year"
   ]
  },
  {
   "cell_type": "markdown",
   "metadata": {},
   "source": [
    "### What are the titles of the films?"
   ]
  },
  {
   "cell_type": "code",
   "execution_count": 22,
   "metadata": {
    "ExecuteTime": {
     "end_time": "2020-06-19T18:11:46.218913Z",
     "start_time": "2020-06-19T18:11:46.182879Z"
    },
    "scrolled": true
   },
   "outputs": [
    {
     "data": {
      "text/html": [
       "<div>\n",
       "<style scoped>\n",
       "    .dataframe tbody tr th:only-of-type {\n",
       "        vertical-align: middle;\n",
       "    }\n",
       "\n",
       "    .dataframe tbody tr th {\n",
       "        vertical-align: top;\n",
       "    }\n",
       "\n",
       "    .dataframe thead th {\n",
       "        text-align: right;\n",
       "    }\n",
       "</style>\n",
       "<table border=\"1\" class=\"dataframe\">\n",
       "  <thead>\n",
       "    <tr style=\"text-align: right;\">\n",
       "      <th></th>\n",
       "      <th>year</th>\n",
       "      <th>domestic_gross</th>\n",
       "      <th>movie</th>\n",
       "    </tr>\n",
       "  </thead>\n",
       "  <tbody>\n",
       "    <tr>\n",
       "      <th>0</th>\n",
       "      <td>2015</td>\n",
       "      <td>936662225</td>\n",
       "      <td>Star Wars Ep. VII: The Force Awakens</td>\n",
       "    </tr>\n",
       "    <tr>\n",
       "      <th>1</th>\n",
       "      <td>2009</td>\n",
       "      <td>760507625</td>\n",
       "      <td>Avatar</td>\n",
       "    </tr>\n",
       "    <tr>\n",
       "      <th>2</th>\n",
       "      <td>2018</td>\n",
       "      <td>700059566</td>\n",
       "      <td>Black Panther</td>\n",
       "    </tr>\n",
       "    <tr>\n",
       "      <th>3</th>\n",
       "      <td>2018</td>\n",
       "      <td>678815482</td>\n",
       "      <td>Avengers: Infinity War</td>\n",
       "    </tr>\n",
       "    <tr>\n",
       "      <th>4</th>\n",
       "      <td>1997</td>\n",
       "      <td>659363944</td>\n",
       "      <td>Titanic</td>\n",
       "    </tr>\n",
       "  </tbody>\n",
       "</table>\n",
       "</div>"
      ],
      "text/plain": [
       "    year  domestic_gross                                 movie\n",
       "0   2015       936662225  Star Wars Ep. VII: The Force Awakens\n",
       "1   2009       760507625                                Avatar\n",
       "2   2018       700059566                         Black Panther\n",
       "3   2018       678815482                Avengers: Infinity War\n",
       "4   1997       659363944                               Titanic"
      ]
     },
     "execution_count": 22,
     "metadata": {},
     "output_type": "execute_result"
    }
   ],
   "source": [
    "conn = sqlite3.connect('movie.db') \n",
    "cur = conn.cursor()\n",
    "\n",
    "cur.execute(\"\"\" \n",
    "SELECT \n",
    "  DISTINCT year, domestic_gross, movie\n",
    "FROM tn_movie_budgets \n",
    "ORDER BY domestic_gross DESC\n",
    ";\n",
    "\"\"\")\n",
    "\n",
    "dft = pd.DataFrame(cur.fetchall())\n",
    "dft.columns = (x[0] for x in cur.description)\n",
    "#print(dft.shape)\n",
    "#print(dft.info())\n",
    "\n",
    "dft.head()"
   ]
  },
  {
   "cell_type": "markdown",
   "metadata": {},
   "source": [
    "***Findings***: The movie budget dataset shows us that two of the top five grossing films were released in 2018 and range back to 1997."
   ]
  },
  {
   "cell_type": "markdown",
   "metadata": {},
   "source": [
    "### What was the production cost?"
   ]
  },
  {
   "cell_type": "code",
   "execution_count": 23,
   "metadata": {
    "ExecuteTime": {
     "end_time": "2020-06-19T18:23:16.597114Z",
     "start_time": "2020-06-19T18:23:16.559585Z"
    }
   },
   "outputs": [
    {
     "data": {
      "text/html": [
       "<div>\n",
       "<style scoped>\n",
       "    .dataframe tbody tr th:only-of-type {\n",
       "        vertical-align: middle;\n",
       "    }\n",
       "\n",
       "    .dataframe tbody tr th {\n",
       "        vertical-align: top;\n",
       "    }\n",
       "\n",
       "    .dataframe thead th {\n",
       "        text-align: right;\n",
       "    }\n",
       "</style>\n",
       "<table border=\"1\" class=\"dataframe\">\n",
       "  <thead>\n",
       "    <tr style=\"text-align: right;\">\n",
       "      <th></th>\n",
       "      <th>year</th>\n",
       "      <th>production_budget</th>\n",
       "      <th>movie</th>\n",
       "    </tr>\n",
       "  </thead>\n",
       "  <tbody>\n",
       "    <tr>\n",
       "      <th>0</th>\n",
       "      <td>2015</td>\n",
       "      <td>306000000</td>\n",
       "      <td>Star Wars Ep. VII: The Force Awakens</td>\n",
       "    </tr>\n",
       "    <tr>\n",
       "      <th>1</th>\n",
       "      <td>2009</td>\n",
       "      <td>425000000</td>\n",
       "      <td>Avatar</td>\n",
       "    </tr>\n",
       "    <tr>\n",
       "      <th>2</th>\n",
       "      <td>2018</td>\n",
       "      <td>200000000</td>\n",
       "      <td>Black Panther</td>\n",
       "    </tr>\n",
       "    <tr>\n",
       "      <th>3</th>\n",
       "      <td>2018</td>\n",
       "      <td>300000000</td>\n",
       "      <td>Avengers: Infinity War</td>\n",
       "    </tr>\n",
       "    <tr>\n",
       "      <th>4</th>\n",
       "      <td>1997</td>\n",
       "      <td>200000000</td>\n",
       "      <td>Titanic</td>\n",
       "    </tr>\n",
       "  </tbody>\n",
       "</table>\n",
       "</div>"
      ],
      "text/plain": [
       "    year  production_budget                                 movie\n",
       "0   2015          306000000  Star Wars Ep. VII: The Force Awakens\n",
       "1   2009          425000000                                Avatar\n",
       "2   2018          200000000                         Black Panther\n",
       "3   2018          300000000                Avengers: Infinity War\n",
       "4   1997          200000000                               Titanic"
      ]
     },
     "execution_count": 23,
     "metadata": {},
     "output_type": "execute_result"
    }
   ],
   "source": [
    "conn = sqlite3.connect('movie.db') \n",
    "cur = conn.cursor()\n",
    "\n",
    "cur.execute(\"\"\" \n",
    "SELECT \n",
    "  DISTINCT year, production_budget, movie\n",
    "FROM tn_movie_budgets \n",
    "ORDER BY domestic_gross DESC\n",
    ";\n",
    "\"\"\")\n",
    "\n",
    "dft = pd.DataFrame(cur.fetchall())\n",
    "dft.columns = (x[0] for x in cur.description)\n",
    "#print(dft.shape)\n",
    "#print(dft.info())\n",
    "\n",
    "dft.head()"
   ]
  },
  {
   "cell_type": "markdown",
   "metadata": {},
   "source": [
    "***Findings***: The data show that the lowest budget spanned 20 years between productions at a constant $200 million and ranges to $425 million for the most expensive budget."
   ]
  },
  {
   "cell_type": "markdown",
   "metadata": {},
   "source": [
    "### What was the runtime?"
   ]
  },
  {
   "cell_type": "code",
   "execution_count": 88,
   "metadata": {
    "ExecuteTime": {
     "end_time": "2020-06-19T21:13:07.445934Z",
     "start_time": "2020-06-19T21:13:07.329478Z"
    }
   },
   "outputs": [
    {
     "data": {
      "text/html": [
       "<div>\n",
       "<style scoped>\n",
       "    .dataframe tbody tr th:only-of-type {\n",
       "        vertical-align: middle;\n",
       "    }\n",
       "\n",
       "    .dataframe tbody tr th {\n",
       "        vertical-align: top;\n",
       "    }\n",
       "\n",
       "    .dataframe thead th {\n",
       "        text-align: right;\n",
       "    }\n",
       "</style>\n",
       "<table border=\"1\" class=\"dataframe\">\n",
       "  <thead>\n",
       "    <tr style=\"text-align: right;\">\n",
       "      <th></th>\n",
       "      <th>Movie</th>\n",
       "      <th>runtime_minutes</th>\n",
       "    </tr>\n",
       "  </thead>\n",
       "  <tbody>\n",
       "    <tr>\n",
       "      <th>0</th>\n",
       "      <td>Avatar</td>\n",
       "      <td>93.0</td>\n",
       "    </tr>\n",
       "    <tr>\n",
       "      <th>1</th>\n",
       "      <td>Titanic</td>\n",
       "      <td>115.0</td>\n",
       "    </tr>\n",
       "    <tr>\n",
       "      <th>2</th>\n",
       "      <td>Black Panther</td>\n",
       "      <td>134.0</td>\n",
       "    </tr>\n",
       "    <tr>\n",
       "      <th>3</th>\n",
       "      <td>Star Wars: Episode VII - The Force Awakens</td>\n",
       "      <td>136.0</td>\n",
       "    </tr>\n",
       "    <tr>\n",
       "      <th>4</th>\n",
       "      <td>Avengers: Infinity War</td>\n",
       "      <td>149.0</td>\n",
       "    </tr>\n",
       "  </tbody>\n",
       "</table>\n",
       "</div>"
      ],
      "text/plain": [
       "                                        Movie  runtime_minutes\n",
       "0                                      Avatar             93.0\n",
       "1                                     Titanic            115.0\n",
       "2                               Black Panther            134.0\n",
       "3  Star Wars: Episode VII - The Force Awakens            136.0\n",
       "4                      Avengers: Infinity War            149.0"
      ]
     },
     "execution_count": 88,
     "metadata": {},
     "output_type": "execute_result"
    }
   ],
   "source": [
    "conn = sqlite3.connect('movie.db') \n",
    "cur = conn.cursor()\n",
    "\n",
    "cur.execute(\"\"\" \n",
    "SELECT primary_title as Movie, runtime_minutes\n",
    "FROM imdb_title_basics\n",
    "WHERE (primary_title like '%Star Wars%') & (primary_title like '%Force Awakens%') \n",
    "& (runtime_minutes IS NOT NULL) OR (primary_title == 'Avatar') OR \n",
    "(primary_title == 'Black Panther') OR (primary_title like '%Infinity War%') & \n",
    "(primary_title like '%Avengers%') OR (primary_title == 'Titanic') & (runtime_minutes IS NOT NULL)\n",
    "ORDER BY runtime_minutes\n",
    ";\n",
    "\"\"\")\n",
    "\n",
    "\n",
    "dft = pd.DataFrame(cur.fetchall())\n",
    "dft.columns = (x[0] for x in cur.description)\n",
    "#print(dft.shape)\n",
    "#print(dft.info())\n",
    "\n",
    "dft"
   ]
  },
  {
   "cell_type": "markdown",
   "metadata": {},
   "source": [
    "***Findings***: From the IMDB dataset, we can see that the movies ranged in runtime from 93 — 149 minutes."
   ]
  },
  {
   "cell_type": "markdown",
   "metadata": {},
   "source": [
    "## Most recently, what has been the average production cost? "
   ]
  },
  {
   "cell_type": "code",
   "execution_count": null,
   "metadata": {},
   "outputs": [],
   "source": [
    "code here: JOE"
   ]
  },
  {
   "cell_type": "markdown",
   "metadata": {},
   "source": [
    "***Findings***: write summary here >> [tn_movie_budgets]: use median of production_budget"
   ]
  },
  {
   "cell_type": "markdown",
   "metadata": {},
   "source": [
    "## Which 5 genres had the highest box office revenue?\n",
    "\n",
    "In the Rotten Tomatoes dataset, Is there a common genre associated with highest box office revenue?"
   ]
  },
  {
   "cell_type": "code",
   "execution_count": 117,
   "metadata": {
    "ExecuteTime": {
     "end_time": "2020-06-19T21:51:21.895706Z",
     "start_time": "2020-06-19T21:51:21.844081Z"
    }
   },
   "outputs": [
    {
     "data": {
      "text/html": [
       "<div>\n",
       "<style scoped>\n",
       "    .dataframe tbody tr th:only-of-type {\n",
       "        vertical-align: middle;\n",
       "    }\n",
       "\n",
       "    .dataframe tbody tr th {\n",
       "        vertical-align: top;\n",
       "    }\n",
       "\n",
       "    .dataframe thead th {\n",
       "        text-align: right;\n",
       "    }\n",
       "</style>\n",
       "<table border=\"1\" class=\"dataframe\">\n",
       "  <thead>\n",
       "    <tr style=\"text-align: right;\">\n",
       "      <th></th>\n",
       "      <th>rating</th>\n",
       "      <th>box_office</th>\n",
       "      <th>genre_action</th>\n",
       "      <th>genre_adventure</th>\n",
       "      <th>genre_animation</th>\n",
       "      <th>genre_classics</th>\n",
       "      <th>genre_comedy</th>\n",
       "      <th>genre_documentary</th>\n",
       "      <th>genre_drama</th>\n",
       "      <th>genre_horror</th>\n",
       "      <th>genre_international</th>\n",
       "      <th>genre_kids</th>\n",
       "      <th>genre_muscial</th>\n",
       "      <th>genre_mystery</th>\n",
       "      <th>genre_scifi</th>\n",
       "      <th>genre_spirituality</th>\n",
       "      <th>genre_sports</th>\n",
       "      <th>genre_romance</th>\n",
       "      <th>genre_television</th>\n",
       "      <th>genre_western</th>\n",
       "    </tr>\n",
       "  </thead>\n",
       "  <tbody>\n",
       "    <tr>\n",
       "      <th>0</th>\n",
       "      <td>3/4</td>\n",
       "      <td>368000000.0</td>\n",
       "      <td>0</td>\n",
       "      <td>0</td>\n",
       "      <td>0</td>\n",
       "      <td>0</td>\n",
       "      <td>0</td>\n",
       "      <td>0</td>\n",
       "      <td>1</td>\n",
       "      <td>0</td>\n",
       "      <td>0</td>\n",
       "      <td>0</td>\n",
       "      <td>0</td>\n",
       "      <td>0</td>\n",
       "      <td>0</td>\n",
       "      <td>0</td>\n",
       "      <td>0</td>\n",
       "      <td>0</td>\n",
       "      <td>0</td>\n",
       "      <td>0</td>\n",
       "    </tr>\n",
       "    <tr>\n",
       "      <th>1</th>\n",
       "      <td>2.5/5</td>\n",
       "      <td>303001229.0</td>\n",
       "      <td>1</td>\n",
       "      <td>1</td>\n",
       "      <td>0</td>\n",
       "      <td>0</td>\n",
       "      <td>0</td>\n",
       "      <td>0</td>\n",
       "      <td>0</td>\n",
       "      <td>0</td>\n",
       "      <td>0</td>\n",
       "      <td>0</td>\n",
       "      <td>0</td>\n",
       "      <td>0</td>\n",
       "      <td>1</td>\n",
       "      <td>0</td>\n",
       "      <td>0</td>\n",
       "      <td>0</td>\n",
       "      <td>0</td>\n",
       "      <td>0</td>\n",
       "    </tr>\n",
       "    <tr>\n",
       "      <th>2</th>\n",
       "      <td>7</td>\n",
       "      <td>299300000.0</td>\n",
       "      <td>1</td>\n",
       "      <td>1</td>\n",
       "      <td>0</td>\n",
       "      <td>0</td>\n",
       "      <td>0</td>\n",
       "      <td>0</td>\n",
       "      <td>0</td>\n",
       "      <td>0</td>\n",
       "      <td>0</td>\n",
       "      <td>0</td>\n",
       "      <td>0</td>\n",
       "      <td>1</td>\n",
       "      <td>0</td>\n",
       "      <td>0</td>\n",
       "      <td>0</td>\n",
       "      <td>0</td>\n",
       "      <td>0</td>\n",
       "      <td>0</td>\n",
       "    </tr>\n",
       "    <tr>\n",
       "      <th>3</th>\n",
       "      <td>3.5/4</td>\n",
       "      <td>279167575.0</td>\n",
       "      <td>0</td>\n",
       "      <td>0</td>\n",
       "      <td>0</td>\n",
       "      <td>0</td>\n",
       "      <td>1</td>\n",
       "      <td>0</td>\n",
       "      <td>0</td>\n",
       "      <td>0</td>\n",
       "      <td>0</td>\n",
       "      <td>0</td>\n",
       "      <td>0</td>\n",
       "      <td>0</td>\n",
       "      <td>0</td>\n",
       "      <td>0</td>\n",
       "      <td>0</td>\n",
       "      <td>0</td>\n",
       "      <td>0</td>\n",
       "      <td>0</td>\n",
       "    </tr>\n",
       "    <tr>\n",
       "      <th>4</th>\n",
       "      <td>B-</td>\n",
       "      <td>261835892.0</td>\n",
       "      <td>0</td>\n",
       "      <td>0</td>\n",
       "      <td>0</td>\n",
       "      <td>0</td>\n",
       "      <td>0</td>\n",
       "      <td>0</td>\n",
       "      <td>0</td>\n",
       "      <td>0</td>\n",
       "      <td>0</td>\n",
       "      <td>1</td>\n",
       "      <td>0</td>\n",
       "      <td>0</td>\n",
       "      <td>1</td>\n",
       "      <td>0</td>\n",
       "      <td>0</td>\n",
       "      <td>0</td>\n",
       "      <td>0</td>\n",
       "      <td>0</td>\n",
       "    </tr>\n",
       "  </tbody>\n",
       "</table>\n",
       "</div>"
      ],
      "text/plain": [
       "  rating   box_office genre_action genre_adventure genre_animation  \\\n",
       "0    3/4  368000000.0            0               0               0   \n",
       "1  2.5/5  303001229.0            1               1               0   \n",
       "2      7  299300000.0            1               1               0   \n",
       "3  3.5/4  279167575.0            0               0               0   \n",
       "4     B-  261835892.0            0               0               0   \n",
       "\n",
       "  genre_classics genre_comedy genre_documentary genre_drama genre_horror  \\\n",
       "0              0            0                 0           1            0   \n",
       "1              0            0                 0           0            0   \n",
       "2              0            0                 0           0            0   \n",
       "3              0            1                 0           0            0   \n",
       "4              0            0                 0           0            0   \n",
       "\n",
       "  genre_international genre_kids genre_muscial genre_mystery genre_scifi  \\\n",
       "0                   0          0             0             0           0   \n",
       "1                   0          0             0             0           1   \n",
       "2                   0          0             0             1           0   \n",
       "3                   0          0             0             0           0   \n",
       "4                   0          1             0             0           1   \n",
       "\n",
       "  genre_spirituality genre_sports genre_romance genre_television genre_western  \n",
       "0                  0            0             0                0             0  \n",
       "1                  0            0             0                0             0  \n",
       "2                  0            0             0                0             0  \n",
       "3                  0            0             0                0             0  \n",
       "4                  0            0             0                0             0  "
      ]
     },
     "execution_count": 117,
     "metadata": {},
     "output_type": "execute_result"
    }
   ],
   "source": [
    "conn = sqlite3.connect('movie.db') \n",
    "cur = conn.cursor()\n",
    "\n",
    "cur.execute(\"\"\" \n",
    "SELECT rating, box_office, genre_action, genre_adventure, genre_animation, genre_classics, \n",
    "genre_comedy, genre_documentary, genre_drama, \n",
    "genre_horror, genre_international, genre_kids, \n",
    "genre_muscial, genre_mystery, genre_scifi, \n",
    "genre_spirituality, genre_sports, genre_romance,\n",
    "genre_television, genre_western\n",
    "FROM rt_reviews\n",
    "JOIN rt_movie_info\n",
    "USING('pid')  \n",
    "ORDER BY box_office DESC\n",
    "LIMIT 5;\"\"\")\n",
    "\n",
    "pd.set_option('display.max_columns', None)\n",
    "dfgBox = pd.DataFrame(cur.fetchall())\n",
    "dfgBox.columns = (x[0] for x in cur.description)\n",
    "#print(dft.shape)\n",
    "#print(dft.info())\n",
    "dfgBox"
   ]
  },
  {
   "cell_type": "markdown",
   "metadata": {},
   "source": [
    "***Findings***: Films with the highest box office revenue are primarily distributed within the action, adventure, comedy, kids, mystery, sci-fi and drama genres"
   ]
  },
  {
   "cell_type": "markdown",
   "metadata": {},
   "source": [
    "## Data Visualization"
   ]
  },
  {
   "cell_type": "code",
   "execution_count": 136,
   "metadata": {
    "ExecuteTime": {
     "end_time": "2020-06-19T22:00:57.539009Z",
     "start_time": "2020-06-19T22:00:57.287545Z"
    }
   },
   "outputs": [
    {
     "data": {
      "text/plain": [
       "<matplotlib.axes._subplots.AxesSubplot at 0x7fac65f5ea50>"
      ]
     },
     "execution_count": 136,
     "metadata": {},
     "output_type": "execute_result"
    },
    {
     "data": {
      "image/png": "[encoded data removed]",
      "text/plain": [
       "<Figure size 432x288 with 1 Axes>"
      ]
     },
     "metadata": {
      "needs_background": "light"
     },
     "output_type": "display_data"
    }
   ],
   "source": [
    "conn = sqlite3.connect('movie.db') \n",
    "cur = conn.cursor()\n",
    "\n",
    "cur.execute(\"\"\" \n",
    "SELECT rating, box_office, genre_action, genre_adventure, genre_animation, genre_classics, \n",
    "genre_comedy, genre_documentary, genre_drama, \n",
    "genre_horror, genre_international, genre_kids, \n",
    "genre_muscial, genre_mystery, genre_scifi, \n",
    "genre_spirituality, genre_sports, genre_romance,\n",
    "genre_television, genre_western\n",
    "FROM rt_reviews\n",
    "JOIN rt_movie_info\n",
    "USING('pid')  \n",
    "ORDER BY box_office DESC\n",
    "LIMIT 5;\"\"\")\n",
    "\n",
    "dfgBox = pd.DataFrame(cur.fetchall())\n",
    "dfgBox.columns = (x[0] for x in cur.description)\n",
    "#dfgBoxList = dfgBox.values.tolist()\n",
    "cols = list(dfgBox.columns)\n",
    "genre_cols = cols[3:]\n",
    "genre_count = {}\n",
    "for col in genre_cols:\n",
    "    count = np.sum(dfgBox[col] != '0').sum() \n",
    "    genre_count[col] = count\n",
    "    \n",
    "genre_count   \n",
    "\n",
    "keys = list(genre_count.keys())\n",
    "values = list(genre_count.values())\n",
    "\n",
    "sns.barplot(y = keys, x = values, color = 'blue')"
   ]
  },
  {
   "cell_type": "markdown",
   "metadata": {},
   "source": [
    "***Findings***: write summary here"
   ]
  }
 ],
 "metadata": {
  "kernelspec": {
   "display_name": "learn-env",
   "language": "python",
   "name": "learn-env"
  },
  "language_info": {
   "codemirror_mode": {
    "name": "ipython",
    "version": 3
   },
   "file_extension": ".py",
   "mimetype": "text/x-python",
   "name": "python",
   "nbconvert_exporter": "python",
   "pygments_lexer": "ipython3",
   "version": "3.7.6"
  },
  "toc": {
   "base_numbering": 1,
   "nav_menu": {},
   "number_sections": true,
   "sideBar": true,
   "skip_h1_title": false,
   "title_cell": "Table of Contents",
   "title_sidebar": "Contents",
   "toc_cell": false,
   "toc_position": {},
   "toc_section_display": true,
   "toc_window_display": false
  },
  "varInspector": {
   "cols": {
    "lenName": 16,
    "lenType": 16,
    "lenVar": 40
   },
   "kernels_config": {
    "python": {
     "delete_cmd_postfix": "",
     "delete_cmd_prefix": "del ",
     "library": "var_list.py",
     "varRefreshCmd": "print(var_dic_list())"
    },
    "r": {
     "delete_cmd_postfix": ") ",
     "delete_cmd_prefix": "rm(",
     "library": "var_list.r",
     "varRefreshCmd": "cat(var_dic_list()) "
    }
   },
   "position": {
    "height": "416px",
    "left": "1070px",
    "right": "20px",
    "top": "118px",
    "width": "350px"
   },
   "types_to_exclude": [
    "module",
    "function",
    "builtin_function_or_method",
    "instance",
    "_Feature"
   ],
   "window_display": false
  }
 },
 "nbformat": 4,
 "nbformat_minor": 2
}
